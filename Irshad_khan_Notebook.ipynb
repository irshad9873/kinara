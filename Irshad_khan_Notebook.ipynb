{
  "nbformat": 4,
  "nbformat_minor": 0,
  "metadata": {
    "colab": {
      "provenance": [],
      "collapsed_sections": [],
      "include_colab_link": true
    },
    "kernelspec": {
      "name": "python3",
      "display_name": "Python 3"
    },
    "language_info": {
      "name": "python"
    }
  },
  "cells": [
    {
      "cell_type": "markdown",
      "metadata": {
        "id": "view-in-github",
        "colab_type": "text"
      },
      "source": [
        "<a href=\"https://colab.research.google.com/github/irshad9873/kinara/blob/main/Irshad_khan_Notebook.ipynb\" target=\"_parent\"><img src=\"https://colab.research.google.com/assets/colab-badge.svg\" alt=\"Open In Colab\"/></a>"
      ]
    },
    {
      "cell_type": "markdown",
      "source": [
        "# **Problem Description**"
      ],
      "metadata": {
        "id": "vCGYSpH5T7iU"
      }
    },
    {
      "cell_type": "markdown",
      "source": [
        "Build a single dataset from the various tables in the database. Please do this in the notebook and show the queries you used. The idea here is to demonstrate your ability to write SQL code, rather than your ability to use Pandas or R to read in the different tables and merge. So, write SQL queries to do the merging.\n",
        "\n",
        "Clean the dataset as required. A couple of hints: (1) you can infer the label of an observation based on the existence of an account number. (2) Categorize cibil scores. (3) Create a variable called collateral which takes the values secured or unsecured depending on whether the product type is secured or not (see the dictionary). (4) Deal with missing values. Explain what approaches you took.\n",
        "\n",
        "Conduct Exploratory Analysis and generate hypotheses. (1) You should be able to show the distribution using density plots or box plots of all the quantitative variables and histograms for the qualitative ones. (2) Explore the relationship between individual features and the label. This should take the form of scatter plots or bar charts, etc. (3) Are the bivariate relationships statistically significant? How do you know? (4) What hypotheses would you formulate from this analysis.\n",
        "\n",
        "Build a model with the few features you have to predict the label. Explain which features you used and why Explain which algorithm you chose to use and why. Is your model any good? How do you know?"
      ],
      "metadata": {
        "id": "9POUnXDGUBDl"
      }
    },
    {
      "cell_type": "code",
      "source": [
        "from sklearn.preprocessing import StandardScaler\n",
        "from sklearn.model_selection import train_test_split\n",
        "from sklearn.linear_model import LogisticRegression\n",
        "from sklearn.model_selection import GridSearchCV\n",
        "\n",
        "from sklearn.metrics import accuracy_score, recall_score, precision_score, f1_score, roc_auc_score, confusion_matrix, roc_curve, auc\n",
        "\n",
        "from sklearn.svm import SVC"
      ],
      "metadata": {
        "id": "xZ64g7cTgI2h"
      },
      "execution_count": null,
      "outputs": []
    },
    {
      "cell_type": "code",
      "execution_count": null,
      "metadata": {
        "colab": {
          "base_uri": "https://localhost:8080/"
        },
        "id": "f5WgeFzeoapi",
        "outputId": "9324641e-0388-4ba5-ead3-e97a31421cad"
      },
      "outputs": [
        {
          "output_type": "stream",
          "name": "stdout",
          "text": [
            "Mounted at /content/drive\n"
          ]
        }
      ],
      "source": [
        "from google.colab import drive\n",
        "drive.mount('/content/drive')"
      ]
    },
    {
      "cell_type": "code",
      "source": [
        "!pip install pymysql\n",
        "import pandas as pd\n",
        "from sqlalchemy import create_engine\n",
        "from sqlalchemy.pool import NullPool\n",
        "def sql(query:'Write the query here .'):\n",
        "    '''\n",
        "    This function fetches data from database and returns the result.\n",
        "    '''\n",
        "    try:\n",
        "        engine_db = create_engine('sqlite:///////content/kinara_assessment_20190807.db', poolclass=NullPool )\n",
        "        conn = engine_db.connect()\n",
        "        # Reading Data\n",
        "        df = pd.read_sql_query(query, conn)\n",
        "\n",
        "        #if your connection object is named conn\n",
        "        if not conn.closed:\n",
        "            conn.close()\n",
        "        engine_db.dispose()\n",
        "        return df\n",
        "    except Exception as e:\n",
        "        print(e)"
      ],
      "metadata": {
        "colab": {
          "base_uri": "https://localhost:8080/"
        },
        "id": "paIkM2iqqaqg",
        "outputId": "842a1e20-0f5c-4ab7-fb90-20af4cebb56b"
      },
      "execution_count": null,
      "outputs": [
        {
          "output_type": "stream",
          "name": "stdout",
          "text": [
            "Looking in indexes: https://pypi.org/simple, https://us-python.pkg.dev/colab-wheels/public/simple/\n",
            "Collecting pymysql\n",
            "  Downloading PyMySQL-1.0.2-py3-none-any.whl (43 kB)\n",
            "\u001b[K     |████████████████████████████████| 43 kB 2.1 MB/s \n",
            "\u001b[?25hInstalling collected packages: pymysql\n",
            "Successfully installed pymysql-1.0.2\n"
          ]
        }
      ]
    },
    {
      "cell_type": "code",
      "source": [
        "import seaborn as sns"
      ],
      "metadata": {
        "id": "GRsOoEXxBXrx"
      },
      "execution_count": null,
      "outputs": []
    },
    {
      "cell_type": "code",
      "source": [
        "from matplotlib import pyplot as plt"
      ],
      "metadata": {
        "id": "WpQAPe88IaRW"
      },
      "execution_count": null,
      "outputs": []
    },
    {
      "cell_type": "markdown",
      "source": [
        "('loan_information',)\n",
        "('enterprise_information',)\n",
        "('scores_information',)\n",
        "('disbursement_information',)"
      ],
      "metadata": {
        "id": "37Bp-NMUr0vV"
      }
    },
    {
      "cell_type": "code",
      "source": [
        "#load loan infromation data\n",
        "sql('''select * from loan_information\n",
        "limit 3''')"
      ],
      "metadata": {
        "colab": {
          "base_uri": "https://localhost:8080/",
          "height": 143
        },
        "id": "imLXYjJ_qaoN",
        "outputId": "ed28659d-85b3-4e33-d23a-e9896792fe7c"
      },
      "execution_count": null,
      "outputs": [
        {
          "output_type": "execute_result",
          "data": {
            "text/plain": [
              "   loan_id account_number  customer_id  enterprise_id screening_date  \\\n",
              "0    29321           None        71846        24500.0     2018-04-19   \n",
              "1    13613   TLWCU0003070        31083        10723.0     2017-08-10   \n",
              "2    13921           None        31928        11002.0     2017-08-17   \n",
              "\n",
              "  product_code  hub_id  \n",
              "0         None      53  \n",
              "1        TLWCU      39  \n",
              "2         None      56  "
            ],
            "text/html": [
              "\n",
              "  <div id=\"df-aac85c27-fbd8-4584-95e6-ea9c4e390764\">\n",
              "    <div class=\"colab-df-container\">\n",
              "      <div>\n",
              "<style scoped>\n",
              "    .dataframe tbody tr th:only-of-type {\n",
              "        vertical-align: middle;\n",
              "    }\n",
              "\n",
              "    .dataframe tbody tr th {\n",
              "        vertical-align: top;\n",
              "    }\n",
              "\n",
              "    .dataframe thead th {\n",
              "        text-align: right;\n",
              "    }\n",
              "</style>\n",
              "<table border=\"1\" class=\"dataframe\">\n",
              "  <thead>\n",
              "    <tr style=\"text-align: right;\">\n",
              "      <th></th>\n",
              "      <th>loan_id</th>\n",
              "      <th>account_number</th>\n",
              "      <th>customer_id</th>\n",
              "      <th>enterprise_id</th>\n",
              "      <th>screening_date</th>\n",
              "      <th>product_code</th>\n",
              "      <th>hub_id</th>\n",
              "    </tr>\n",
              "  </thead>\n",
              "  <tbody>\n",
              "    <tr>\n",
              "      <th>0</th>\n",
              "      <td>29321</td>\n",
              "      <td>None</td>\n",
              "      <td>71846</td>\n",
              "      <td>24500.0</td>\n",
              "      <td>2018-04-19</td>\n",
              "      <td>None</td>\n",
              "      <td>53</td>\n",
              "    </tr>\n",
              "    <tr>\n",
              "      <th>1</th>\n",
              "      <td>13613</td>\n",
              "      <td>TLWCU0003070</td>\n",
              "      <td>31083</td>\n",
              "      <td>10723.0</td>\n",
              "      <td>2017-08-10</td>\n",
              "      <td>TLWCU</td>\n",
              "      <td>39</td>\n",
              "    </tr>\n",
              "    <tr>\n",
              "      <th>2</th>\n",
              "      <td>13921</td>\n",
              "      <td>None</td>\n",
              "      <td>31928</td>\n",
              "      <td>11002.0</td>\n",
              "      <td>2017-08-17</td>\n",
              "      <td>None</td>\n",
              "      <td>56</td>\n",
              "    </tr>\n",
              "  </tbody>\n",
              "</table>\n",
              "</div>\n",
              "      <button class=\"colab-df-convert\" onclick=\"convertToInteractive('df-aac85c27-fbd8-4584-95e6-ea9c4e390764')\"\n",
              "              title=\"Convert this dataframe to an interactive table.\"\n",
              "              style=\"display:none;\">\n",
              "        \n",
              "  <svg xmlns=\"http://www.w3.org/2000/svg\" height=\"24px\"viewBox=\"0 0 24 24\"\n",
              "       width=\"24px\">\n",
              "    <path d=\"M0 0h24v24H0V0z\" fill=\"none\"/>\n",
              "    <path d=\"M18.56 5.44l.94 2.06.94-2.06 2.06-.94-2.06-.94-.94-2.06-.94 2.06-2.06.94zm-11 1L8.5 8.5l.94-2.06 2.06-.94-2.06-.94L8.5 2.5l-.94 2.06-2.06.94zm10 10l.94 2.06.94-2.06 2.06-.94-2.06-.94-.94-2.06-.94 2.06-2.06.94z\"/><path d=\"M17.41 7.96l-1.37-1.37c-.4-.4-.92-.59-1.43-.59-.52 0-1.04.2-1.43.59L10.3 9.45l-7.72 7.72c-.78.78-.78 2.05 0 2.83L4 21.41c.39.39.9.59 1.41.59.51 0 1.02-.2 1.41-.59l7.78-7.78 2.81-2.81c.8-.78.8-2.07 0-2.86zM5.41 20L4 18.59l7.72-7.72 1.47 1.35L5.41 20z\"/>\n",
              "  </svg>\n",
              "      </button>\n",
              "      \n",
              "  <style>\n",
              "    .colab-df-container {\n",
              "      display:flex;\n",
              "      flex-wrap:wrap;\n",
              "      gap: 12px;\n",
              "    }\n",
              "\n",
              "    .colab-df-convert {\n",
              "      background-color: #E8F0FE;\n",
              "      border: none;\n",
              "      border-radius: 50%;\n",
              "      cursor: pointer;\n",
              "      display: none;\n",
              "      fill: #1967D2;\n",
              "      height: 32px;\n",
              "      padding: 0 0 0 0;\n",
              "      width: 32px;\n",
              "    }\n",
              "\n",
              "    .colab-df-convert:hover {\n",
              "      background-color: #E2EBFA;\n",
              "      box-shadow: 0px 1px 2px rgba(60, 64, 67, 0.3), 0px 1px 3px 1px rgba(60, 64, 67, 0.15);\n",
              "      fill: #174EA6;\n",
              "    }\n",
              "\n",
              "    [theme=dark] .colab-df-convert {\n",
              "      background-color: #3B4455;\n",
              "      fill: #D2E3FC;\n",
              "    }\n",
              "\n",
              "    [theme=dark] .colab-df-convert:hover {\n",
              "      background-color: #434B5C;\n",
              "      box-shadow: 0px 1px 3px 1px rgba(0, 0, 0, 0.15);\n",
              "      filter: drop-shadow(0px 1px 2px rgba(0, 0, 0, 0.3));\n",
              "      fill: #FFFFFF;\n",
              "    }\n",
              "  </style>\n",
              "\n",
              "      <script>\n",
              "        const buttonEl =\n",
              "          document.querySelector('#df-aac85c27-fbd8-4584-95e6-ea9c4e390764 button.colab-df-convert');\n",
              "        buttonEl.style.display =\n",
              "          google.colab.kernel.accessAllowed ? 'block' : 'none';\n",
              "\n",
              "        async function convertToInteractive(key) {\n",
              "          const element = document.querySelector('#df-aac85c27-fbd8-4584-95e6-ea9c4e390764');\n",
              "          const dataTable =\n",
              "            await google.colab.kernel.invokeFunction('convertToInteractive',\n",
              "                                                     [key], {});\n",
              "          if (!dataTable) return;\n",
              "\n",
              "          const docLinkHtml = 'Like what you see? Visit the ' +\n",
              "            '<a target=\"_blank\" href=https://colab.research.google.com/notebooks/data_table.ipynb>data table notebook</a>'\n",
              "            + ' to learn more about interactive tables.';\n",
              "          element.innerHTML = '';\n",
              "          dataTable['output_type'] = 'display_data';\n",
              "          await google.colab.output.renderOutput(dataTable, element);\n",
              "          const docLink = document.createElement('div');\n",
              "          docLink.innerHTML = docLinkHtml;\n",
              "          element.appendChild(docLink);\n",
              "        }\n",
              "      </script>\n",
              "    </div>\n",
              "  </div>\n",
              "  "
            ]
          },
          "metadata": {},
          "execution_count": 6
        }
      ]
    },
    {
      "cell_type": "code",
      "source": [
        "sql(''' select * from scores_information ''')"
      ],
      "metadata": {
        "colab": {
          "base_uri": "https://localhost:8080/",
          "height": 424
        },
        "id": "MCDAulp1qajf",
        "outputId": "779ec440-0115-496c-b58a-06e7861102cf"
      },
      "execution_count": null,
      "outputs": [
        {
          "output_type": "execute_result",
          "data": {
            "text/plain": [
              "      loan_id  ManagAgeui_APP BusinFormalityOfTheBusinessui  \\\n",
              "0       29321            27.0                          None   \n",
              "1       13613            30.0              Invoice & Banked   \n",
              "2       13921            55.0                          None   \n",
              "3       16520            26.0                          None   \n",
              "4       49742            30.0             Cash & Non Banked   \n",
              "...       ...             ...                           ...   \n",
              "2471    15639            49.0             Cash & Non Banked   \n",
              "2472    14122            43.0             Cash & Non Banked   \n",
              "2473     3420            28.0              Invoice & Banked   \n",
              "2474    42491            53.0              Invoice & Banked   \n",
              "2475    63044            28.0                          None   \n",
              "\n",
              "      ManagCBscoreui_APP  \n",
              "0                  776.0  \n",
              "1                  616.0  \n",
              "2                  793.0  \n",
              "3                  781.0  \n",
              "4                  689.0  \n",
              "...                  ...  \n",
              "2471               536.0  \n",
              "2472               760.0  \n",
              "2473               802.0  \n",
              "2474               773.0  \n",
              "2475               776.0  \n",
              "\n",
              "[2476 rows x 4 columns]"
            ],
            "text/html": [
              "\n",
              "  <div id=\"df-f2646c38-70d1-4d01-a814-c1f9d4a679f4\">\n",
              "    <div class=\"colab-df-container\">\n",
              "      <div>\n",
              "<style scoped>\n",
              "    .dataframe tbody tr th:only-of-type {\n",
              "        vertical-align: middle;\n",
              "    }\n",
              "\n",
              "    .dataframe tbody tr th {\n",
              "        vertical-align: top;\n",
              "    }\n",
              "\n",
              "    .dataframe thead th {\n",
              "        text-align: right;\n",
              "    }\n",
              "</style>\n",
              "<table border=\"1\" class=\"dataframe\">\n",
              "  <thead>\n",
              "    <tr style=\"text-align: right;\">\n",
              "      <th></th>\n",
              "      <th>loan_id</th>\n",
              "      <th>ManagAgeui_APP</th>\n",
              "      <th>BusinFormalityOfTheBusinessui</th>\n",
              "      <th>ManagCBscoreui_APP</th>\n",
              "    </tr>\n",
              "  </thead>\n",
              "  <tbody>\n",
              "    <tr>\n",
              "      <th>0</th>\n",
              "      <td>29321</td>\n",
              "      <td>27.0</td>\n",
              "      <td>None</td>\n",
              "      <td>776.0</td>\n",
              "    </tr>\n",
              "    <tr>\n",
              "      <th>1</th>\n",
              "      <td>13613</td>\n",
              "      <td>30.0</td>\n",
              "      <td>Invoice &amp; Banked</td>\n",
              "      <td>616.0</td>\n",
              "    </tr>\n",
              "    <tr>\n",
              "      <th>2</th>\n",
              "      <td>13921</td>\n",
              "      <td>55.0</td>\n",
              "      <td>None</td>\n",
              "      <td>793.0</td>\n",
              "    </tr>\n",
              "    <tr>\n",
              "      <th>3</th>\n",
              "      <td>16520</td>\n",
              "      <td>26.0</td>\n",
              "      <td>None</td>\n",
              "      <td>781.0</td>\n",
              "    </tr>\n",
              "    <tr>\n",
              "      <th>4</th>\n",
              "      <td>49742</td>\n",
              "      <td>30.0</td>\n",
              "      <td>Cash &amp; Non Banked</td>\n",
              "      <td>689.0</td>\n",
              "    </tr>\n",
              "    <tr>\n",
              "      <th>...</th>\n",
              "      <td>...</td>\n",
              "      <td>...</td>\n",
              "      <td>...</td>\n",
              "      <td>...</td>\n",
              "    </tr>\n",
              "    <tr>\n",
              "      <th>2471</th>\n",
              "      <td>15639</td>\n",
              "      <td>49.0</td>\n",
              "      <td>Cash &amp; Non Banked</td>\n",
              "      <td>536.0</td>\n",
              "    </tr>\n",
              "    <tr>\n",
              "      <th>2472</th>\n",
              "      <td>14122</td>\n",
              "      <td>43.0</td>\n",
              "      <td>Cash &amp; Non Banked</td>\n",
              "      <td>760.0</td>\n",
              "    </tr>\n",
              "    <tr>\n",
              "      <th>2473</th>\n",
              "      <td>3420</td>\n",
              "      <td>28.0</td>\n",
              "      <td>Invoice &amp; Banked</td>\n",
              "      <td>802.0</td>\n",
              "    </tr>\n",
              "    <tr>\n",
              "      <th>2474</th>\n",
              "      <td>42491</td>\n",
              "      <td>53.0</td>\n",
              "      <td>Invoice &amp; Banked</td>\n",
              "      <td>773.0</td>\n",
              "    </tr>\n",
              "    <tr>\n",
              "      <th>2475</th>\n",
              "      <td>63044</td>\n",
              "      <td>28.0</td>\n",
              "      <td>None</td>\n",
              "      <td>776.0</td>\n",
              "    </tr>\n",
              "  </tbody>\n",
              "</table>\n",
              "<p>2476 rows × 4 columns</p>\n",
              "</div>\n",
              "      <button class=\"colab-df-convert\" onclick=\"convertToInteractive('df-f2646c38-70d1-4d01-a814-c1f9d4a679f4')\"\n",
              "              title=\"Convert this dataframe to an interactive table.\"\n",
              "              style=\"display:none;\">\n",
              "        \n",
              "  <svg xmlns=\"http://www.w3.org/2000/svg\" height=\"24px\"viewBox=\"0 0 24 24\"\n",
              "       width=\"24px\">\n",
              "    <path d=\"M0 0h24v24H0V0z\" fill=\"none\"/>\n",
              "    <path d=\"M18.56 5.44l.94 2.06.94-2.06 2.06-.94-2.06-.94-.94-2.06-.94 2.06-2.06.94zm-11 1L8.5 8.5l.94-2.06 2.06-.94-2.06-.94L8.5 2.5l-.94 2.06-2.06.94zm10 10l.94 2.06.94-2.06 2.06-.94-2.06-.94-.94-2.06-.94 2.06-2.06.94z\"/><path d=\"M17.41 7.96l-1.37-1.37c-.4-.4-.92-.59-1.43-.59-.52 0-1.04.2-1.43.59L10.3 9.45l-7.72 7.72c-.78.78-.78 2.05 0 2.83L4 21.41c.39.39.9.59 1.41.59.51 0 1.02-.2 1.41-.59l7.78-7.78 2.81-2.81c.8-.78.8-2.07 0-2.86zM5.41 20L4 18.59l7.72-7.72 1.47 1.35L5.41 20z\"/>\n",
              "  </svg>\n",
              "      </button>\n",
              "      \n",
              "  <style>\n",
              "    .colab-df-container {\n",
              "      display:flex;\n",
              "      flex-wrap:wrap;\n",
              "      gap: 12px;\n",
              "    }\n",
              "\n",
              "    .colab-df-convert {\n",
              "      background-color: #E8F0FE;\n",
              "      border: none;\n",
              "      border-radius: 50%;\n",
              "      cursor: pointer;\n",
              "      display: none;\n",
              "      fill: #1967D2;\n",
              "      height: 32px;\n",
              "      padding: 0 0 0 0;\n",
              "      width: 32px;\n",
              "    }\n",
              "\n",
              "    .colab-df-convert:hover {\n",
              "      background-color: #E2EBFA;\n",
              "      box-shadow: 0px 1px 2px rgba(60, 64, 67, 0.3), 0px 1px 3px 1px rgba(60, 64, 67, 0.15);\n",
              "      fill: #174EA6;\n",
              "    }\n",
              "\n",
              "    [theme=dark] .colab-df-convert {\n",
              "      background-color: #3B4455;\n",
              "      fill: #D2E3FC;\n",
              "    }\n",
              "\n",
              "    [theme=dark] .colab-df-convert:hover {\n",
              "      background-color: #434B5C;\n",
              "      box-shadow: 0px 1px 3px 1px rgba(0, 0, 0, 0.15);\n",
              "      filter: drop-shadow(0px 1px 2px rgba(0, 0, 0, 0.3));\n",
              "      fill: #FFFFFF;\n",
              "    }\n",
              "  </style>\n",
              "\n",
              "      <script>\n",
              "        const buttonEl =\n",
              "          document.querySelector('#df-f2646c38-70d1-4d01-a814-c1f9d4a679f4 button.colab-df-convert');\n",
              "        buttonEl.style.display =\n",
              "          google.colab.kernel.accessAllowed ? 'block' : 'none';\n",
              "\n",
              "        async function convertToInteractive(key) {\n",
              "          const element = document.querySelector('#df-f2646c38-70d1-4d01-a814-c1f9d4a679f4');\n",
              "          const dataTable =\n",
              "            await google.colab.kernel.invokeFunction('convertToInteractive',\n",
              "                                                     [key], {});\n",
              "          if (!dataTable) return;\n",
              "\n",
              "          const docLinkHtml = 'Like what you see? Visit the ' +\n",
              "            '<a target=\"_blank\" href=https://colab.research.google.com/notebooks/data_table.ipynb>data table notebook</a>'\n",
              "            + ' to learn more about interactive tables.';\n",
              "          element.innerHTML = '';\n",
              "          dataTable['output_type'] = 'display_data';\n",
              "          await google.colab.output.renderOutput(dataTable, element);\n",
              "          const docLink = document.createElement('div');\n",
              "          docLink.innerHTML = docLinkHtml;\n",
              "          element.appendChild(docLink);\n",
              "        }\n",
              "      </script>\n",
              "    </div>\n",
              "  </div>\n",
              "  "
            ]
          },
          "metadata": {},
          "execution_count": 10
        }
      ]
    },
    {
      "cell_type": "code",
      "source": [
        "\n",
        "sql('''select * from disbursement_information limit 10 ''')"
      ],
      "metadata": {
        "colab": {
          "base_uri": "https://localhost:8080/",
          "height": 363
        },
        "id": "gbcu1NbSqahO",
        "outputId": "b6599d3e-aacc-4f0e-ca09-0b9f1bcab89d"
      },
      "execution_count": null,
      "outputs": [
        {
          "output_type": "execute_result",
          "data": {
            "text/plain": [
              "  account_number  total_disbursement_amount disbursement_month\n",
              "0           None                        NaN               None\n",
              "1   TLWCU0003070                   400000.0           Aug-2017\n",
              "2           None                        NaN               None\n",
              "3           None                        NaN               None\n",
              "4   TLWCS0012623                   500000.0           Jan-2019\n",
              "5           None                        NaN               None\n",
              "6   TLWCS0016745                   400000.0           Jun-2019\n",
              "7   TLWCS0002705                   500000.0           Dec-2017\n",
              "8           None                        NaN               None\n",
              "9           None                        NaN               None"
            ],
            "text/html": [
              "\n",
              "  <div id=\"df-f761c89b-25e5-4acc-919a-d3bfe53c55e3\">\n",
              "    <div class=\"colab-df-container\">\n",
              "      <div>\n",
              "<style scoped>\n",
              "    .dataframe tbody tr th:only-of-type {\n",
              "        vertical-align: middle;\n",
              "    }\n",
              "\n",
              "    .dataframe tbody tr th {\n",
              "        vertical-align: top;\n",
              "    }\n",
              "\n",
              "    .dataframe thead th {\n",
              "        text-align: right;\n",
              "    }\n",
              "</style>\n",
              "<table border=\"1\" class=\"dataframe\">\n",
              "  <thead>\n",
              "    <tr style=\"text-align: right;\">\n",
              "      <th></th>\n",
              "      <th>account_number</th>\n",
              "      <th>total_disbursement_amount</th>\n",
              "      <th>disbursement_month</th>\n",
              "    </tr>\n",
              "  </thead>\n",
              "  <tbody>\n",
              "    <tr>\n",
              "      <th>0</th>\n",
              "      <td>None</td>\n",
              "      <td>NaN</td>\n",
              "      <td>None</td>\n",
              "    </tr>\n",
              "    <tr>\n",
              "      <th>1</th>\n",
              "      <td>TLWCU0003070</td>\n",
              "      <td>400000.0</td>\n",
              "      <td>Aug-2017</td>\n",
              "    </tr>\n",
              "    <tr>\n",
              "      <th>2</th>\n",
              "      <td>None</td>\n",
              "      <td>NaN</td>\n",
              "      <td>None</td>\n",
              "    </tr>\n",
              "    <tr>\n",
              "      <th>3</th>\n",
              "      <td>None</td>\n",
              "      <td>NaN</td>\n",
              "      <td>None</td>\n",
              "    </tr>\n",
              "    <tr>\n",
              "      <th>4</th>\n",
              "      <td>TLWCS0012623</td>\n",
              "      <td>500000.0</td>\n",
              "      <td>Jan-2019</td>\n",
              "    </tr>\n",
              "    <tr>\n",
              "      <th>5</th>\n",
              "      <td>None</td>\n",
              "      <td>NaN</td>\n",
              "      <td>None</td>\n",
              "    </tr>\n",
              "    <tr>\n",
              "      <th>6</th>\n",
              "      <td>TLWCS0016745</td>\n",
              "      <td>400000.0</td>\n",
              "      <td>Jun-2019</td>\n",
              "    </tr>\n",
              "    <tr>\n",
              "      <th>7</th>\n",
              "      <td>TLWCS0002705</td>\n",
              "      <td>500000.0</td>\n",
              "      <td>Dec-2017</td>\n",
              "    </tr>\n",
              "    <tr>\n",
              "      <th>8</th>\n",
              "      <td>None</td>\n",
              "      <td>NaN</td>\n",
              "      <td>None</td>\n",
              "    </tr>\n",
              "    <tr>\n",
              "      <th>9</th>\n",
              "      <td>None</td>\n",
              "      <td>NaN</td>\n",
              "      <td>None</td>\n",
              "    </tr>\n",
              "  </tbody>\n",
              "</table>\n",
              "</div>\n",
              "      <button class=\"colab-df-convert\" onclick=\"convertToInteractive('df-f761c89b-25e5-4acc-919a-d3bfe53c55e3')\"\n",
              "              title=\"Convert this dataframe to an interactive table.\"\n",
              "              style=\"display:none;\">\n",
              "        \n",
              "  <svg xmlns=\"http://www.w3.org/2000/svg\" height=\"24px\"viewBox=\"0 0 24 24\"\n",
              "       width=\"24px\">\n",
              "    <path d=\"M0 0h24v24H0V0z\" fill=\"none\"/>\n",
              "    <path d=\"M18.56 5.44l.94 2.06.94-2.06 2.06-.94-2.06-.94-.94-2.06-.94 2.06-2.06.94zm-11 1L8.5 8.5l.94-2.06 2.06-.94-2.06-.94L8.5 2.5l-.94 2.06-2.06.94zm10 10l.94 2.06.94-2.06 2.06-.94-2.06-.94-.94-2.06-.94 2.06-2.06.94z\"/><path d=\"M17.41 7.96l-1.37-1.37c-.4-.4-.92-.59-1.43-.59-.52 0-1.04.2-1.43.59L10.3 9.45l-7.72 7.72c-.78.78-.78 2.05 0 2.83L4 21.41c.39.39.9.59 1.41.59.51 0 1.02-.2 1.41-.59l7.78-7.78 2.81-2.81c.8-.78.8-2.07 0-2.86zM5.41 20L4 18.59l7.72-7.72 1.47 1.35L5.41 20z\"/>\n",
              "  </svg>\n",
              "      </button>\n",
              "      \n",
              "  <style>\n",
              "    .colab-df-container {\n",
              "      display:flex;\n",
              "      flex-wrap:wrap;\n",
              "      gap: 12px;\n",
              "    }\n",
              "\n",
              "    .colab-df-convert {\n",
              "      background-color: #E8F0FE;\n",
              "      border: none;\n",
              "      border-radius: 50%;\n",
              "      cursor: pointer;\n",
              "      display: none;\n",
              "      fill: #1967D2;\n",
              "      height: 32px;\n",
              "      padding: 0 0 0 0;\n",
              "      width: 32px;\n",
              "    }\n",
              "\n",
              "    .colab-df-convert:hover {\n",
              "      background-color: #E2EBFA;\n",
              "      box-shadow: 0px 1px 2px rgba(60, 64, 67, 0.3), 0px 1px 3px 1px rgba(60, 64, 67, 0.15);\n",
              "      fill: #174EA6;\n",
              "    }\n",
              "\n",
              "    [theme=dark] .colab-df-convert {\n",
              "      background-color: #3B4455;\n",
              "      fill: #D2E3FC;\n",
              "    }\n",
              "\n",
              "    [theme=dark] .colab-df-convert:hover {\n",
              "      background-color: #434B5C;\n",
              "      box-shadow: 0px 1px 3px 1px rgba(0, 0, 0, 0.15);\n",
              "      filter: drop-shadow(0px 1px 2px rgba(0, 0, 0, 0.3));\n",
              "      fill: #FFFFFF;\n",
              "    }\n",
              "  </style>\n",
              "\n",
              "      <script>\n",
              "        const buttonEl =\n",
              "          document.querySelector('#df-f761c89b-25e5-4acc-919a-d3bfe53c55e3 button.colab-df-convert');\n",
              "        buttonEl.style.display =\n",
              "          google.colab.kernel.accessAllowed ? 'block' : 'none';\n",
              "\n",
              "        async function convertToInteractive(key) {\n",
              "          const element = document.querySelector('#df-f761c89b-25e5-4acc-919a-d3bfe53c55e3');\n",
              "          const dataTable =\n",
              "            await google.colab.kernel.invokeFunction('convertToInteractive',\n",
              "                                                     [key], {});\n",
              "          if (!dataTable) return;\n",
              "\n",
              "          const docLinkHtml = 'Like what you see? Visit the ' +\n",
              "            '<a target=\"_blank\" href=https://colab.research.google.com/notebooks/data_table.ipynb>data table notebook</a>'\n",
              "            + ' to learn more about interactive tables.';\n",
              "          element.innerHTML = '';\n",
              "          dataTable['output_type'] = 'display_data';\n",
              "          await google.colab.output.renderOutput(dataTable, element);\n",
              "          const docLink = document.createElement('div');\n",
              "          docLink.innerHTML = docLinkHtml;\n",
              "          element.appendChild(docLink);\n",
              "        }\n",
              "      </script>\n",
              "    </div>\n",
              "  </div>\n",
              "  "
            ]
          },
          "metadata": {},
          "execution_count": 11
        }
      ]
    },
    {
      "cell_type": "code",
      "source": [
        "#Merge all the tables by using sql\n",
        "df = sql('''select * from loan_information\n",
        "left join enterprise_information using (loan_id)\n",
        "left join scores_information using(loan_id)\n",
        "left join disbursement_information using(account_number)\n",
        " ''')"
      ],
      "metadata": {
        "id": "Ns-rqVUaqae7"
      },
      "execution_count": null,
      "outputs": []
    },
    {
      "cell_type": "markdown",
      "source": [
        "**This is the final Data after merging all the four tables**"
      ],
      "metadata": {
        "id": "fc6z571Q8UCr"
      }
    },
    {
      "cell_type": "code",
      "source": [
        "# data after merging four data\n",
        "df"
      ],
      "metadata": {
        "colab": {
          "base_uri": "https://localhost:8080/",
          "height": 505
        },
        "id": "Upzxt2NPqaaB",
        "outputId": "ccd6106b-be08-426b-f3e1-d0af73636050"
      },
      "execution_count": null,
      "outputs": [
        {
          "output_type": "execute_result",
          "data": {
            "text/plain": [
              "      loan_id  account_number  customer_id  enterprise_id screening_date  \\\n",
              "0       29321            None        71846        24500.0     2018-04-19   \n",
              "1       13613    TLWCU0003070        31083        10723.0     2017-08-10   \n",
              "2       13921            None        31928        11002.0     2017-08-17   \n",
              "3       16520            None        38660        13220.0     2017-10-21   \n",
              "4       49742    TLWCS0012623       119694        40426.0     2018-12-24   \n",
              "...       ...             ...          ...            ...            ...   \n",
              "2471    15639            None        36377        12454.0     2017-09-23   \n",
              "2472    14122    TLWCS0001490        32442        11166.0     2017-08-21   \n",
              "2473     3420  0007LTL1004271        10054         3489.0           None   \n",
              "2474    42491    TLWCU0010873       102464        34711.0     2018-10-15   \n",
              "2475    63044            None       145880        49202.0     2019-05-26   \n",
              "\n",
              "     product_code  hub_id  business_type business_activity  \\\n",
              "0            None      53           None          Job Work   \n",
              "1           TLWCU      39        Trading            Retail   \n",
              "2            None      56           None            Retail   \n",
              "3            None      58           None            Retail   \n",
              "4           TLWCS      27  Manufacturing  Job Work & Sales   \n",
              "...           ...     ...            ...               ...   \n",
              "2471         None      42           None  Job Work & Sales   \n",
              "2472        TLWCS      40  Manufacturing          Job Work   \n",
              "2473        TLWCS      15  Manufacturing          Job Work   \n",
              "2474        TLWCU      32  Manufacturing             Sales   \n",
              "2475         None      85        Trading        Whole Sale   \n",
              "\n",
              "          business_sector  enterprise_id  ManagAgeui_APP  \\\n",
              "0     Machine  Components        24500.0            27.0   \n",
              "1             Electronics        10723.0            30.0   \n",
              "2             Agriculture        11002.0            55.0   \n",
              "3         Food & Beverage        13220.0            26.0   \n",
              "4                Textiles        40426.0            30.0   \n",
              "...                   ...            ...             ...   \n",
              "2471                 Wood        12454.0            49.0   \n",
              "2472      Auto Components        11166.0            43.0   \n",
              "2473      Auto Components         3489.0            28.0   \n",
              "2474          Fabrication        34711.0            53.0   \n",
              "2475             Plastics        49202.0            28.0   \n",
              "\n",
              "     BusinFormalityOfTheBusinessui  ManagCBscoreui_APP  \\\n",
              "0                             None               776.0   \n",
              "1                 Invoice & Banked               616.0   \n",
              "2                             None               793.0   \n",
              "3                             None               781.0   \n",
              "4                Cash & Non Banked               689.0   \n",
              "...                            ...                 ...   \n",
              "2471             Cash & Non Banked               536.0   \n",
              "2472             Cash & Non Banked               760.0   \n",
              "2473              Invoice & Banked               802.0   \n",
              "2474              Invoice & Banked               773.0   \n",
              "2475                          None               776.0   \n",
              "\n",
              "      total_disbursement_amount disbursement_month  \n",
              "0                           NaN               None  \n",
              "1                      400000.0           Aug-2017  \n",
              "2                           NaN               None  \n",
              "3                           NaN               None  \n",
              "4                      500000.0           Jan-2019  \n",
              "...                         ...                ...  \n",
              "2471                        NaN               None  \n",
              "2472                   150000.0           Aug-2017  \n",
              "2473                   500000.0           Sep-2016  \n",
              "2474                   500000.0           Oct-2018  \n",
              "2475                        NaN               None  \n",
              "\n",
              "[2476 rows x 16 columns]"
            ],
            "text/html": [
              "\n",
              "  <div id=\"df-58bb7694-5bb4-4570-a2be-efd596dcb823\">\n",
              "    <div class=\"colab-df-container\">\n",
              "      <div>\n",
              "<style scoped>\n",
              "    .dataframe tbody tr th:only-of-type {\n",
              "        vertical-align: middle;\n",
              "    }\n",
              "\n",
              "    .dataframe tbody tr th {\n",
              "        vertical-align: top;\n",
              "    }\n",
              "\n",
              "    .dataframe thead th {\n",
              "        text-align: right;\n",
              "    }\n",
              "</style>\n",
              "<table border=\"1\" class=\"dataframe\">\n",
              "  <thead>\n",
              "    <tr style=\"text-align: right;\">\n",
              "      <th></th>\n",
              "      <th>loan_id</th>\n",
              "      <th>account_number</th>\n",
              "      <th>customer_id</th>\n",
              "      <th>enterprise_id</th>\n",
              "      <th>screening_date</th>\n",
              "      <th>product_code</th>\n",
              "      <th>hub_id</th>\n",
              "      <th>business_type</th>\n",
              "      <th>business_activity</th>\n",
              "      <th>business_sector</th>\n",
              "      <th>enterprise_id</th>\n",
              "      <th>ManagAgeui_APP</th>\n",
              "      <th>BusinFormalityOfTheBusinessui</th>\n",
              "      <th>ManagCBscoreui_APP</th>\n",
              "      <th>total_disbursement_amount</th>\n",
              "      <th>disbursement_month</th>\n",
              "    </tr>\n",
              "  </thead>\n",
              "  <tbody>\n",
              "    <tr>\n",
              "      <th>0</th>\n",
              "      <td>29321</td>\n",
              "      <td>None</td>\n",
              "      <td>71846</td>\n",
              "      <td>24500.0</td>\n",
              "      <td>2018-04-19</td>\n",
              "      <td>None</td>\n",
              "      <td>53</td>\n",
              "      <td>None</td>\n",
              "      <td>Job Work</td>\n",
              "      <td>Machine  Components</td>\n",
              "      <td>24500.0</td>\n",
              "      <td>27.0</td>\n",
              "      <td>None</td>\n",
              "      <td>776.0</td>\n",
              "      <td>NaN</td>\n",
              "      <td>None</td>\n",
              "    </tr>\n",
              "    <tr>\n",
              "      <th>1</th>\n",
              "      <td>13613</td>\n",
              "      <td>TLWCU0003070</td>\n",
              "      <td>31083</td>\n",
              "      <td>10723.0</td>\n",
              "      <td>2017-08-10</td>\n",
              "      <td>TLWCU</td>\n",
              "      <td>39</td>\n",
              "      <td>Trading</td>\n",
              "      <td>Retail</td>\n",
              "      <td>Electronics</td>\n",
              "      <td>10723.0</td>\n",
              "      <td>30.0</td>\n",
              "      <td>Invoice &amp; Banked</td>\n",
              "      <td>616.0</td>\n",
              "      <td>400000.0</td>\n",
              "      <td>Aug-2017</td>\n",
              "    </tr>\n",
              "    <tr>\n",
              "      <th>2</th>\n",
              "      <td>13921</td>\n",
              "      <td>None</td>\n",
              "      <td>31928</td>\n",
              "      <td>11002.0</td>\n",
              "      <td>2017-08-17</td>\n",
              "      <td>None</td>\n",
              "      <td>56</td>\n",
              "      <td>None</td>\n",
              "      <td>Retail</td>\n",
              "      <td>Agriculture</td>\n",
              "      <td>11002.0</td>\n",
              "      <td>55.0</td>\n",
              "      <td>None</td>\n",
              "      <td>793.0</td>\n",
              "      <td>NaN</td>\n",
              "      <td>None</td>\n",
              "    </tr>\n",
              "    <tr>\n",
              "      <th>3</th>\n",
              "      <td>16520</td>\n",
              "      <td>None</td>\n",
              "      <td>38660</td>\n",
              "      <td>13220.0</td>\n",
              "      <td>2017-10-21</td>\n",
              "      <td>None</td>\n",
              "      <td>58</td>\n",
              "      <td>None</td>\n",
              "      <td>Retail</td>\n",
              "      <td>Food &amp; Beverage</td>\n",
              "      <td>13220.0</td>\n",
              "      <td>26.0</td>\n",
              "      <td>None</td>\n",
              "      <td>781.0</td>\n",
              "      <td>NaN</td>\n",
              "      <td>None</td>\n",
              "    </tr>\n",
              "    <tr>\n",
              "      <th>4</th>\n",
              "      <td>49742</td>\n",
              "      <td>TLWCS0012623</td>\n",
              "      <td>119694</td>\n",
              "      <td>40426.0</td>\n",
              "      <td>2018-12-24</td>\n",
              "      <td>TLWCS</td>\n",
              "      <td>27</td>\n",
              "      <td>Manufacturing</td>\n",
              "      <td>Job Work &amp; Sales</td>\n",
              "      <td>Textiles</td>\n",
              "      <td>40426.0</td>\n",
              "      <td>30.0</td>\n",
              "      <td>Cash &amp; Non Banked</td>\n",
              "      <td>689.0</td>\n",
              "      <td>500000.0</td>\n",
              "      <td>Jan-2019</td>\n",
              "    </tr>\n",
              "    <tr>\n",
              "      <th>...</th>\n",
              "      <td>...</td>\n",
              "      <td>...</td>\n",
              "      <td>...</td>\n",
              "      <td>...</td>\n",
              "      <td>...</td>\n",
              "      <td>...</td>\n",
              "      <td>...</td>\n",
              "      <td>...</td>\n",
              "      <td>...</td>\n",
              "      <td>...</td>\n",
              "      <td>...</td>\n",
              "      <td>...</td>\n",
              "      <td>...</td>\n",
              "      <td>...</td>\n",
              "      <td>...</td>\n",
              "      <td>...</td>\n",
              "    </tr>\n",
              "    <tr>\n",
              "      <th>2471</th>\n",
              "      <td>15639</td>\n",
              "      <td>None</td>\n",
              "      <td>36377</td>\n",
              "      <td>12454.0</td>\n",
              "      <td>2017-09-23</td>\n",
              "      <td>None</td>\n",
              "      <td>42</td>\n",
              "      <td>None</td>\n",
              "      <td>Job Work &amp; Sales</td>\n",
              "      <td>Wood</td>\n",
              "      <td>12454.0</td>\n",
              "      <td>49.0</td>\n",
              "      <td>Cash &amp; Non Banked</td>\n",
              "      <td>536.0</td>\n",
              "      <td>NaN</td>\n",
              "      <td>None</td>\n",
              "    </tr>\n",
              "    <tr>\n",
              "      <th>2472</th>\n",
              "      <td>14122</td>\n",
              "      <td>TLWCS0001490</td>\n",
              "      <td>32442</td>\n",
              "      <td>11166.0</td>\n",
              "      <td>2017-08-21</td>\n",
              "      <td>TLWCS</td>\n",
              "      <td>40</td>\n",
              "      <td>Manufacturing</td>\n",
              "      <td>Job Work</td>\n",
              "      <td>Auto Components</td>\n",
              "      <td>11166.0</td>\n",
              "      <td>43.0</td>\n",
              "      <td>Cash &amp; Non Banked</td>\n",
              "      <td>760.0</td>\n",
              "      <td>150000.0</td>\n",
              "      <td>Aug-2017</td>\n",
              "    </tr>\n",
              "    <tr>\n",
              "      <th>2473</th>\n",
              "      <td>3420</td>\n",
              "      <td>0007LTL1004271</td>\n",
              "      <td>10054</td>\n",
              "      <td>3489.0</td>\n",
              "      <td>None</td>\n",
              "      <td>TLWCS</td>\n",
              "      <td>15</td>\n",
              "      <td>Manufacturing</td>\n",
              "      <td>Job Work</td>\n",
              "      <td>Auto Components</td>\n",
              "      <td>3489.0</td>\n",
              "      <td>28.0</td>\n",
              "      <td>Invoice &amp; Banked</td>\n",
              "      <td>802.0</td>\n",
              "      <td>500000.0</td>\n",
              "      <td>Sep-2016</td>\n",
              "    </tr>\n",
              "    <tr>\n",
              "      <th>2474</th>\n",
              "      <td>42491</td>\n",
              "      <td>TLWCU0010873</td>\n",
              "      <td>102464</td>\n",
              "      <td>34711.0</td>\n",
              "      <td>2018-10-15</td>\n",
              "      <td>TLWCU</td>\n",
              "      <td>32</td>\n",
              "      <td>Manufacturing</td>\n",
              "      <td>Sales</td>\n",
              "      <td>Fabrication</td>\n",
              "      <td>34711.0</td>\n",
              "      <td>53.0</td>\n",
              "      <td>Invoice &amp; Banked</td>\n",
              "      <td>773.0</td>\n",
              "      <td>500000.0</td>\n",
              "      <td>Oct-2018</td>\n",
              "    </tr>\n",
              "    <tr>\n",
              "      <th>2475</th>\n",
              "      <td>63044</td>\n",
              "      <td>None</td>\n",
              "      <td>145880</td>\n",
              "      <td>49202.0</td>\n",
              "      <td>2019-05-26</td>\n",
              "      <td>None</td>\n",
              "      <td>85</td>\n",
              "      <td>Trading</td>\n",
              "      <td>Whole Sale</td>\n",
              "      <td>Plastics</td>\n",
              "      <td>49202.0</td>\n",
              "      <td>28.0</td>\n",
              "      <td>None</td>\n",
              "      <td>776.0</td>\n",
              "      <td>NaN</td>\n",
              "      <td>None</td>\n",
              "    </tr>\n",
              "  </tbody>\n",
              "</table>\n",
              "<p>2476 rows × 16 columns</p>\n",
              "</div>\n",
              "      <button class=\"colab-df-convert\" onclick=\"convertToInteractive('df-58bb7694-5bb4-4570-a2be-efd596dcb823')\"\n",
              "              title=\"Convert this dataframe to an interactive table.\"\n",
              "              style=\"display:none;\">\n",
              "        \n",
              "  <svg xmlns=\"http://www.w3.org/2000/svg\" height=\"24px\"viewBox=\"0 0 24 24\"\n",
              "       width=\"24px\">\n",
              "    <path d=\"M0 0h24v24H0V0z\" fill=\"none\"/>\n",
              "    <path d=\"M18.56 5.44l.94 2.06.94-2.06 2.06-.94-2.06-.94-.94-2.06-.94 2.06-2.06.94zm-11 1L8.5 8.5l.94-2.06 2.06-.94-2.06-.94L8.5 2.5l-.94 2.06-2.06.94zm10 10l.94 2.06.94-2.06 2.06-.94-2.06-.94-.94-2.06-.94 2.06-2.06.94z\"/><path d=\"M17.41 7.96l-1.37-1.37c-.4-.4-.92-.59-1.43-.59-.52 0-1.04.2-1.43.59L10.3 9.45l-7.72 7.72c-.78.78-.78 2.05 0 2.83L4 21.41c.39.39.9.59 1.41.59.51 0 1.02-.2 1.41-.59l7.78-7.78 2.81-2.81c.8-.78.8-2.07 0-2.86zM5.41 20L4 18.59l7.72-7.72 1.47 1.35L5.41 20z\"/>\n",
              "  </svg>\n",
              "      </button>\n",
              "      \n",
              "  <style>\n",
              "    .colab-df-container {\n",
              "      display:flex;\n",
              "      flex-wrap:wrap;\n",
              "      gap: 12px;\n",
              "    }\n",
              "\n",
              "    .colab-df-convert {\n",
              "      background-color: #E8F0FE;\n",
              "      border: none;\n",
              "      border-radius: 50%;\n",
              "      cursor: pointer;\n",
              "      display: none;\n",
              "      fill: #1967D2;\n",
              "      height: 32px;\n",
              "      padding: 0 0 0 0;\n",
              "      width: 32px;\n",
              "    }\n",
              "\n",
              "    .colab-df-convert:hover {\n",
              "      background-color: #E2EBFA;\n",
              "      box-shadow: 0px 1px 2px rgba(60, 64, 67, 0.3), 0px 1px 3px 1px rgba(60, 64, 67, 0.15);\n",
              "      fill: #174EA6;\n",
              "    }\n",
              "\n",
              "    [theme=dark] .colab-df-convert {\n",
              "      background-color: #3B4455;\n",
              "      fill: #D2E3FC;\n",
              "    }\n",
              "\n",
              "    [theme=dark] .colab-df-convert:hover {\n",
              "      background-color: #434B5C;\n",
              "      box-shadow: 0px 1px 3px 1px rgba(0, 0, 0, 0.15);\n",
              "      filter: drop-shadow(0px 1px 2px rgba(0, 0, 0, 0.3));\n",
              "      fill: #FFFFFF;\n",
              "    }\n",
              "  </style>\n",
              "\n",
              "      <script>\n",
              "        const buttonEl =\n",
              "          document.querySelector('#df-58bb7694-5bb4-4570-a2be-efd596dcb823 button.colab-df-convert');\n",
              "        buttonEl.style.display =\n",
              "          google.colab.kernel.accessAllowed ? 'block' : 'none';\n",
              "\n",
              "        async function convertToInteractive(key) {\n",
              "          const element = document.querySelector('#df-58bb7694-5bb4-4570-a2be-efd596dcb823');\n",
              "          const dataTable =\n",
              "            await google.colab.kernel.invokeFunction('convertToInteractive',\n",
              "                                                     [key], {});\n",
              "          if (!dataTable) return;\n",
              "\n",
              "          const docLinkHtml = 'Like what you see? Visit the ' +\n",
              "            '<a target=\"_blank\" href=https://colab.research.google.com/notebooks/data_table.ipynb>data table notebook</a>'\n",
              "            + ' to learn more about interactive tables.';\n",
              "          element.innerHTML = '';\n",
              "          dataTable['output_type'] = 'display_data';\n",
              "          await google.colab.output.renderOutput(dataTable, element);\n",
              "          const docLink = document.createElement('div');\n",
              "          docLink.innerHTML = docLinkHtml;\n",
              "          element.appendChild(docLink);\n",
              "        }\n",
              "      </script>\n",
              "    </div>\n",
              "  </div>\n",
              "  "
            ]
          },
          "metadata": {},
          "execution_count": 75
        }
      ]
    },
    {
      "cell_type": "markdown",
      "source": [
        "**Check the shape of the data**"
      ],
      "metadata": {
        "id": "-l4u_tT78oET"
      }
    },
    {
      "cell_type": "code",
      "source": [
        "#check shape of the data\n",
        "df.shape"
      ],
      "metadata": {
        "colab": {
          "base_uri": "https://localhost:8080/"
        },
        "id": "ijMhJSJALXUI",
        "outputId": "562a009b-3def-45e3-a6b1-e5b2132ab152"
      },
      "execution_count": null,
      "outputs": [
        {
          "output_type": "execute_result",
          "data": {
            "text/plain": [
              "(2476, 16)"
            ]
          },
          "metadata": {},
          "execution_count": 14
        }
      ]
    },
    {
      "cell_type": "code",
      "source": [
        "#check null values\n",
        "df.isnull().sum()"
      ],
      "metadata": {
        "colab": {
          "base_uri": "https://localhost:8080/"
        },
        "id": "7n4JYwL73CEb",
        "outputId": "744cdd2d-3731-45d9-9393-8fbef51ae34b"
      },
      "execution_count": null,
      "outputs": [
        {
          "output_type": "execute_result",
          "data": {
            "text/plain": [
              "loan_id                             0\n",
              "account_number                   1107\n",
              "customer_id                         0\n",
              "enterprise_id                       1\n",
              "screening_date                    126\n",
              "product_code                     1058\n",
              "hub_id                              0\n",
              "business_type                     463\n",
              "business_activity                   1\n",
              "business_sector                     1\n",
              "enterprise_id                       1\n",
              "ManagAgeui_APP                      3\n",
              "BusinFormalityOfTheBusinessui     488\n",
              "ManagCBscoreui_APP                  3\n",
              "total_disbursement_amount        1107\n",
              "disbursement_month               1107\n",
              "dtype: int64"
            ]
          },
          "metadata": {},
          "execution_count": 76
        }
      ]
    },
    {
      "cell_type": "markdown",
      "source": [
        "# **Label of an observation based on the existence of an account number.**"
      ],
      "metadata": {
        "id": "kkmNdo1cE_3i"
      }
    },
    {
      "cell_type": "code",
      "source": [
        "# Build a new column \n",
        "df['lable'] = df['account_number'].apply(lambda x : 0 if x == None else 1)\n",
        "df.head(3)"
      ],
      "metadata": {
        "colab": {
          "base_uri": "https://localhost:8080/",
          "height": 225
        },
        "id": "Yja0FoumE-_D",
        "outputId": "c3251953-9a1b-48d5-f293-5e0a7ad5611c"
      },
      "execution_count": null,
      "outputs": [
        {
          "output_type": "execute_result",
          "data": {
            "text/plain": [
              "   loan_id account_number  customer_id  enterprise_id screening_date  \\\n",
              "0    29321           None        71846        24500.0     2018-04-19   \n",
              "1    13613   TLWCU0003070        31083        10723.0     2017-08-10   \n",
              "2    13921           None        31928        11002.0     2017-08-17   \n",
              "\n",
              "  product_code  hub_id business_type business_activity      business_sector  \\\n",
              "0         None      53          None          Job Work  Machine  Components   \n",
              "1        TLWCU      39       Trading            Retail          Electronics   \n",
              "2         None      56          None            Retail          Agriculture   \n",
              "\n",
              "   enterprise_id  ManagAgeui_APP BusinFormalityOfTheBusinessui  \\\n",
              "0        24500.0            27.0                          None   \n",
              "1        10723.0            30.0              Invoice & Banked   \n",
              "2        11002.0            55.0                          None   \n",
              "\n",
              "   ManagCBscoreui_APP  total_disbursement_amount disbursement_month  lable  \n",
              "0               776.0                        NaN               None      0  \n",
              "1               616.0                   400000.0           Aug-2017      1  \n",
              "2               793.0                        NaN               None      0  "
            ],
            "text/html": [
              "\n",
              "  <div id=\"df-7ce18d82-6800-4841-82bb-9aad9ce81a2b\">\n",
              "    <div class=\"colab-df-container\">\n",
              "      <div>\n",
              "<style scoped>\n",
              "    .dataframe tbody tr th:only-of-type {\n",
              "        vertical-align: middle;\n",
              "    }\n",
              "\n",
              "    .dataframe tbody tr th {\n",
              "        vertical-align: top;\n",
              "    }\n",
              "\n",
              "    .dataframe thead th {\n",
              "        text-align: right;\n",
              "    }\n",
              "</style>\n",
              "<table border=\"1\" class=\"dataframe\">\n",
              "  <thead>\n",
              "    <tr style=\"text-align: right;\">\n",
              "      <th></th>\n",
              "      <th>loan_id</th>\n",
              "      <th>account_number</th>\n",
              "      <th>customer_id</th>\n",
              "      <th>enterprise_id</th>\n",
              "      <th>screening_date</th>\n",
              "      <th>product_code</th>\n",
              "      <th>hub_id</th>\n",
              "      <th>business_type</th>\n",
              "      <th>business_activity</th>\n",
              "      <th>business_sector</th>\n",
              "      <th>enterprise_id</th>\n",
              "      <th>ManagAgeui_APP</th>\n",
              "      <th>BusinFormalityOfTheBusinessui</th>\n",
              "      <th>ManagCBscoreui_APP</th>\n",
              "      <th>total_disbursement_amount</th>\n",
              "      <th>disbursement_month</th>\n",
              "      <th>lable</th>\n",
              "    </tr>\n",
              "  </thead>\n",
              "  <tbody>\n",
              "    <tr>\n",
              "      <th>0</th>\n",
              "      <td>29321</td>\n",
              "      <td>None</td>\n",
              "      <td>71846</td>\n",
              "      <td>24500.0</td>\n",
              "      <td>2018-04-19</td>\n",
              "      <td>None</td>\n",
              "      <td>53</td>\n",
              "      <td>None</td>\n",
              "      <td>Job Work</td>\n",
              "      <td>Machine  Components</td>\n",
              "      <td>24500.0</td>\n",
              "      <td>27.0</td>\n",
              "      <td>None</td>\n",
              "      <td>776.0</td>\n",
              "      <td>NaN</td>\n",
              "      <td>None</td>\n",
              "      <td>0</td>\n",
              "    </tr>\n",
              "    <tr>\n",
              "      <th>1</th>\n",
              "      <td>13613</td>\n",
              "      <td>TLWCU0003070</td>\n",
              "      <td>31083</td>\n",
              "      <td>10723.0</td>\n",
              "      <td>2017-08-10</td>\n",
              "      <td>TLWCU</td>\n",
              "      <td>39</td>\n",
              "      <td>Trading</td>\n",
              "      <td>Retail</td>\n",
              "      <td>Electronics</td>\n",
              "      <td>10723.0</td>\n",
              "      <td>30.0</td>\n",
              "      <td>Invoice &amp; Banked</td>\n",
              "      <td>616.0</td>\n",
              "      <td>400000.0</td>\n",
              "      <td>Aug-2017</td>\n",
              "      <td>1</td>\n",
              "    </tr>\n",
              "    <tr>\n",
              "      <th>2</th>\n",
              "      <td>13921</td>\n",
              "      <td>None</td>\n",
              "      <td>31928</td>\n",
              "      <td>11002.0</td>\n",
              "      <td>2017-08-17</td>\n",
              "      <td>None</td>\n",
              "      <td>56</td>\n",
              "      <td>None</td>\n",
              "      <td>Retail</td>\n",
              "      <td>Agriculture</td>\n",
              "      <td>11002.0</td>\n",
              "      <td>55.0</td>\n",
              "      <td>None</td>\n",
              "      <td>793.0</td>\n",
              "      <td>NaN</td>\n",
              "      <td>None</td>\n",
              "      <td>0</td>\n",
              "    </tr>\n",
              "  </tbody>\n",
              "</table>\n",
              "</div>\n",
              "      <button class=\"colab-df-convert\" onclick=\"convertToInteractive('df-7ce18d82-6800-4841-82bb-9aad9ce81a2b')\"\n",
              "              title=\"Convert this dataframe to an interactive table.\"\n",
              "              style=\"display:none;\">\n",
              "        \n",
              "  <svg xmlns=\"http://www.w3.org/2000/svg\" height=\"24px\"viewBox=\"0 0 24 24\"\n",
              "       width=\"24px\">\n",
              "    <path d=\"M0 0h24v24H0V0z\" fill=\"none\"/>\n",
              "    <path d=\"M18.56 5.44l.94 2.06.94-2.06 2.06-.94-2.06-.94-.94-2.06-.94 2.06-2.06.94zm-11 1L8.5 8.5l.94-2.06 2.06-.94-2.06-.94L8.5 2.5l-.94 2.06-2.06.94zm10 10l.94 2.06.94-2.06 2.06-.94-2.06-.94-.94-2.06-.94 2.06-2.06.94z\"/><path d=\"M17.41 7.96l-1.37-1.37c-.4-.4-.92-.59-1.43-.59-.52 0-1.04.2-1.43.59L10.3 9.45l-7.72 7.72c-.78.78-.78 2.05 0 2.83L4 21.41c.39.39.9.59 1.41.59.51 0 1.02-.2 1.41-.59l7.78-7.78 2.81-2.81c.8-.78.8-2.07 0-2.86zM5.41 20L4 18.59l7.72-7.72 1.47 1.35L5.41 20z\"/>\n",
              "  </svg>\n",
              "      </button>\n",
              "      \n",
              "  <style>\n",
              "    .colab-df-container {\n",
              "      display:flex;\n",
              "      flex-wrap:wrap;\n",
              "      gap: 12px;\n",
              "    }\n",
              "\n",
              "    .colab-df-convert {\n",
              "      background-color: #E8F0FE;\n",
              "      border: none;\n",
              "      border-radius: 50%;\n",
              "      cursor: pointer;\n",
              "      display: none;\n",
              "      fill: #1967D2;\n",
              "      height: 32px;\n",
              "      padding: 0 0 0 0;\n",
              "      width: 32px;\n",
              "    }\n",
              "\n",
              "    .colab-df-convert:hover {\n",
              "      background-color: #E2EBFA;\n",
              "      box-shadow: 0px 1px 2px rgba(60, 64, 67, 0.3), 0px 1px 3px 1px rgba(60, 64, 67, 0.15);\n",
              "      fill: #174EA6;\n",
              "    }\n",
              "\n",
              "    [theme=dark] .colab-df-convert {\n",
              "      background-color: #3B4455;\n",
              "      fill: #D2E3FC;\n",
              "    }\n",
              "\n",
              "    [theme=dark] .colab-df-convert:hover {\n",
              "      background-color: #434B5C;\n",
              "      box-shadow: 0px 1px 3px 1px rgba(0, 0, 0, 0.15);\n",
              "      filter: drop-shadow(0px 1px 2px rgba(0, 0, 0, 0.3));\n",
              "      fill: #FFFFFF;\n",
              "    }\n",
              "  </style>\n",
              "\n",
              "      <script>\n",
              "        const buttonEl =\n",
              "          document.querySelector('#df-7ce18d82-6800-4841-82bb-9aad9ce81a2b button.colab-df-convert');\n",
              "        buttonEl.style.display =\n",
              "          google.colab.kernel.accessAllowed ? 'block' : 'none';\n",
              "\n",
              "        async function convertToInteractive(key) {\n",
              "          const element = document.querySelector('#df-7ce18d82-6800-4841-82bb-9aad9ce81a2b');\n",
              "          const dataTable =\n",
              "            await google.colab.kernel.invokeFunction('convertToInteractive',\n",
              "                                                     [key], {});\n",
              "          if (!dataTable) return;\n",
              "\n",
              "          const docLinkHtml = 'Like what you see? Visit the ' +\n",
              "            '<a target=\"_blank\" href=https://colab.research.google.com/notebooks/data_table.ipynb>data table notebook</a>'\n",
              "            + ' to learn more about interactive tables.';\n",
              "          element.innerHTML = '';\n",
              "          dataTable['output_type'] = 'display_data';\n",
              "          await google.colab.output.renderOutput(dataTable, element);\n",
              "          const docLink = document.createElement('div');\n",
              "          docLink.innerHTML = docLinkHtml;\n",
              "          element.appendChild(docLink);\n",
              "        }\n",
              "      </script>\n",
              "    </div>\n",
              "  </div>\n",
              "  "
            ]
          },
          "metadata": {},
          "execution_count": 15
        }
      ]
    },
    {
      "cell_type": "markdown",
      "source": [
        "# **Categorize cibil scores.**"
      ],
      "metadata": {
        "id": "RSDdvFIQFYHK"
      }
    },
    {
      "cell_type": "markdown",
      "source": [
        "0=LESS THEN 650\n",
        "\n",
        "1=MORE THAN OR EQUAL TO 650 "
      ],
      "metadata": {
        "id": "zlqzczxhNJ-c"
      }
    },
    {
      "cell_type": "code",
      "source": [
        "# change the cibil score as 0 and 1\n",
        "df['ManagCBscoreui_APP'] = df['ManagCBscoreui_APP'].apply(lambda x : 0 if x <650 else 1)\n",
        "df.head(3)"
      ],
      "metadata": {
        "colab": {
          "base_uri": "https://localhost:8080/",
          "height": 225
        },
        "id": "5dpWru4CFawE",
        "outputId": "96d94e71-4246-46a3-e225-5758fc0c4dec"
      },
      "execution_count": null,
      "outputs": [
        {
          "output_type": "execute_result",
          "data": {
            "text/plain": [
              "   loan_id account_number  customer_id  enterprise_id screening_date  \\\n",
              "0    29321           None        71846        24500.0     2018-04-19   \n",
              "1    13613   TLWCU0003070        31083        10723.0     2017-08-10   \n",
              "2    13921           None        31928        11002.0     2017-08-17   \n",
              "\n",
              "  product_code  hub_id business_type business_activity      business_sector  \\\n",
              "0         None      53          None          Job Work  Machine  Components   \n",
              "1        TLWCU      39       Trading            Retail          Electronics   \n",
              "2         None      56          None            Retail          Agriculture   \n",
              "\n",
              "   enterprise_id  ManagAgeui_APP BusinFormalityOfTheBusinessui  \\\n",
              "0        24500.0            27.0                          None   \n",
              "1        10723.0            30.0              Invoice & Banked   \n",
              "2        11002.0            55.0                          None   \n",
              "\n",
              "   ManagCBscoreui_APP  total_disbursement_amount disbursement_month  lable  \n",
              "0                   1                        NaN               None      0  \n",
              "1                   0                   400000.0           Aug-2017      1  \n",
              "2                   1                        NaN               None      0  "
            ],
            "text/html": [
              "\n",
              "  <div id=\"df-f0308c11-c9d5-4d61-8bc1-f65a3f4ce348\">\n",
              "    <div class=\"colab-df-container\">\n",
              "      <div>\n",
              "<style scoped>\n",
              "    .dataframe tbody tr th:only-of-type {\n",
              "        vertical-align: middle;\n",
              "    }\n",
              "\n",
              "    .dataframe tbody tr th {\n",
              "        vertical-align: top;\n",
              "    }\n",
              "\n",
              "    .dataframe thead th {\n",
              "        text-align: right;\n",
              "    }\n",
              "</style>\n",
              "<table border=\"1\" class=\"dataframe\">\n",
              "  <thead>\n",
              "    <tr style=\"text-align: right;\">\n",
              "      <th></th>\n",
              "      <th>loan_id</th>\n",
              "      <th>account_number</th>\n",
              "      <th>customer_id</th>\n",
              "      <th>enterprise_id</th>\n",
              "      <th>screening_date</th>\n",
              "      <th>product_code</th>\n",
              "      <th>hub_id</th>\n",
              "      <th>business_type</th>\n",
              "      <th>business_activity</th>\n",
              "      <th>business_sector</th>\n",
              "      <th>enterprise_id</th>\n",
              "      <th>ManagAgeui_APP</th>\n",
              "      <th>BusinFormalityOfTheBusinessui</th>\n",
              "      <th>ManagCBscoreui_APP</th>\n",
              "      <th>total_disbursement_amount</th>\n",
              "      <th>disbursement_month</th>\n",
              "      <th>lable</th>\n",
              "    </tr>\n",
              "  </thead>\n",
              "  <tbody>\n",
              "    <tr>\n",
              "      <th>0</th>\n",
              "      <td>29321</td>\n",
              "      <td>None</td>\n",
              "      <td>71846</td>\n",
              "      <td>24500.0</td>\n",
              "      <td>2018-04-19</td>\n",
              "      <td>None</td>\n",
              "      <td>53</td>\n",
              "      <td>None</td>\n",
              "      <td>Job Work</td>\n",
              "      <td>Machine  Components</td>\n",
              "      <td>24500.0</td>\n",
              "      <td>27.0</td>\n",
              "      <td>None</td>\n",
              "      <td>1</td>\n",
              "      <td>NaN</td>\n",
              "      <td>None</td>\n",
              "      <td>0</td>\n",
              "    </tr>\n",
              "    <tr>\n",
              "      <th>1</th>\n",
              "      <td>13613</td>\n",
              "      <td>TLWCU0003070</td>\n",
              "      <td>31083</td>\n",
              "      <td>10723.0</td>\n",
              "      <td>2017-08-10</td>\n",
              "      <td>TLWCU</td>\n",
              "      <td>39</td>\n",
              "      <td>Trading</td>\n",
              "      <td>Retail</td>\n",
              "      <td>Electronics</td>\n",
              "      <td>10723.0</td>\n",
              "      <td>30.0</td>\n",
              "      <td>Invoice &amp; Banked</td>\n",
              "      <td>0</td>\n",
              "      <td>400000.0</td>\n",
              "      <td>Aug-2017</td>\n",
              "      <td>1</td>\n",
              "    </tr>\n",
              "    <tr>\n",
              "      <th>2</th>\n",
              "      <td>13921</td>\n",
              "      <td>None</td>\n",
              "      <td>31928</td>\n",
              "      <td>11002.0</td>\n",
              "      <td>2017-08-17</td>\n",
              "      <td>None</td>\n",
              "      <td>56</td>\n",
              "      <td>None</td>\n",
              "      <td>Retail</td>\n",
              "      <td>Agriculture</td>\n",
              "      <td>11002.0</td>\n",
              "      <td>55.0</td>\n",
              "      <td>None</td>\n",
              "      <td>1</td>\n",
              "      <td>NaN</td>\n",
              "      <td>None</td>\n",
              "      <td>0</td>\n",
              "    </tr>\n",
              "  </tbody>\n",
              "</table>\n",
              "</div>\n",
              "      <button class=\"colab-df-convert\" onclick=\"convertToInteractive('df-f0308c11-c9d5-4d61-8bc1-f65a3f4ce348')\"\n",
              "              title=\"Convert this dataframe to an interactive table.\"\n",
              "              style=\"display:none;\">\n",
              "        \n",
              "  <svg xmlns=\"http://www.w3.org/2000/svg\" height=\"24px\"viewBox=\"0 0 24 24\"\n",
              "       width=\"24px\">\n",
              "    <path d=\"M0 0h24v24H0V0z\" fill=\"none\"/>\n",
              "    <path d=\"M18.56 5.44l.94 2.06.94-2.06 2.06-.94-2.06-.94-.94-2.06-.94 2.06-2.06.94zm-11 1L8.5 8.5l.94-2.06 2.06-.94-2.06-.94L8.5 2.5l-.94 2.06-2.06.94zm10 10l.94 2.06.94-2.06 2.06-.94-2.06-.94-.94-2.06-.94 2.06-2.06.94z\"/><path d=\"M17.41 7.96l-1.37-1.37c-.4-.4-.92-.59-1.43-.59-.52 0-1.04.2-1.43.59L10.3 9.45l-7.72 7.72c-.78.78-.78 2.05 0 2.83L4 21.41c.39.39.9.59 1.41.59.51 0 1.02-.2 1.41-.59l7.78-7.78 2.81-2.81c.8-.78.8-2.07 0-2.86zM5.41 20L4 18.59l7.72-7.72 1.47 1.35L5.41 20z\"/>\n",
              "  </svg>\n",
              "      </button>\n",
              "      \n",
              "  <style>\n",
              "    .colab-df-container {\n",
              "      display:flex;\n",
              "      flex-wrap:wrap;\n",
              "      gap: 12px;\n",
              "    }\n",
              "\n",
              "    .colab-df-convert {\n",
              "      background-color: #E8F0FE;\n",
              "      border: none;\n",
              "      border-radius: 50%;\n",
              "      cursor: pointer;\n",
              "      display: none;\n",
              "      fill: #1967D2;\n",
              "      height: 32px;\n",
              "      padding: 0 0 0 0;\n",
              "      width: 32px;\n",
              "    }\n",
              "\n",
              "    .colab-df-convert:hover {\n",
              "      background-color: #E2EBFA;\n",
              "      box-shadow: 0px 1px 2px rgba(60, 64, 67, 0.3), 0px 1px 3px 1px rgba(60, 64, 67, 0.15);\n",
              "      fill: #174EA6;\n",
              "    }\n",
              "\n",
              "    [theme=dark] .colab-df-convert {\n",
              "      background-color: #3B4455;\n",
              "      fill: #D2E3FC;\n",
              "    }\n",
              "\n",
              "    [theme=dark] .colab-df-convert:hover {\n",
              "      background-color: #434B5C;\n",
              "      box-shadow: 0px 1px 3px 1px rgba(0, 0, 0, 0.15);\n",
              "      filter: drop-shadow(0px 1px 2px rgba(0, 0, 0, 0.3));\n",
              "      fill: #FFFFFF;\n",
              "    }\n",
              "  </style>\n",
              "\n",
              "      <script>\n",
              "        const buttonEl =\n",
              "          document.querySelector('#df-f0308c11-c9d5-4d61-8bc1-f65a3f4ce348 button.colab-df-convert');\n",
              "        buttonEl.style.display =\n",
              "          google.colab.kernel.accessAllowed ? 'block' : 'none';\n",
              "\n",
              "        async function convertToInteractive(key) {\n",
              "          const element = document.querySelector('#df-f0308c11-c9d5-4d61-8bc1-f65a3f4ce348');\n",
              "          const dataTable =\n",
              "            await google.colab.kernel.invokeFunction('convertToInteractive',\n",
              "                                                     [key], {});\n",
              "          if (!dataTable) return;\n",
              "\n",
              "          const docLinkHtml = 'Like what you see? Visit the ' +\n",
              "            '<a target=\"_blank\" href=https://colab.research.google.com/notebooks/data_table.ipynb>data table notebook</a>'\n",
              "            + ' to learn more about interactive tables.';\n",
              "          element.innerHTML = '';\n",
              "          dataTable['output_type'] = 'display_data';\n",
              "          await google.colab.output.renderOutput(dataTable, element);\n",
              "          const docLink = document.createElement('div');\n",
              "          docLink.innerHTML = docLinkHtml;\n",
              "          element.appendChild(docLink);\n",
              "        }\n",
              "      </script>\n",
              "    </div>\n",
              "  </div>\n",
              "  "
            ]
          },
          "metadata": {},
          "execution_count": 16
        }
      ]
    },
    {
      "cell_type": "markdown",
      "source": [
        "**Now Create a variable called collateral which takes the values secured or unsecured depending on whether the product type is secured or not**"
      ],
      "metadata": {
        "id": "xh5-UObYF--c"
      }
    },
    {
      "cell_type": "code",
      "source": [
        "# Make a new column from product code\n",
        "df['collateral'] = df['product_code'].str[-1:]\n",
        "df['collateral'] = df['collateral'].replace(['S'],'secured')\n",
        "df['collateral'] = df['collateral'].replace(['U'],'unsecured')\n",
        "df.head(3)"
      ],
      "metadata": {
        "colab": {
          "base_uri": "https://localhost:8080/",
          "height": 225
        },
        "id": "0E-_wuBLGY1S",
        "outputId": "3473ab15-ba3e-4975-9f19-c606a0d53d43"
      },
      "execution_count": null,
      "outputs": [
        {
          "output_type": "execute_result",
          "data": {
            "text/plain": [
              "   loan_id account_number  customer_id  enterprise_id screening_date  \\\n",
              "0    29321           None        71846        24500.0     2018-04-19   \n",
              "1    13613   TLWCU0003070        31083        10723.0     2017-08-10   \n",
              "2    13921           None        31928        11002.0     2017-08-17   \n",
              "\n",
              "  product_code  hub_id business_type business_activity      business_sector  \\\n",
              "0         None      53          None          Job Work  Machine  Components   \n",
              "1        TLWCU      39       Trading            Retail          Electronics   \n",
              "2         None      56          None            Retail          Agriculture   \n",
              "\n",
              "   enterprise_id  ManagAgeui_APP BusinFormalityOfTheBusinessui  \\\n",
              "0        24500.0            27.0                          None   \n",
              "1        10723.0            30.0              Invoice & Banked   \n",
              "2        11002.0            55.0                          None   \n",
              "\n",
              "   ManagCBscoreui_APP  total_disbursement_amount disbursement_month  lable  \\\n",
              "0                   1                        NaN               None      0   \n",
              "1                   0                   400000.0           Aug-2017      1   \n",
              "2                   1                        NaN               None      0   \n",
              "\n",
              "  collateral  \n",
              "0       None  \n",
              "1  unsecured  \n",
              "2       None  "
            ],
            "text/html": [
              "\n",
              "  <div id=\"df-bad9f1b0-fe83-4a5c-91dd-68dfc9c89d65\">\n",
              "    <div class=\"colab-df-container\">\n",
              "      <div>\n",
              "<style scoped>\n",
              "    .dataframe tbody tr th:only-of-type {\n",
              "        vertical-align: middle;\n",
              "    }\n",
              "\n",
              "    .dataframe tbody tr th {\n",
              "        vertical-align: top;\n",
              "    }\n",
              "\n",
              "    .dataframe thead th {\n",
              "        text-align: right;\n",
              "    }\n",
              "</style>\n",
              "<table border=\"1\" class=\"dataframe\">\n",
              "  <thead>\n",
              "    <tr style=\"text-align: right;\">\n",
              "      <th></th>\n",
              "      <th>loan_id</th>\n",
              "      <th>account_number</th>\n",
              "      <th>customer_id</th>\n",
              "      <th>enterprise_id</th>\n",
              "      <th>screening_date</th>\n",
              "      <th>product_code</th>\n",
              "      <th>hub_id</th>\n",
              "      <th>business_type</th>\n",
              "      <th>business_activity</th>\n",
              "      <th>business_sector</th>\n",
              "      <th>enterprise_id</th>\n",
              "      <th>ManagAgeui_APP</th>\n",
              "      <th>BusinFormalityOfTheBusinessui</th>\n",
              "      <th>ManagCBscoreui_APP</th>\n",
              "      <th>total_disbursement_amount</th>\n",
              "      <th>disbursement_month</th>\n",
              "      <th>lable</th>\n",
              "      <th>collateral</th>\n",
              "    </tr>\n",
              "  </thead>\n",
              "  <tbody>\n",
              "    <tr>\n",
              "      <th>0</th>\n",
              "      <td>29321</td>\n",
              "      <td>None</td>\n",
              "      <td>71846</td>\n",
              "      <td>24500.0</td>\n",
              "      <td>2018-04-19</td>\n",
              "      <td>None</td>\n",
              "      <td>53</td>\n",
              "      <td>None</td>\n",
              "      <td>Job Work</td>\n",
              "      <td>Machine  Components</td>\n",
              "      <td>24500.0</td>\n",
              "      <td>27.0</td>\n",
              "      <td>None</td>\n",
              "      <td>1</td>\n",
              "      <td>NaN</td>\n",
              "      <td>None</td>\n",
              "      <td>0</td>\n",
              "      <td>None</td>\n",
              "    </tr>\n",
              "    <tr>\n",
              "      <th>1</th>\n",
              "      <td>13613</td>\n",
              "      <td>TLWCU0003070</td>\n",
              "      <td>31083</td>\n",
              "      <td>10723.0</td>\n",
              "      <td>2017-08-10</td>\n",
              "      <td>TLWCU</td>\n",
              "      <td>39</td>\n",
              "      <td>Trading</td>\n",
              "      <td>Retail</td>\n",
              "      <td>Electronics</td>\n",
              "      <td>10723.0</td>\n",
              "      <td>30.0</td>\n",
              "      <td>Invoice &amp; Banked</td>\n",
              "      <td>0</td>\n",
              "      <td>400000.0</td>\n",
              "      <td>Aug-2017</td>\n",
              "      <td>1</td>\n",
              "      <td>unsecured</td>\n",
              "    </tr>\n",
              "    <tr>\n",
              "      <th>2</th>\n",
              "      <td>13921</td>\n",
              "      <td>None</td>\n",
              "      <td>31928</td>\n",
              "      <td>11002.0</td>\n",
              "      <td>2017-08-17</td>\n",
              "      <td>None</td>\n",
              "      <td>56</td>\n",
              "      <td>None</td>\n",
              "      <td>Retail</td>\n",
              "      <td>Agriculture</td>\n",
              "      <td>11002.0</td>\n",
              "      <td>55.0</td>\n",
              "      <td>None</td>\n",
              "      <td>1</td>\n",
              "      <td>NaN</td>\n",
              "      <td>None</td>\n",
              "      <td>0</td>\n",
              "      <td>None</td>\n",
              "    </tr>\n",
              "  </tbody>\n",
              "</table>\n",
              "</div>\n",
              "      <button class=\"colab-df-convert\" onclick=\"convertToInteractive('df-bad9f1b0-fe83-4a5c-91dd-68dfc9c89d65')\"\n",
              "              title=\"Convert this dataframe to an interactive table.\"\n",
              "              style=\"display:none;\">\n",
              "        \n",
              "  <svg xmlns=\"http://www.w3.org/2000/svg\" height=\"24px\"viewBox=\"0 0 24 24\"\n",
              "       width=\"24px\">\n",
              "    <path d=\"M0 0h24v24H0V0z\" fill=\"none\"/>\n",
              "    <path d=\"M18.56 5.44l.94 2.06.94-2.06 2.06-.94-2.06-.94-.94-2.06-.94 2.06-2.06.94zm-11 1L8.5 8.5l.94-2.06 2.06-.94-2.06-.94L8.5 2.5l-.94 2.06-2.06.94zm10 10l.94 2.06.94-2.06 2.06-.94-2.06-.94-.94-2.06-.94 2.06-2.06.94z\"/><path d=\"M17.41 7.96l-1.37-1.37c-.4-.4-.92-.59-1.43-.59-.52 0-1.04.2-1.43.59L10.3 9.45l-7.72 7.72c-.78.78-.78 2.05 0 2.83L4 21.41c.39.39.9.59 1.41.59.51 0 1.02-.2 1.41-.59l7.78-7.78 2.81-2.81c.8-.78.8-2.07 0-2.86zM5.41 20L4 18.59l7.72-7.72 1.47 1.35L5.41 20z\"/>\n",
              "  </svg>\n",
              "      </button>\n",
              "      \n",
              "  <style>\n",
              "    .colab-df-container {\n",
              "      display:flex;\n",
              "      flex-wrap:wrap;\n",
              "      gap: 12px;\n",
              "    }\n",
              "\n",
              "    .colab-df-convert {\n",
              "      background-color: #E8F0FE;\n",
              "      border: none;\n",
              "      border-radius: 50%;\n",
              "      cursor: pointer;\n",
              "      display: none;\n",
              "      fill: #1967D2;\n",
              "      height: 32px;\n",
              "      padding: 0 0 0 0;\n",
              "      width: 32px;\n",
              "    }\n",
              "\n",
              "    .colab-df-convert:hover {\n",
              "      background-color: #E2EBFA;\n",
              "      box-shadow: 0px 1px 2px rgba(60, 64, 67, 0.3), 0px 1px 3px 1px rgba(60, 64, 67, 0.15);\n",
              "      fill: #174EA6;\n",
              "    }\n",
              "\n",
              "    [theme=dark] .colab-df-convert {\n",
              "      background-color: #3B4455;\n",
              "      fill: #D2E3FC;\n",
              "    }\n",
              "\n",
              "    [theme=dark] .colab-df-convert:hover {\n",
              "      background-color: #434B5C;\n",
              "      box-shadow: 0px 1px 3px 1px rgba(0, 0, 0, 0.15);\n",
              "      filter: drop-shadow(0px 1px 2px rgba(0, 0, 0, 0.3));\n",
              "      fill: #FFFFFF;\n",
              "    }\n",
              "  </style>\n",
              "\n",
              "      <script>\n",
              "        const buttonEl =\n",
              "          document.querySelector('#df-bad9f1b0-fe83-4a5c-91dd-68dfc9c89d65 button.colab-df-convert');\n",
              "        buttonEl.style.display =\n",
              "          google.colab.kernel.accessAllowed ? 'block' : 'none';\n",
              "\n",
              "        async function convertToInteractive(key) {\n",
              "          const element = document.querySelector('#df-bad9f1b0-fe83-4a5c-91dd-68dfc9c89d65');\n",
              "          const dataTable =\n",
              "            await google.colab.kernel.invokeFunction('convertToInteractive',\n",
              "                                                     [key], {});\n",
              "          if (!dataTable) return;\n",
              "\n",
              "          const docLinkHtml = 'Like what you see? Visit the ' +\n",
              "            '<a target=\"_blank\" href=https://colab.research.google.com/notebooks/data_table.ipynb>data table notebook</a>'\n",
              "            + ' to learn more about interactive tables.';\n",
              "          element.innerHTML = '';\n",
              "          dataTable['output_type'] = 'display_data';\n",
              "          await google.colab.output.renderOutput(dataTable, element);\n",
              "          const docLink = document.createElement('div');\n",
              "          docLink.innerHTML = docLinkHtml;\n",
              "          element.appendChild(docLink);\n",
              "        }\n",
              "      </script>\n",
              "    </div>\n",
              "  </div>\n",
              "  "
            ]
          },
          "metadata": {},
          "execution_count": 17
        }
      ]
    },
    {
      "cell_type": "markdown",
      "source": [
        "**Check the data types**"
      ],
      "metadata": {
        "id": "5YGfBzF-II3x"
      }
    },
    {
      "cell_type": "code",
      "source": [
        "#check the data information\n",
        "df.info()"
      ],
      "metadata": {
        "colab": {
          "base_uri": "https://localhost:8080/"
        },
        "id": "EN1euksLIEsy",
        "outputId": "255f0ea7-d2c4-4afd-9371-0767702544d6"
      },
      "execution_count": null,
      "outputs": [
        {
          "output_type": "stream",
          "name": "stdout",
          "text": [
            "<class 'pandas.core.frame.DataFrame'>\n",
            "RangeIndex: 2476 entries, 0 to 2475\n",
            "Data columns (total 18 columns):\n",
            " #   Column                         Non-Null Count  Dtype  \n",
            "---  ------                         --------------  -----  \n",
            " 0   loan_id                        2476 non-null   int64  \n",
            " 1   account_number                 1369 non-null   object \n",
            " 2   customer_id                    2476 non-null   int64  \n",
            " 3   enterprise_id                  2475 non-null   float64\n",
            " 4   screening_date                 2350 non-null   object \n",
            " 5   product_code                   1418 non-null   object \n",
            " 6   hub_id                         2476 non-null   int64  \n",
            " 7   business_type                  2013 non-null   object \n",
            " 8   business_activity              2475 non-null   object \n",
            " 9   business_sector                2475 non-null   object \n",
            " 10  enterprise_id                  2475 non-null   float64\n",
            " 11  ManagAgeui_APP                 2473 non-null   float64\n",
            " 12  BusinFormalityOfTheBusinessui  1988 non-null   object \n",
            " 13  ManagCBscoreui_APP             2476 non-null   int64  \n",
            " 14  total_disbursement_amount      1369 non-null   float64\n",
            " 15  disbursement_month             1369 non-null   object \n",
            " 16  lable                          2476 non-null   int64  \n",
            " 17  collateral                     1418 non-null   object \n",
            "dtypes: float64(4), int64(5), object(9)\n",
            "memory usage: 348.3+ KB\n"
          ]
        }
      ]
    },
    {
      "cell_type": "code",
      "source": [
        "#check the data description\n",
        "df.describe()"
      ],
      "metadata": {
        "colab": {
          "base_uri": "https://localhost:8080/",
          "height": 300
        },
        "id": "yECYptVPIQQ9",
        "outputId": "67ee9e6d-e91d-4914-e021-7e372e46ac43"
      },
      "execution_count": null,
      "outputs": [
        {
          "output_type": "execute_result",
          "data": {
            "text/plain": [
              "            loan_id    customer_id  enterprise_id       hub_id  enterprise_id  \\\n",
              "count   2476.000000    2476.000000    2475.000000  2476.000000    2475.000000   \n",
              "mean   34771.864701   70758.806947   23959.273939    43.886511   23959.273939   \n",
              "std    17263.360009   42834.934930   14534.358561    24.709423   14534.358561   \n",
              "min      304.000000    6597.000000      32.000000     3.000000      32.000000   \n",
              "25%    20910.250000   30589.750000   10590.500000    24.000000   10590.500000   \n",
              "50%    34944.500000   70246.000000   23960.000000    40.000000   23960.000000   \n",
              "75%    49721.000000  107932.500000   36499.500000    61.000000   36499.500000   \n",
              "max    65573.000000  150487.000000   50761.000000    99.000000   50761.000000   \n",
              "\n",
              "       ManagAgeui_APP  ManagCBscoreui_APP  total_disbursement_amount  \\\n",
              "count     2473.000000         2476.000000               1.369000e+03   \n",
              "mean        38.264860            0.647415               3.702370e+05   \n",
              "std          8.663885            0.477871               3.084137e+05   \n",
              "min         20.000000            0.000000               7.000000e+04   \n",
              "25%         32.000000            0.000000               2.000000e+05   \n",
              "50%         37.000000            1.000000               3.000000e+05   \n",
              "75%         44.000000            1.000000               5.000000e+05   \n",
              "max         69.000000            1.000000               3.500000e+06   \n",
              "\n",
              "             lable  \n",
              "count  2476.000000  \n",
              "mean      0.552908  \n",
              "std       0.497293  \n",
              "min       0.000000  \n",
              "25%       0.000000  \n",
              "50%       1.000000  \n",
              "75%       1.000000  \n",
              "max       1.000000  "
            ],
            "text/html": [
              "\n",
              "  <div id=\"df-0a406a84-b0ee-42dd-9258-339aa8469149\">\n",
              "    <div class=\"colab-df-container\">\n",
              "      <div>\n",
              "<style scoped>\n",
              "    .dataframe tbody tr th:only-of-type {\n",
              "        vertical-align: middle;\n",
              "    }\n",
              "\n",
              "    .dataframe tbody tr th {\n",
              "        vertical-align: top;\n",
              "    }\n",
              "\n",
              "    .dataframe thead th {\n",
              "        text-align: right;\n",
              "    }\n",
              "</style>\n",
              "<table border=\"1\" class=\"dataframe\">\n",
              "  <thead>\n",
              "    <tr style=\"text-align: right;\">\n",
              "      <th></th>\n",
              "      <th>loan_id</th>\n",
              "      <th>customer_id</th>\n",
              "      <th>enterprise_id</th>\n",
              "      <th>hub_id</th>\n",
              "      <th>enterprise_id</th>\n",
              "      <th>ManagAgeui_APP</th>\n",
              "      <th>ManagCBscoreui_APP</th>\n",
              "      <th>total_disbursement_amount</th>\n",
              "      <th>lable</th>\n",
              "    </tr>\n",
              "  </thead>\n",
              "  <tbody>\n",
              "    <tr>\n",
              "      <th>count</th>\n",
              "      <td>2476.000000</td>\n",
              "      <td>2476.000000</td>\n",
              "      <td>2475.000000</td>\n",
              "      <td>2476.000000</td>\n",
              "      <td>2475.000000</td>\n",
              "      <td>2473.000000</td>\n",
              "      <td>2476.000000</td>\n",
              "      <td>1.369000e+03</td>\n",
              "      <td>2476.000000</td>\n",
              "    </tr>\n",
              "    <tr>\n",
              "      <th>mean</th>\n",
              "      <td>34771.864701</td>\n",
              "      <td>70758.806947</td>\n",
              "      <td>23959.273939</td>\n",
              "      <td>43.886511</td>\n",
              "      <td>23959.273939</td>\n",
              "      <td>38.264860</td>\n",
              "      <td>0.647415</td>\n",
              "      <td>3.702370e+05</td>\n",
              "      <td>0.552908</td>\n",
              "    </tr>\n",
              "    <tr>\n",
              "      <th>std</th>\n",
              "      <td>17263.360009</td>\n",
              "      <td>42834.934930</td>\n",
              "      <td>14534.358561</td>\n",
              "      <td>24.709423</td>\n",
              "      <td>14534.358561</td>\n",
              "      <td>8.663885</td>\n",
              "      <td>0.477871</td>\n",
              "      <td>3.084137e+05</td>\n",
              "      <td>0.497293</td>\n",
              "    </tr>\n",
              "    <tr>\n",
              "      <th>min</th>\n",
              "      <td>304.000000</td>\n",
              "      <td>6597.000000</td>\n",
              "      <td>32.000000</td>\n",
              "      <td>3.000000</td>\n",
              "      <td>32.000000</td>\n",
              "      <td>20.000000</td>\n",
              "      <td>0.000000</td>\n",
              "      <td>7.000000e+04</td>\n",
              "      <td>0.000000</td>\n",
              "    </tr>\n",
              "    <tr>\n",
              "      <th>25%</th>\n",
              "      <td>20910.250000</td>\n",
              "      <td>30589.750000</td>\n",
              "      <td>10590.500000</td>\n",
              "      <td>24.000000</td>\n",
              "      <td>10590.500000</td>\n",
              "      <td>32.000000</td>\n",
              "      <td>0.000000</td>\n",
              "      <td>2.000000e+05</td>\n",
              "      <td>0.000000</td>\n",
              "    </tr>\n",
              "    <tr>\n",
              "      <th>50%</th>\n",
              "      <td>34944.500000</td>\n",
              "      <td>70246.000000</td>\n",
              "      <td>23960.000000</td>\n",
              "      <td>40.000000</td>\n",
              "      <td>23960.000000</td>\n",
              "      <td>37.000000</td>\n",
              "      <td>1.000000</td>\n",
              "      <td>3.000000e+05</td>\n",
              "      <td>1.000000</td>\n",
              "    </tr>\n",
              "    <tr>\n",
              "      <th>75%</th>\n",
              "      <td>49721.000000</td>\n",
              "      <td>107932.500000</td>\n",
              "      <td>36499.500000</td>\n",
              "      <td>61.000000</td>\n",
              "      <td>36499.500000</td>\n",
              "      <td>44.000000</td>\n",
              "      <td>1.000000</td>\n",
              "      <td>5.000000e+05</td>\n",
              "      <td>1.000000</td>\n",
              "    </tr>\n",
              "    <tr>\n",
              "      <th>max</th>\n",
              "      <td>65573.000000</td>\n",
              "      <td>150487.000000</td>\n",
              "      <td>50761.000000</td>\n",
              "      <td>99.000000</td>\n",
              "      <td>50761.000000</td>\n",
              "      <td>69.000000</td>\n",
              "      <td>1.000000</td>\n",
              "      <td>3.500000e+06</td>\n",
              "      <td>1.000000</td>\n",
              "    </tr>\n",
              "  </tbody>\n",
              "</table>\n",
              "</div>\n",
              "      <button class=\"colab-df-convert\" onclick=\"convertToInteractive('df-0a406a84-b0ee-42dd-9258-339aa8469149')\"\n",
              "              title=\"Convert this dataframe to an interactive table.\"\n",
              "              style=\"display:none;\">\n",
              "        \n",
              "  <svg xmlns=\"http://www.w3.org/2000/svg\" height=\"24px\"viewBox=\"0 0 24 24\"\n",
              "       width=\"24px\">\n",
              "    <path d=\"M0 0h24v24H0V0z\" fill=\"none\"/>\n",
              "    <path d=\"M18.56 5.44l.94 2.06.94-2.06 2.06-.94-2.06-.94-.94-2.06-.94 2.06-2.06.94zm-11 1L8.5 8.5l.94-2.06 2.06-.94-2.06-.94L8.5 2.5l-.94 2.06-2.06.94zm10 10l.94 2.06.94-2.06 2.06-.94-2.06-.94-.94-2.06-.94 2.06-2.06.94z\"/><path d=\"M17.41 7.96l-1.37-1.37c-.4-.4-.92-.59-1.43-.59-.52 0-1.04.2-1.43.59L10.3 9.45l-7.72 7.72c-.78.78-.78 2.05 0 2.83L4 21.41c.39.39.9.59 1.41.59.51 0 1.02-.2 1.41-.59l7.78-7.78 2.81-2.81c.8-.78.8-2.07 0-2.86zM5.41 20L4 18.59l7.72-7.72 1.47 1.35L5.41 20z\"/>\n",
              "  </svg>\n",
              "      </button>\n",
              "      \n",
              "  <style>\n",
              "    .colab-df-container {\n",
              "      display:flex;\n",
              "      flex-wrap:wrap;\n",
              "      gap: 12px;\n",
              "    }\n",
              "\n",
              "    .colab-df-convert {\n",
              "      background-color: #E8F0FE;\n",
              "      border: none;\n",
              "      border-radius: 50%;\n",
              "      cursor: pointer;\n",
              "      display: none;\n",
              "      fill: #1967D2;\n",
              "      height: 32px;\n",
              "      padding: 0 0 0 0;\n",
              "      width: 32px;\n",
              "    }\n",
              "\n",
              "    .colab-df-convert:hover {\n",
              "      background-color: #E2EBFA;\n",
              "      box-shadow: 0px 1px 2px rgba(60, 64, 67, 0.3), 0px 1px 3px 1px rgba(60, 64, 67, 0.15);\n",
              "      fill: #174EA6;\n",
              "    }\n",
              "\n",
              "    [theme=dark] .colab-df-convert {\n",
              "      background-color: #3B4455;\n",
              "      fill: #D2E3FC;\n",
              "    }\n",
              "\n",
              "    [theme=dark] .colab-df-convert:hover {\n",
              "      background-color: #434B5C;\n",
              "      box-shadow: 0px 1px 3px 1px rgba(0, 0, 0, 0.15);\n",
              "      filter: drop-shadow(0px 1px 2px rgba(0, 0, 0, 0.3));\n",
              "      fill: #FFFFFF;\n",
              "    }\n",
              "  </style>\n",
              "\n",
              "      <script>\n",
              "        const buttonEl =\n",
              "          document.querySelector('#df-0a406a84-b0ee-42dd-9258-339aa8469149 button.colab-df-convert');\n",
              "        buttonEl.style.display =\n",
              "          google.colab.kernel.accessAllowed ? 'block' : 'none';\n",
              "\n",
              "        async function convertToInteractive(key) {\n",
              "          const element = document.querySelector('#df-0a406a84-b0ee-42dd-9258-339aa8469149');\n",
              "          const dataTable =\n",
              "            await google.colab.kernel.invokeFunction('convertToInteractive',\n",
              "                                                     [key], {});\n",
              "          if (!dataTable) return;\n",
              "\n",
              "          const docLinkHtml = 'Like what you see? Visit the ' +\n",
              "            '<a target=\"_blank\" href=https://colab.research.google.com/notebooks/data_table.ipynb>data table notebook</a>'\n",
              "            + ' to learn more about interactive tables.';\n",
              "          element.innerHTML = '';\n",
              "          dataTable['output_type'] = 'display_data';\n",
              "          await google.colab.output.renderOutput(dataTable, element);\n",
              "          const docLink = document.createElement('div');\n",
              "          docLink.innerHTML = docLinkHtml;\n",
              "          element.appendChild(docLink);\n",
              "        }\n",
              "      </script>\n",
              "    </div>\n",
              "  </div>\n",
              "  "
            ]
          },
          "metadata": {},
          "execution_count": 19
        }
      ]
    },
    {
      "cell_type": "code",
      "source": [
        "#check the null values\n",
        "df.isnull().sum()"
      ],
      "metadata": {
        "colab": {
          "base_uri": "https://localhost:8080/"
        },
        "id": "nWI098LBITPq",
        "outputId": "86bbeb47-2614-49f9-807e-2d7dc99aba9b"
      },
      "execution_count": null,
      "outputs": [
        {
          "output_type": "execute_result",
          "data": {
            "text/plain": [
              "loan_id                             0\n",
              "account_number                   1107\n",
              "customer_id                         0\n",
              "enterprise_id                       1\n",
              "screening_date                    126\n",
              "product_code                     1058\n",
              "hub_id                              0\n",
              "business_type                     463\n",
              "business_activity                   1\n",
              "business_sector                     1\n",
              "enterprise_id                       1\n",
              "ManagAgeui_APP                      3\n",
              "BusinFormalityOfTheBusinessui     488\n",
              "ManagCBscoreui_APP                  0\n",
              "total_disbursement_amount        1107\n",
              "disbursement_month               1107\n",
              "lable                               0\n",
              "collateral                       1058\n",
              "dtype: int64"
            ]
          },
          "metadata": {},
          "execution_count": 20
        }
      ]
    },
    {
      "cell_type": "markdown",
      "source": [
        "**There is huge number of null values present in the data so we can't drop the columns directly. So we have to treat all the missing values**"
      ],
      "metadata": {
        "id": "UuEK79sXIWzr"
      }
    },
    {
      "cell_type": "code",
      "source": [
        "#Fill null values with zero in the total disbursement amount\n",
        "df['total_disbursement_amount'] = df['total_disbursement_amount'].fillna(0)\n"
      ],
      "metadata": {
        "id": "a1NI81DHIdMr"
      },
      "execution_count": null,
      "outputs": []
    },
    {
      "cell_type": "code",
      "source": [
        "#check the dataset \n",
        "df.head(5)"
      ],
      "metadata": {
        "colab": {
          "base_uri": "https://localhost:8080/",
          "height": 287
        },
        "id": "7jqjDVN59Pjm",
        "outputId": "698b295b-d9a4-401c-c669-5f9a3edd2013"
      },
      "execution_count": null,
      "outputs": [
        {
          "output_type": "execute_result",
          "data": {
            "text/plain": [
              "   loan_id account_number  customer_id  enterprise_id screening_date  \\\n",
              "0    29321           None        71846        24500.0     2018-04-19   \n",
              "1    13613   TLWCU0003070        31083        10723.0     2017-08-10   \n",
              "2    13921           None        31928        11002.0     2017-08-17   \n",
              "3    16520           None        38660        13220.0     2017-10-21   \n",
              "4    49742   TLWCS0012623       119694        40426.0     2018-12-24   \n",
              "\n",
              "  product_code  hub_id  business_type business_activity      business_sector  \\\n",
              "0         None      53           None          Job Work  Machine  Components   \n",
              "1        TLWCU      39        Trading            Retail          Electronics   \n",
              "2         None      56           None            Retail          Agriculture   \n",
              "3         None      58           None            Retail      Food & Beverage   \n",
              "4        TLWCS      27  Manufacturing  Job Work & Sales             Textiles   \n",
              "\n",
              "   enterprise_id  ManagAgeui_APP BusinFormalityOfTheBusinessui  \\\n",
              "0        24500.0            27.0                          None   \n",
              "1        10723.0            30.0              Invoice & Banked   \n",
              "2        11002.0            55.0                          None   \n",
              "3        13220.0            26.0                          None   \n",
              "4        40426.0            30.0             Cash & Non Banked   \n",
              "\n",
              "   ManagCBscoreui_APP  total_disbursement_amount disbursement_month  \n",
              "0               776.0                        0.0               None  \n",
              "1               616.0                   400000.0           Aug-2017  \n",
              "2               793.0                        0.0               None  \n",
              "3               781.0                        0.0               None  \n",
              "4               689.0                   500000.0           Jan-2019  "
            ],
            "text/html": [
              "\n",
              "  <div id=\"df-2c1e2dc8-d63a-414f-80c4-18c913e9acdb\">\n",
              "    <div class=\"colab-df-container\">\n",
              "      <div>\n",
              "<style scoped>\n",
              "    .dataframe tbody tr th:only-of-type {\n",
              "        vertical-align: middle;\n",
              "    }\n",
              "\n",
              "    .dataframe tbody tr th {\n",
              "        vertical-align: top;\n",
              "    }\n",
              "\n",
              "    .dataframe thead th {\n",
              "        text-align: right;\n",
              "    }\n",
              "</style>\n",
              "<table border=\"1\" class=\"dataframe\">\n",
              "  <thead>\n",
              "    <tr style=\"text-align: right;\">\n",
              "      <th></th>\n",
              "      <th>loan_id</th>\n",
              "      <th>account_number</th>\n",
              "      <th>customer_id</th>\n",
              "      <th>enterprise_id</th>\n",
              "      <th>screening_date</th>\n",
              "      <th>product_code</th>\n",
              "      <th>hub_id</th>\n",
              "      <th>business_type</th>\n",
              "      <th>business_activity</th>\n",
              "      <th>business_sector</th>\n",
              "      <th>enterprise_id</th>\n",
              "      <th>ManagAgeui_APP</th>\n",
              "      <th>BusinFormalityOfTheBusinessui</th>\n",
              "      <th>ManagCBscoreui_APP</th>\n",
              "      <th>total_disbursement_amount</th>\n",
              "      <th>disbursement_month</th>\n",
              "    </tr>\n",
              "  </thead>\n",
              "  <tbody>\n",
              "    <tr>\n",
              "      <th>0</th>\n",
              "      <td>29321</td>\n",
              "      <td>None</td>\n",
              "      <td>71846</td>\n",
              "      <td>24500.0</td>\n",
              "      <td>2018-04-19</td>\n",
              "      <td>None</td>\n",
              "      <td>53</td>\n",
              "      <td>None</td>\n",
              "      <td>Job Work</td>\n",
              "      <td>Machine  Components</td>\n",
              "      <td>24500.0</td>\n",
              "      <td>27.0</td>\n",
              "      <td>None</td>\n",
              "      <td>776.0</td>\n",
              "      <td>0.0</td>\n",
              "      <td>None</td>\n",
              "    </tr>\n",
              "    <tr>\n",
              "      <th>1</th>\n",
              "      <td>13613</td>\n",
              "      <td>TLWCU0003070</td>\n",
              "      <td>31083</td>\n",
              "      <td>10723.0</td>\n",
              "      <td>2017-08-10</td>\n",
              "      <td>TLWCU</td>\n",
              "      <td>39</td>\n",
              "      <td>Trading</td>\n",
              "      <td>Retail</td>\n",
              "      <td>Electronics</td>\n",
              "      <td>10723.0</td>\n",
              "      <td>30.0</td>\n",
              "      <td>Invoice &amp; Banked</td>\n",
              "      <td>616.0</td>\n",
              "      <td>400000.0</td>\n",
              "      <td>Aug-2017</td>\n",
              "    </tr>\n",
              "    <tr>\n",
              "      <th>2</th>\n",
              "      <td>13921</td>\n",
              "      <td>None</td>\n",
              "      <td>31928</td>\n",
              "      <td>11002.0</td>\n",
              "      <td>2017-08-17</td>\n",
              "      <td>None</td>\n",
              "      <td>56</td>\n",
              "      <td>None</td>\n",
              "      <td>Retail</td>\n",
              "      <td>Agriculture</td>\n",
              "      <td>11002.0</td>\n",
              "      <td>55.0</td>\n",
              "      <td>None</td>\n",
              "      <td>793.0</td>\n",
              "      <td>0.0</td>\n",
              "      <td>None</td>\n",
              "    </tr>\n",
              "    <tr>\n",
              "      <th>3</th>\n",
              "      <td>16520</td>\n",
              "      <td>None</td>\n",
              "      <td>38660</td>\n",
              "      <td>13220.0</td>\n",
              "      <td>2017-10-21</td>\n",
              "      <td>None</td>\n",
              "      <td>58</td>\n",
              "      <td>None</td>\n",
              "      <td>Retail</td>\n",
              "      <td>Food &amp; Beverage</td>\n",
              "      <td>13220.0</td>\n",
              "      <td>26.0</td>\n",
              "      <td>None</td>\n",
              "      <td>781.0</td>\n",
              "      <td>0.0</td>\n",
              "      <td>None</td>\n",
              "    </tr>\n",
              "    <tr>\n",
              "      <th>4</th>\n",
              "      <td>49742</td>\n",
              "      <td>TLWCS0012623</td>\n",
              "      <td>119694</td>\n",
              "      <td>40426.0</td>\n",
              "      <td>2018-12-24</td>\n",
              "      <td>TLWCS</td>\n",
              "      <td>27</td>\n",
              "      <td>Manufacturing</td>\n",
              "      <td>Job Work &amp; Sales</td>\n",
              "      <td>Textiles</td>\n",
              "      <td>40426.0</td>\n",
              "      <td>30.0</td>\n",
              "      <td>Cash &amp; Non Banked</td>\n",
              "      <td>689.0</td>\n",
              "      <td>500000.0</td>\n",
              "      <td>Jan-2019</td>\n",
              "    </tr>\n",
              "  </tbody>\n",
              "</table>\n",
              "</div>\n",
              "      <button class=\"colab-df-convert\" onclick=\"convertToInteractive('df-2c1e2dc8-d63a-414f-80c4-18c913e9acdb')\"\n",
              "              title=\"Convert this dataframe to an interactive table.\"\n",
              "              style=\"display:none;\">\n",
              "        \n",
              "  <svg xmlns=\"http://www.w3.org/2000/svg\" height=\"24px\"viewBox=\"0 0 24 24\"\n",
              "       width=\"24px\">\n",
              "    <path d=\"M0 0h24v24H0V0z\" fill=\"none\"/>\n",
              "    <path d=\"M18.56 5.44l.94 2.06.94-2.06 2.06-.94-2.06-.94-.94-2.06-.94 2.06-2.06.94zm-11 1L8.5 8.5l.94-2.06 2.06-.94-2.06-.94L8.5 2.5l-.94 2.06-2.06.94zm10 10l.94 2.06.94-2.06 2.06-.94-2.06-.94-.94-2.06-.94 2.06-2.06.94z\"/><path d=\"M17.41 7.96l-1.37-1.37c-.4-.4-.92-.59-1.43-.59-.52 0-1.04.2-1.43.59L10.3 9.45l-7.72 7.72c-.78.78-.78 2.05 0 2.83L4 21.41c.39.39.9.59 1.41.59.51 0 1.02-.2 1.41-.59l7.78-7.78 2.81-2.81c.8-.78.8-2.07 0-2.86zM5.41 20L4 18.59l7.72-7.72 1.47 1.35L5.41 20z\"/>\n",
              "  </svg>\n",
              "      </button>\n",
              "      \n",
              "  <style>\n",
              "    .colab-df-container {\n",
              "      display:flex;\n",
              "      flex-wrap:wrap;\n",
              "      gap: 12px;\n",
              "    }\n",
              "\n",
              "    .colab-df-convert {\n",
              "      background-color: #E8F0FE;\n",
              "      border: none;\n",
              "      border-radius: 50%;\n",
              "      cursor: pointer;\n",
              "      display: none;\n",
              "      fill: #1967D2;\n",
              "      height: 32px;\n",
              "      padding: 0 0 0 0;\n",
              "      width: 32px;\n",
              "    }\n",
              "\n",
              "    .colab-df-convert:hover {\n",
              "      background-color: #E2EBFA;\n",
              "      box-shadow: 0px 1px 2px rgba(60, 64, 67, 0.3), 0px 1px 3px 1px rgba(60, 64, 67, 0.15);\n",
              "      fill: #174EA6;\n",
              "    }\n",
              "\n",
              "    [theme=dark] .colab-df-convert {\n",
              "      background-color: #3B4455;\n",
              "      fill: #D2E3FC;\n",
              "    }\n",
              "\n",
              "    [theme=dark] .colab-df-convert:hover {\n",
              "      background-color: #434B5C;\n",
              "      box-shadow: 0px 1px 3px 1px rgba(0, 0, 0, 0.15);\n",
              "      filter: drop-shadow(0px 1px 2px rgba(0, 0, 0, 0.3));\n",
              "      fill: #FFFFFF;\n",
              "    }\n",
              "  </style>\n",
              "\n",
              "      <script>\n",
              "        const buttonEl =\n",
              "          document.querySelector('#df-2c1e2dc8-d63a-414f-80c4-18c913e9acdb button.colab-df-convert');\n",
              "        buttonEl.style.display =\n",
              "          google.colab.kernel.accessAllowed ? 'block' : 'none';\n",
              "\n",
              "        async function convertToInteractive(key) {\n",
              "          const element = document.querySelector('#df-2c1e2dc8-d63a-414f-80c4-18c913e9acdb');\n",
              "          const dataTable =\n",
              "            await google.colab.kernel.invokeFunction('convertToInteractive',\n",
              "                                                     [key], {});\n",
              "          if (!dataTable) return;\n",
              "\n",
              "          const docLinkHtml = 'Like what you see? Visit the ' +\n",
              "            '<a target=\"_blank\" href=https://colab.research.google.com/notebooks/data_table.ipynb>data table notebook</a>'\n",
              "            + ' to learn more about interactive tables.';\n",
              "          element.innerHTML = '';\n",
              "          dataTable['output_type'] = 'display_data';\n",
              "          await google.colab.output.renderOutput(dataTable, element);\n",
              "          const docLink = document.createElement('div');\n",
              "          docLink.innerHTML = docLinkHtml;\n",
              "          element.appendChild(docLink);\n",
              "        }\n",
              "      </script>\n",
              "    </div>\n",
              "  </div>\n",
              "  "
            ]
          },
          "metadata": {},
          "execution_count": 78
        }
      ]
    },
    {
      "cell_type": "code",
      "source": [
        "#check the null values\n",
        "df.isnull().sum()\n"
      ],
      "metadata": {
        "colab": {
          "base_uri": "https://localhost:8080/"
        },
        "id": "wCcm9jnxP6CV",
        "outputId": "7721e914-989a-4713-bab0-c82a234ca694"
      },
      "execution_count": null,
      "outputs": [
        {
          "output_type": "execute_result",
          "data": {
            "text/plain": [
              "loan_id                             0\n",
              "account_number                   1107\n",
              "customer_id                         0\n",
              "enterprise_id                       1\n",
              "screening_date                    126\n",
              "product_code                     1058\n",
              "hub_id                              0\n",
              "business_type                     463\n",
              "business_activity                   1\n",
              "business_sector                     1\n",
              "enterprise_id                       1\n",
              "ManagAgeui_APP                      3\n",
              "BusinFormalityOfTheBusinessui     488\n",
              "ManagCBscoreui_APP                  0\n",
              "total_disbursement_amount           0\n",
              "disbursement_month               1107\n",
              "lable                               0\n",
              "collateral                       1058\n",
              "dtype: int64"
            ]
          },
          "metadata": {},
          "execution_count": 23
        }
      ]
    },
    {
      "cell_type": "code",
      "source": [
        "#fill null values in the business_type with the other column by making he dictonary\n",
        "df.groupby('business_type')['business_activity'].value_counts()\n",
        "business_dict = {\n",
        "    'Sales': 'Manufacturing', \n",
        "    'Job Work': 'Manufacturing', \n",
        "    'Job Work & Sales': 'Manufacturing',\n",
        "    'Retail' : 'Trading',\n",
        "    'Whole Sale' : 'Trading',\n",
        "    'Retail (Business to Customer)' : 'Services',\n",
        "    'Retail (Business to Business)' : 'Services'\n",
        "}\n",
        "\n",
        "df['business_type'] = df['business_activity'].map(business_dict)"
      ],
      "metadata": {
        "id": "gL5aVbipMyUv"
      },
      "execution_count": null,
      "outputs": []
    },
    {
      "cell_type": "code",
      "source": [
        "# now drop the null values present in the screening date\n",
        "df.dropna(subset=['screening_date'],inplace=True)"
      ],
      "metadata": {
        "id": "68OitpNDgJp4"
      },
      "execution_count": null,
      "outputs": []
    },
    {
      "cell_type": "code",
      "source": [
        "df"
      ],
      "metadata": {
        "colab": {
          "base_uri": "https://localhost:8080/",
          "height": 505
        },
        "id": "bzNgOcygSEUq",
        "outputId": "32d8da44-61d1-46fd-da38-7cb4303b2e9f"
      },
      "execution_count": null,
      "outputs": [
        {
          "output_type": "execute_result",
          "data": {
            "text/plain": [
              "      loan_id account_number  customer_id  enterprise_id screening_date  \\\n",
              "0       29321           None        71846        24500.0     2018-04-19   \n",
              "1       13613   TLWCU0003070        31083        10723.0     2017-08-10   \n",
              "2       13921           None        31928        11002.0     2017-08-17   \n",
              "3       16520           None        38660        13220.0     2017-10-21   \n",
              "4       49742   TLWCS0012623       119694        40426.0     2018-12-24   \n",
              "...       ...            ...          ...            ...            ...   \n",
              "2470    13462           None         7058          493.0     2017-08-07   \n",
              "2471    15639           None        36377        12454.0     2017-09-23   \n",
              "2472    14122   TLWCS0001490        32442        11166.0     2017-08-21   \n",
              "2474    42491   TLWCU0010873       102464        34711.0     2018-10-15   \n",
              "2475    63044           None       145880        49202.0     2019-05-26   \n",
              "\n",
              "     product_code  hub_id  business_type business_activity  \\\n",
              "0            None      53  Manufacturing          Job Work   \n",
              "1           TLWCU      39        Trading            Retail   \n",
              "2            None      56        Trading            Retail   \n",
              "3            None      58        Trading            Retail   \n",
              "4           TLWCS      27  Manufacturing  Job Work & Sales   \n",
              "...           ...     ...            ...               ...   \n",
              "2470         None      42  Manufacturing  Job Work & Sales   \n",
              "2471         None      42  Manufacturing  Job Work & Sales   \n",
              "2472        TLWCS      40  Manufacturing          Job Work   \n",
              "2474        TLWCU      32  Manufacturing             Sales   \n",
              "2475         None      85        Trading        Whole Sale   \n",
              "\n",
              "          business_sector  enterprise_id  ManagAgeui_APP  \\\n",
              "0     Machine  Components        24500.0            27.0   \n",
              "1             Electronics        10723.0            30.0   \n",
              "2             Agriculture        11002.0            55.0   \n",
              "3         Food & Beverage        13220.0            26.0   \n",
              "4                Textiles        40426.0            30.0   \n",
              "...                   ...            ...             ...   \n",
              "2470             Plastics          493.0            39.0   \n",
              "2471                 Wood        12454.0            49.0   \n",
              "2472      Auto Components        11166.0            43.0   \n",
              "2474          Fabrication        34711.0            53.0   \n",
              "2475             Plastics        49202.0            28.0   \n",
              "\n",
              "     BusinFormalityOfTheBusinessui  ManagCBscoreui_APP  \\\n",
              "0                             None                   1   \n",
              "1                 Invoice & Banked                   0   \n",
              "2                             None                   1   \n",
              "3                             None                   1   \n",
              "4                Cash & Non Banked                   1   \n",
              "...                            ...                 ...   \n",
              "2470                          None                   0   \n",
              "2471             Cash & Non Banked                   0   \n",
              "2472             Cash & Non Banked                   1   \n",
              "2474              Invoice & Banked                   1   \n",
              "2475                          None                   1   \n",
              "\n",
              "      total_disbursement_amount disbursement_month  lable collateral  \n",
              "0                        300000               None      0       None  \n",
              "1                        400000           Aug-2017      1  unsecured  \n",
              "2                        300000               None      0       None  \n",
              "3                        300000               None      0       None  \n",
              "4                        500000           Jan-2019      1    secured  \n",
              "...                         ...                ...    ...        ...  \n",
              "2470                     300000               None      0       None  \n",
              "2471                     300000               None      0       None  \n",
              "2472                     150000           Aug-2017      1    secured  \n",
              "2474                     500000           Oct-2018      1  unsecured  \n",
              "2475                     300000               None      0       None  \n",
              "\n",
              "[2350 rows x 18 columns]"
            ],
            "text/html": [
              "\n",
              "  <div id=\"df-bf665516-96aa-443c-be24-7e2895055327\">\n",
              "    <div class=\"colab-df-container\">\n",
              "      <div>\n",
              "<style scoped>\n",
              "    .dataframe tbody tr th:only-of-type {\n",
              "        vertical-align: middle;\n",
              "    }\n",
              "\n",
              "    .dataframe tbody tr th {\n",
              "        vertical-align: top;\n",
              "    }\n",
              "\n",
              "    .dataframe thead th {\n",
              "        text-align: right;\n",
              "    }\n",
              "</style>\n",
              "<table border=\"1\" class=\"dataframe\">\n",
              "  <thead>\n",
              "    <tr style=\"text-align: right;\">\n",
              "      <th></th>\n",
              "      <th>loan_id</th>\n",
              "      <th>account_number</th>\n",
              "      <th>customer_id</th>\n",
              "      <th>enterprise_id</th>\n",
              "      <th>screening_date</th>\n",
              "      <th>product_code</th>\n",
              "      <th>hub_id</th>\n",
              "      <th>business_type</th>\n",
              "      <th>business_activity</th>\n",
              "      <th>business_sector</th>\n",
              "      <th>enterprise_id</th>\n",
              "      <th>ManagAgeui_APP</th>\n",
              "      <th>BusinFormalityOfTheBusinessui</th>\n",
              "      <th>ManagCBscoreui_APP</th>\n",
              "      <th>total_disbursement_amount</th>\n",
              "      <th>disbursement_month</th>\n",
              "      <th>lable</th>\n",
              "      <th>collateral</th>\n",
              "    </tr>\n",
              "  </thead>\n",
              "  <tbody>\n",
              "    <tr>\n",
              "      <th>0</th>\n",
              "      <td>29321</td>\n",
              "      <td>None</td>\n",
              "      <td>71846</td>\n",
              "      <td>24500.0</td>\n",
              "      <td>2018-04-19</td>\n",
              "      <td>None</td>\n",
              "      <td>53</td>\n",
              "      <td>Manufacturing</td>\n",
              "      <td>Job Work</td>\n",
              "      <td>Machine  Components</td>\n",
              "      <td>24500.0</td>\n",
              "      <td>27.0</td>\n",
              "      <td>None</td>\n",
              "      <td>1</td>\n",
              "      <td>300000</td>\n",
              "      <td>None</td>\n",
              "      <td>0</td>\n",
              "      <td>None</td>\n",
              "    </tr>\n",
              "    <tr>\n",
              "      <th>1</th>\n",
              "      <td>13613</td>\n",
              "      <td>TLWCU0003070</td>\n",
              "      <td>31083</td>\n",
              "      <td>10723.0</td>\n",
              "      <td>2017-08-10</td>\n",
              "      <td>TLWCU</td>\n",
              "      <td>39</td>\n",
              "      <td>Trading</td>\n",
              "      <td>Retail</td>\n",
              "      <td>Electronics</td>\n",
              "      <td>10723.0</td>\n",
              "      <td>30.0</td>\n",
              "      <td>Invoice &amp; Banked</td>\n",
              "      <td>0</td>\n",
              "      <td>400000</td>\n",
              "      <td>Aug-2017</td>\n",
              "      <td>1</td>\n",
              "      <td>unsecured</td>\n",
              "    </tr>\n",
              "    <tr>\n",
              "      <th>2</th>\n",
              "      <td>13921</td>\n",
              "      <td>None</td>\n",
              "      <td>31928</td>\n",
              "      <td>11002.0</td>\n",
              "      <td>2017-08-17</td>\n",
              "      <td>None</td>\n",
              "      <td>56</td>\n",
              "      <td>Trading</td>\n",
              "      <td>Retail</td>\n",
              "      <td>Agriculture</td>\n",
              "      <td>11002.0</td>\n",
              "      <td>55.0</td>\n",
              "      <td>None</td>\n",
              "      <td>1</td>\n",
              "      <td>300000</td>\n",
              "      <td>None</td>\n",
              "      <td>0</td>\n",
              "      <td>None</td>\n",
              "    </tr>\n",
              "    <tr>\n",
              "      <th>3</th>\n",
              "      <td>16520</td>\n",
              "      <td>None</td>\n",
              "      <td>38660</td>\n",
              "      <td>13220.0</td>\n",
              "      <td>2017-10-21</td>\n",
              "      <td>None</td>\n",
              "      <td>58</td>\n",
              "      <td>Trading</td>\n",
              "      <td>Retail</td>\n",
              "      <td>Food &amp; Beverage</td>\n",
              "      <td>13220.0</td>\n",
              "      <td>26.0</td>\n",
              "      <td>None</td>\n",
              "      <td>1</td>\n",
              "      <td>300000</td>\n",
              "      <td>None</td>\n",
              "      <td>0</td>\n",
              "      <td>None</td>\n",
              "    </tr>\n",
              "    <tr>\n",
              "      <th>4</th>\n",
              "      <td>49742</td>\n",
              "      <td>TLWCS0012623</td>\n",
              "      <td>119694</td>\n",
              "      <td>40426.0</td>\n",
              "      <td>2018-12-24</td>\n",
              "      <td>TLWCS</td>\n",
              "      <td>27</td>\n",
              "      <td>Manufacturing</td>\n",
              "      <td>Job Work &amp; Sales</td>\n",
              "      <td>Textiles</td>\n",
              "      <td>40426.0</td>\n",
              "      <td>30.0</td>\n",
              "      <td>Cash &amp; Non Banked</td>\n",
              "      <td>1</td>\n",
              "      <td>500000</td>\n",
              "      <td>Jan-2019</td>\n",
              "      <td>1</td>\n",
              "      <td>secured</td>\n",
              "    </tr>\n",
              "    <tr>\n",
              "      <th>...</th>\n",
              "      <td>...</td>\n",
              "      <td>...</td>\n",
              "      <td>...</td>\n",
              "      <td>...</td>\n",
              "      <td>...</td>\n",
              "      <td>...</td>\n",
              "      <td>...</td>\n",
              "      <td>...</td>\n",
              "      <td>...</td>\n",
              "      <td>...</td>\n",
              "      <td>...</td>\n",
              "      <td>...</td>\n",
              "      <td>...</td>\n",
              "      <td>...</td>\n",
              "      <td>...</td>\n",
              "      <td>...</td>\n",
              "      <td>...</td>\n",
              "      <td>...</td>\n",
              "    </tr>\n",
              "    <tr>\n",
              "      <th>2470</th>\n",
              "      <td>13462</td>\n",
              "      <td>None</td>\n",
              "      <td>7058</td>\n",
              "      <td>493.0</td>\n",
              "      <td>2017-08-07</td>\n",
              "      <td>None</td>\n",
              "      <td>42</td>\n",
              "      <td>Manufacturing</td>\n",
              "      <td>Job Work &amp; Sales</td>\n",
              "      <td>Plastics</td>\n",
              "      <td>493.0</td>\n",
              "      <td>39.0</td>\n",
              "      <td>None</td>\n",
              "      <td>0</td>\n",
              "      <td>300000</td>\n",
              "      <td>None</td>\n",
              "      <td>0</td>\n",
              "      <td>None</td>\n",
              "    </tr>\n",
              "    <tr>\n",
              "      <th>2471</th>\n",
              "      <td>15639</td>\n",
              "      <td>None</td>\n",
              "      <td>36377</td>\n",
              "      <td>12454.0</td>\n",
              "      <td>2017-09-23</td>\n",
              "      <td>None</td>\n",
              "      <td>42</td>\n",
              "      <td>Manufacturing</td>\n",
              "      <td>Job Work &amp; Sales</td>\n",
              "      <td>Wood</td>\n",
              "      <td>12454.0</td>\n",
              "      <td>49.0</td>\n",
              "      <td>Cash &amp; Non Banked</td>\n",
              "      <td>0</td>\n",
              "      <td>300000</td>\n",
              "      <td>None</td>\n",
              "      <td>0</td>\n",
              "      <td>None</td>\n",
              "    </tr>\n",
              "    <tr>\n",
              "      <th>2472</th>\n",
              "      <td>14122</td>\n",
              "      <td>TLWCS0001490</td>\n",
              "      <td>32442</td>\n",
              "      <td>11166.0</td>\n",
              "      <td>2017-08-21</td>\n",
              "      <td>TLWCS</td>\n",
              "      <td>40</td>\n",
              "      <td>Manufacturing</td>\n",
              "      <td>Job Work</td>\n",
              "      <td>Auto Components</td>\n",
              "      <td>11166.0</td>\n",
              "      <td>43.0</td>\n",
              "      <td>Cash &amp; Non Banked</td>\n",
              "      <td>1</td>\n",
              "      <td>150000</td>\n",
              "      <td>Aug-2017</td>\n",
              "      <td>1</td>\n",
              "      <td>secured</td>\n",
              "    </tr>\n",
              "    <tr>\n",
              "      <th>2474</th>\n",
              "      <td>42491</td>\n",
              "      <td>TLWCU0010873</td>\n",
              "      <td>102464</td>\n",
              "      <td>34711.0</td>\n",
              "      <td>2018-10-15</td>\n",
              "      <td>TLWCU</td>\n",
              "      <td>32</td>\n",
              "      <td>Manufacturing</td>\n",
              "      <td>Sales</td>\n",
              "      <td>Fabrication</td>\n",
              "      <td>34711.0</td>\n",
              "      <td>53.0</td>\n",
              "      <td>Invoice &amp; Banked</td>\n",
              "      <td>1</td>\n",
              "      <td>500000</td>\n",
              "      <td>Oct-2018</td>\n",
              "      <td>1</td>\n",
              "      <td>unsecured</td>\n",
              "    </tr>\n",
              "    <tr>\n",
              "      <th>2475</th>\n",
              "      <td>63044</td>\n",
              "      <td>None</td>\n",
              "      <td>145880</td>\n",
              "      <td>49202.0</td>\n",
              "      <td>2019-05-26</td>\n",
              "      <td>None</td>\n",
              "      <td>85</td>\n",
              "      <td>Trading</td>\n",
              "      <td>Whole Sale</td>\n",
              "      <td>Plastics</td>\n",
              "      <td>49202.0</td>\n",
              "      <td>28.0</td>\n",
              "      <td>None</td>\n",
              "      <td>1</td>\n",
              "      <td>300000</td>\n",
              "      <td>None</td>\n",
              "      <td>0</td>\n",
              "      <td>None</td>\n",
              "    </tr>\n",
              "  </tbody>\n",
              "</table>\n",
              "<p>2350 rows × 18 columns</p>\n",
              "</div>\n",
              "      <button class=\"colab-df-convert\" onclick=\"convertToInteractive('df-bf665516-96aa-443c-be24-7e2895055327')\"\n",
              "              title=\"Convert this dataframe to an interactive table.\"\n",
              "              style=\"display:none;\">\n",
              "        \n",
              "  <svg xmlns=\"http://www.w3.org/2000/svg\" height=\"24px\"viewBox=\"0 0 24 24\"\n",
              "       width=\"24px\">\n",
              "    <path d=\"M0 0h24v24H0V0z\" fill=\"none\"/>\n",
              "    <path d=\"M18.56 5.44l.94 2.06.94-2.06 2.06-.94-2.06-.94-.94-2.06-.94 2.06-2.06.94zm-11 1L8.5 8.5l.94-2.06 2.06-.94-2.06-.94L8.5 2.5l-.94 2.06-2.06.94zm10 10l.94 2.06.94-2.06 2.06-.94-2.06-.94-.94-2.06-.94 2.06-2.06.94z\"/><path d=\"M17.41 7.96l-1.37-1.37c-.4-.4-.92-.59-1.43-.59-.52 0-1.04.2-1.43.59L10.3 9.45l-7.72 7.72c-.78.78-.78 2.05 0 2.83L4 21.41c.39.39.9.59 1.41.59.51 0 1.02-.2 1.41-.59l7.78-7.78 2.81-2.81c.8-.78.8-2.07 0-2.86zM5.41 20L4 18.59l7.72-7.72 1.47 1.35L5.41 20z\"/>\n",
              "  </svg>\n",
              "      </button>\n",
              "      \n",
              "  <style>\n",
              "    .colab-df-container {\n",
              "      display:flex;\n",
              "      flex-wrap:wrap;\n",
              "      gap: 12px;\n",
              "    }\n",
              "\n",
              "    .colab-df-convert {\n",
              "      background-color: #E8F0FE;\n",
              "      border: none;\n",
              "      border-radius: 50%;\n",
              "      cursor: pointer;\n",
              "      display: none;\n",
              "      fill: #1967D2;\n",
              "      height: 32px;\n",
              "      padding: 0 0 0 0;\n",
              "      width: 32px;\n",
              "    }\n",
              "\n",
              "    .colab-df-convert:hover {\n",
              "      background-color: #E2EBFA;\n",
              "      box-shadow: 0px 1px 2px rgba(60, 64, 67, 0.3), 0px 1px 3px 1px rgba(60, 64, 67, 0.15);\n",
              "      fill: #174EA6;\n",
              "    }\n",
              "\n",
              "    [theme=dark] .colab-df-convert {\n",
              "      background-color: #3B4455;\n",
              "      fill: #D2E3FC;\n",
              "    }\n",
              "\n",
              "    [theme=dark] .colab-df-convert:hover {\n",
              "      background-color: #434B5C;\n",
              "      box-shadow: 0px 1px 3px 1px rgba(0, 0, 0, 0.15);\n",
              "      filter: drop-shadow(0px 1px 2px rgba(0, 0, 0, 0.3));\n",
              "      fill: #FFFFFF;\n",
              "    }\n",
              "  </style>\n",
              "\n",
              "      <script>\n",
              "        const buttonEl =\n",
              "          document.querySelector('#df-bf665516-96aa-443c-be24-7e2895055327 button.colab-df-convert');\n",
              "        buttonEl.style.display =\n",
              "          google.colab.kernel.accessAllowed ? 'block' : 'none';\n",
              "\n",
              "        async function convertToInteractive(key) {\n",
              "          const element = document.querySelector('#df-bf665516-96aa-443c-be24-7e2895055327');\n",
              "          const dataTable =\n",
              "            await google.colab.kernel.invokeFunction('convertToInteractive',\n",
              "                                                     [key], {});\n",
              "          if (!dataTable) return;\n",
              "\n",
              "          const docLinkHtml = 'Like what you see? Visit the ' +\n",
              "            '<a target=\"_blank\" href=https://colab.research.google.com/notebooks/data_table.ipynb>data table notebook</a>'\n",
              "            + ' to learn more about interactive tables.';\n",
              "          element.innerHTML = '';\n",
              "          dataTable['output_type'] = 'display_data';\n",
              "          await google.colab.output.renderOutput(dataTable, element);\n",
              "          const docLink = document.createElement('div');\n",
              "          docLink.innerHTML = docLinkHtml;\n",
              "          element.appendChild(docLink);\n",
              "        }\n",
              "      </script>\n",
              "    </div>\n",
              "  </div>\n",
              "  "
            ]
          },
          "metadata": {},
          "execution_count": 26
        }
      ]
    },
    {
      "cell_type": "markdown",
      "source": [
        "**Fetch the all int and float columns in a list**"
      ],
      "metadata": {
        "id": "YLhSRj7mfOeP"
      }
    },
    {
      "cell_type": "code",
      "source": [
        "#find all the numerical features from the data and store into a list\n",
        "numerical_features=list(df.select_dtypes(['int','float']).columns)\n",
        "numerical_features=pd.Index(numerical_features)\n",
        "numerical_features"
      ],
      "metadata": {
        "colab": {
          "base_uri": "https://localhost:8080/"
        },
        "id": "rDd4z6-ee_UO",
        "outputId": "e617103b-c36e-4075-c6cd-b1c1b8e865f6"
      },
      "execution_count": null,
      "outputs": [
        {
          "output_type": "execute_result",
          "data": {
            "text/plain": [
              "Index(['loan_id', 'customer_id', 'enterprise_id', 'hub_id', 'enterprise_id',\n",
              "       'ManagAgeui_APP', 'ManagCBscoreui_APP', 'total_disbursement_amount',\n",
              "       'lable'],\n",
              "      dtype='object')"
            ]
          },
          "metadata": {},
          "execution_count": 27
        }
      ]
    },
    {
      "cell_type": "markdown",
      "source": [
        "**Fetch the all category and object columns in a list**"
      ],
      "metadata": {
        "id": "8G4EgerXfdMS"
      }
    },
    {
      "cell_type": "code",
      "source": [
        "#find all the categorical features from the data and store into a list\n",
        "categorical_features=list(df.select_dtypes(['object','category']).columns)\n",
        "categorical_features=pd.Index(categorical_features)\n",
        "categorical_features"
      ],
      "metadata": {
        "colab": {
          "base_uri": "https://localhost:8080/"
        },
        "id": "sxuOxF5_PwtX",
        "outputId": "5e78988a-1c53-4d49-9542-233efbec410f"
      },
      "execution_count": null,
      "outputs": [
        {
          "output_type": "execute_result",
          "data": {
            "text/plain": [
              "Index(['account_number', 'screening_date', 'product_code', 'business_type',\n",
              "       'business_activity', 'business_sector', 'BusinFormalityOfTheBusinessui',\n",
              "       'disbursement_month', 'collateral'],\n",
              "      dtype='object')"
            ]
          },
          "metadata": {},
          "execution_count": 28
        }
      ]
    },
    {
      "cell_type": "markdown",
      "source": [
        "**Fetch day,year and month from screening date**"
      ],
      "metadata": {
        "id": "Y_fEQSVXLILj"
      }
    },
    {
      "cell_type": "code",
      "source": [
        "#convert screening date into month , year and date\n",
        "df['screening_date'] = pd.to_datetime(df['screening_date'])\n",
        "df['screening_month']=df['screening_date'].dt.month\n",
        "df['screening_day'] = df['screening_date'].dt.day\n",
        "df['screening_year']=df['screening_date'].dt.year"
      ],
      "metadata": {
        "id": "hseCUK7LlqqY"
      },
      "execution_count": null,
      "outputs": []
    },
    {
      "cell_type": "markdown",
      "source": [
        "**One hot encoding on collateral**"
      ],
      "metadata": {
        "id": "vDgiEV3J2Xa9"
      }
    },
    {
      "cell_type": "code",
      "source": [
        "#now one hot encoading on a collateral column and it also use for remove outliers\n",
        "df=pd.get_dummies(df, columns = ['collateral'])"
      ],
      "metadata": {
        "id": "yeMCqlmOz5Hv"
      },
      "execution_count": null,
      "outputs": []
    },
    {
      "cell_type": "code",
      "source": [
        "#check the dataset\n",
        "df"
      ],
      "metadata": {
        "colab": {
          "base_uri": "https://localhost:8080/",
          "height": 505
        },
        "id": "X4ulWX-fet2Y",
        "outputId": "dc090c58-e623-4a21-e318-335270d1c67a"
      },
      "execution_count": null,
      "outputs": [
        {
          "output_type": "execute_result",
          "data": {
            "text/plain": [
              "      loan_id account_number  customer_id  enterprise_id screening_date  \\\n",
              "0       29321           None        71846        24500.0     2018-04-19   \n",
              "1       13613   TLWCU0003070        31083        10723.0     2017-08-10   \n",
              "2       13921           None        31928        11002.0     2017-08-17   \n",
              "3       16520           None        38660        13220.0     2017-10-21   \n",
              "4       49742   TLWCS0012623       119694        40426.0     2018-12-24   \n",
              "...       ...            ...          ...            ...            ...   \n",
              "2470    13462           None         7058          493.0     2017-08-07   \n",
              "2471    15639           None        36377        12454.0     2017-09-23   \n",
              "2472    14122   TLWCS0001490        32442        11166.0     2017-08-21   \n",
              "2474    42491   TLWCU0010873       102464        34711.0     2018-10-15   \n",
              "2475    63044           None       145880        49202.0     2019-05-26   \n",
              "\n",
              "     product_code  hub_id  business_type business_activity  \\\n",
              "0            None      53  Manufacturing          Job Work   \n",
              "1           TLWCU      39        Trading            Retail   \n",
              "2            None      56        Trading            Retail   \n",
              "3            None      58        Trading            Retail   \n",
              "4           TLWCS      27  Manufacturing  Job Work & Sales   \n",
              "...           ...     ...            ...               ...   \n",
              "2470         None      42  Manufacturing  Job Work & Sales   \n",
              "2471         None      42  Manufacturing  Job Work & Sales   \n",
              "2472        TLWCS      40  Manufacturing          Job Work   \n",
              "2474        TLWCU      32  Manufacturing             Sales   \n",
              "2475         None      85        Trading        Whole Sale   \n",
              "\n",
              "          business_sector  ...  BusinFormalityOfTheBusinessui  \\\n",
              "0     Machine  Components  ...                           None   \n",
              "1             Electronics  ...               Invoice & Banked   \n",
              "2             Agriculture  ...                           None   \n",
              "3         Food & Beverage  ...                           None   \n",
              "4                Textiles  ...              Cash & Non Banked   \n",
              "...                   ...  ...                            ...   \n",
              "2470             Plastics  ...                           None   \n",
              "2471                 Wood  ...              Cash & Non Banked   \n",
              "2472      Auto Components  ...              Cash & Non Banked   \n",
              "2474          Fabrication  ...               Invoice & Banked   \n",
              "2475             Plastics  ...                           None   \n",
              "\n",
              "      ManagCBscoreui_APP total_disbursement_amount  disbursement_month  lable  \\\n",
              "0                      1                    300000                None      0   \n",
              "1                      0                    400000            Aug-2017      1   \n",
              "2                      1                    300000                None      0   \n",
              "3                      1                    300000                None      0   \n",
              "4                      1                    500000            Jan-2019      1   \n",
              "...                  ...                       ...                 ...    ...   \n",
              "2470                   0                    300000                None      0   \n",
              "2471                   0                    300000                None      0   \n",
              "2472                   1                    150000            Aug-2017      1   \n",
              "2474                   1                    500000            Oct-2018      1   \n",
              "2475                   1                    300000                None      0   \n",
              "\n",
              "     screening_month  screening_day  screening_year  collateral_secured  \\\n",
              "0                  4             19            2018                   0   \n",
              "1                  8             10            2017                   0   \n",
              "2                  8             17            2017                   0   \n",
              "3                 10             21            2017                   0   \n",
              "4                 12             24            2018                   1   \n",
              "...              ...            ...             ...                 ...   \n",
              "2470               8              7            2017                   0   \n",
              "2471               9             23            2017                   0   \n",
              "2472               8             21            2017                   1   \n",
              "2474              10             15            2018                   0   \n",
              "2475               5             26            2019                   0   \n",
              "\n",
              "      collateral_unsecured  \n",
              "0                        0  \n",
              "1                        1  \n",
              "2                        0  \n",
              "3                        0  \n",
              "4                        0  \n",
              "...                    ...  \n",
              "2470                     0  \n",
              "2471                     0  \n",
              "2472                     0  \n",
              "2474                     1  \n",
              "2475                     0  \n",
              "\n",
              "[2350 rows x 22 columns]"
            ],
            "text/html": [
              "\n",
              "  <div id=\"df-a3fc1287-721f-4a44-a96c-27dfa88cef3f\">\n",
              "    <div class=\"colab-df-container\">\n",
              "      <div>\n",
              "<style scoped>\n",
              "    .dataframe tbody tr th:only-of-type {\n",
              "        vertical-align: middle;\n",
              "    }\n",
              "\n",
              "    .dataframe tbody tr th {\n",
              "        vertical-align: top;\n",
              "    }\n",
              "\n",
              "    .dataframe thead th {\n",
              "        text-align: right;\n",
              "    }\n",
              "</style>\n",
              "<table border=\"1\" class=\"dataframe\">\n",
              "  <thead>\n",
              "    <tr style=\"text-align: right;\">\n",
              "      <th></th>\n",
              "      <th>loan_id</th>\n",
              "      <th>account_number</th>\n",
              "      <th>customer_id</th>\n",
              "      <th>enterprise_id</th>\n",
              "      <th>screening_date</th>\n",
              "      <th>product_code</th>\n",
              "      <th>hub_id</th>\n",
              "      <th>business_type</th>\n",
              "      <th>business_activity</th>\n",
              "      <th>business_sector</th>\n",
              "      <th>...</th>\n",
              "      <th>BusinFormalityOfTheBusinessui</th>\n",
              "      <th>ManagCBscoreui_APP</th>\n",
              "      <th>total_disbursement_amount</th>\n",
              "      <th>disbursement_month</th>\n",
              "      <th>lable</th>\n",
              "      <th>screening_month</th>\n",
              "      <th>screening_day</th>\n",
              "      <th>screening_year</th>\n",
              "      <th>collateral_secured</th>\n",
              "      <th>collateral_unsecured</th>\n",
              "    </tr>\n",
              "  </thead>\n",
              "  <tbody>\n",
              "    <tr>\n",
              "      <th>0</th>\n",
              "      <td>29321</td>\n",
              "      <td>None</td>\n",
              "      <td>71846</td>\n",
              "      <td>24500.0</td>\n",
              "      <td>2018-04-19</td>\n",
              "      <td>None</td>\n",
              "      <td>53</td>\n",
              "      <td>Manufacturing</td>\n",
              "      <td>Job Work</td>\n",
              "      <td>Machine  Components</td>\n",
              "      <td>...</td>\n",
              "      <td>None</td>\n",
              "      <td>1</td>\n",
              "      <td>300000</td>\n",
              "      <td>None</td>\n",
              "      <td>0</td>\n",
              "      <td>4</td>\n",
              "      <td>19</td>\n",
              "      <td>2018</td>\n",
              "      <td>0</td>\n",
              "      <td>0</td>\n",
              "    </tr>\n",
              "    <tr>\n",
              "      <th>1</th>\n",
              "      <td>13613</td>\n",
              "      <td>TLWCU0003070</td>\n",
              "      <td>31083</td>\n",
              "      <td>10723.0</td>\n",
              "      <td>2017-08-10</td>\n",
              "      <td>TLWCU</td>\n",
              "      <td>39</td>\n",
              "      <td>Trading</td>\n",
              "      <td>Retail</td>\n",
              "      <td>Electronics</td>\n",
              "      <td>...</td>\n",
              "      <td>Invoice &amp; Banked</td>\n",
              "      <td>0</td>\n",
              "      <td>400000</td>\n",
              "      <td>Aug-2017</td>\n",
              "      <td>1</td>\n",
              "      <td>8</td>\n",
              "      <td>10</td>\n",
              "      <td>2017</td>\n",
              "      <td>0</td>\n",
              "      <td>1</td>\n",
              "    </tr>\n",
              "    <tr>\n",
              "      <th>2</th>\n",
              "      <td>13921</td>\n",
              "      <td>None</td>\n",
              "      <td>31928</td>\n",
              "      <td>11002.0</td>\n",
              "      <td>2017-08-17</td>\n",
              "      <td>None</td>\n",
              "      <td>56</td>\n",
              "      <td>Trading</td>\n",
              "      <td>Retail</td>\n",
              "      <td>Agriculture</td>\n",
              "      <td>...</td>\n",
              "      <td>None</td>\n",
              "      <td>1</td>\n",
              "      <td>300000</td>\n",
              "      <td>None</td>\n",
              "      <td>0</td>\n",
              "      <td>8</td>\n",
              "      <td>17</td>\n",
              "      <td>2017</td>\n",
              "      <td>0</td>\n",
              "      <td>0</td>\n",
              "    </tr>\n",
              "    <tr>\n",
              "      <th>3</th>\n",
              "      <td>16520</td>\n",
              "      <td>None</td>\n",
              "      <td>38660</td>\n",
              "      <td>13220.0</td>\n",
              "      <td>2017-10-21</td>\n",
              "      <td>None</td>\n",
              "      <td>58</td>\n",
              "      <td>Trading</td>\n",
              "      <td>Retail</td>\n",
              "      <td>Food &amp; Beverage</td>\n",
              "      <td>...</td>\n",
              "      <td>None</td>\n",
              "      <td>1</td>\n",
              "      <td>300000</td>\n",
              "      <td>None</td>\n",
              "      <td>0</td>\n",
              "      <td>10</td>\n",
              "      <td>21</td>\n",
              "      <td>2017</td>\n",
              "      <td>0</td>\n",
              "      <td>0</td>\n",
              "    </tr>\n",
              "    <tr>\n",
              "      <th>4</th>\n",
              "      <td>49742</td>\n",
              "      <td>TLWCS0012623</td>\n",
              "      <td>119694</td>\n",
              "      <td>40426.0</td>\n",
              "      <td>2018-12-24</td>\n",
              "      <td>TLWCS</td>\n",
              "      <td>27</td>\n",
              "      <td>Manufacturing</td>\n",
              "      <td>Job Work &amp; Sales</td>\n",
              "      <td>Textiles</td>\n",
              "      <td>...</td>\n",
              "      <td>Cash &amp; Non Banked</td>\n",
              "      <td>1</td>\n",
              "      <td>500000</td>\n",
              "      <td>Jan-2019</td>\n",
              "      <td>1</td>\n",
              "      <td>12</td>\n",
              "      <td>24</td>\n",
              "      <td>2018</td>\n",
              "      <td>1</td>\n",
              "      <td>0</td>\n",
              "    </tr>\n",
              "    <tr>\n",
              "      <th>...</th>\n",
              "      <td>...</td>\n",
              "      <td>...</td>\n",
              "      <td>...</td>\n",
              "      <td>...</td>\n",
              "      <td>...</td>\n",
              "      <td>...</td>\n",
              "      <td>...</td>\n",
              "      <td>...</td>\n",
              "      <td>...</td>\n",
              "      <td>...</td>\n",
              "      <td>...</td>\n",
              "      <td>...</td>\n",
              "      <td>...</td>\n",
              "      <td>...</td>\n",
              "      <td>...</td>\n",
              "      <td>...</td>\n",
              "      <td>...</td>\n",
              "      <td>...</td>\n",
              "      <td>...</td>\n",
              "      <td>...</td>\n",
              "      <td>...</td>\n",
              "    </tr>\n",
              "    <tr>\n",
              "      <th>2470</th>\n",
              "      <td>13462</td>\n",
              "      <td>None</td>\n",
              "      <td>7058</td>\n",
              "      <td>493.0</td>\n",
              "      <td>2017-08-07</td>\n",
              "      <td>None</td>\n",
              "      <td>42</td>\n",
              "      <td>Manufacturing</td>\n",
              "      <td>Job Work &amp; Sales</td>\n",
              "      <td>Plastics</td>\n",
              "      <td>...</td>\n",
              "      <td>None</td>\n",
              "      <td>0</td>\n",
              "      <td>300000</td>\n",
              "      <td>None</td>\n",
              "      <td>0</td>\n",
              "      <td>8</td>\n",
              "      <td>7</td>\n",
              "      <td>2017</td>\n",
              "      <td>0</td>\n",
              "      <td>0</td>\n",
              "    </tr>\n",
              "    <tr>\n",
              "      <th>2471</th>\n",
              "      <td>15639</td>\n",
              "      <td>None</td>\n",
              "      <td>36377</td>\n",
              "      <td>12454.0</td>\n",
              "      <td>2017-09-23</td>\n",
              "      <td>None</td>\n",
              "      <td>42</td>\n",
              "      <td>Manufacturing</td>\n",
              "      <td>Job Work &amp; Sales</td>\n",
              "      <td>Wood</td>\n",
              "      <td>...</td>\n",
              "      <td>Cash &amp; Non Banked</td>\n",
              "      <td>0</td>\n",
              "      <td>300000</td>\n",
              "      <td>None</td>\n",
              "      <td>0</td>\n",
              "      <td>9</td>\n",
              "      <td>23</td>\n",
              "      <td>2017</td>\n",
              "      <td>0</td>\n",
              "      <td>0</td>\n",
              "    </tr>\n",
              "    <tr>\n",
              "      <th>2472</th>\n",
              "      <td>14122</td>\n",
              "      <td>TLWCS0001490</td>\n",
              "      <td>32442</td>\n",
              "      <td>11166.0</td>\n",
              "      <td>2017-08-21</td>\n",
              "      <td>TLWCS</td>\n",
              "      <td>40</td>\n",
              "      <td>Manufacturing</td>\n",
              "      <td>Job Work</td>\n",
              "      <td>Auto Components</td>\n",
              "      <td>...</td>\n",
              "      <td>Cash &amp; Non Banked</td>\n",
              "      <td>1</td>\n",
              "      <td>150000</td>\n",
              "      <td>Aug-2017</td>\n",
              "      <td>1</td>\n",
              "      <td>8</td>\n",
              "      <td>21</td>\n",
              "      <td>2017</td>\n",
              "      <td>1</td>\n",
              "      <td>0</td>\n",
              "    </tr>\n",
              "    <tr>\n",
              "      <th>2474</th>\n",
              "      <td>42491</td>\n",
              "      <td>TLWCU0010873</td>\n",
              "      <td>102464</td>\n",
              "      <td>34711.0</td>\n",
              "      <td>2018-10-15</td>\n",
              "      <td>TLWCU</td>\n",
              "      <td>32</td>\n",
              "      <td>Manufacturing</td>\n",
              "      <td>Sales</td>\n",
              "      <td>Fabrication</td>\n",
              "      <td>...</td>\n",
              "      <td>Invoice &amp; Banked</td>\n",
              "      <td>1</td>\n",
              "      <td>500000</td>\n",
              "      <td>Oct-2018</td>\n",
              "      <td>1</td>\n",
              "      <td>10</td>\n",
              "      <td>15</td>\n",
              "      <td>2018</td>\n",
              "      <td>0</td>\n",
              "      <td>1</td>\n",
              "    </tr>\n",
              "    <tr>\n",
              "      <th>2475</th>\n",
              "      <td>63044</td>\n",
              "      <td>None</td>\n",
              "      <td>145880</td>\n",
              "      <td>49202.0</td>\n",
              "      <td>2019-05-26</td>\n",
              "      <td>None</td>\n",
              "      <td>85</td>\n",
              "      <td>Trading</td>\n",
              "      <td>Whole Sale</td>\n",
              "      <td>Plastics</td>\n",
              "      <td>...</td>\n",
              "      <td>None</td>\n",
              "      <td>1</td>\n",
              "      <td>300000</td>\n",
              "      <td>None</td>\n",
              "      <td>0</td>\n",
              "      <td>5</td>\n",
              "      <td>26</td>\n",
              "      <td>2019</td>\n",
              "      <td>0</td>\n",
              "      <td>0</td>\n",
              "    </tr>\n",
              "  </tbody>\n",
              "</table>\n",
              "<p>2350 rows × 22 columns</p>\n",
              "</div>\n",
              "      <button class=\"colab-df-convert\" onclick=\"convertToInteractive('df-a3fc1287-721f-4a44-a96c-27dfa88cef3f')\"\n",
              "              title=\"Convert this dataframe to an interactive table.\"\n",
              "              style=\"display:none;\">\n",
              "        \n",
              "  <svg xmlns=\"http://www.w3.org/2000/svg\" height=\"24px\"viewBox=\"0 0 24 24\"\n",
              "       width=\"24px\">\n",
              "    <path d=\"M0 0h24v24H0V0z\" fill=\"none\"/>\n",
              "    <path d=\"M18.56 5.44l.94 2.06.94-2.06 2.06-.94-2.06-.94-.94-2.06-.94 2.06-2.06.94zm-11 1L8.5 8.5l.94-2.06 2.06-.94-2.06-.94L8.5 2.5l-.94 2.06-2.06.94zm10 10l.94 2.06.94-2.06 2.06-.94-2.06-.94-.94-2.06-.94 2.06-2.06.94z\"/><path d=\"M17.41 7.96l-1.37-1.37c-.4-.4-.92-.59-1.43-.59-.52 0-1.04.2-1.43.59L10.3 9.45l-7.72 7.72c-.78.78-.78 2.05 0 2.83L4 21.41c.39.39.9.59 1.41.59.51 0 1.02-.2 1.41-.59l7.78-7.78 2.81-2.81c.8-.78.8-2.07 0-2.86zM5.41 20L4 18.59l7.72-7.72 1.47 1.35L5.41 20z\"/>\n",
              "  </svg>\n",
              "      </button>\n",
              "      \n",
              "  <style>\n",
              "    .colab-df-container {\n",
              "      display:flex;\n",
              "      flex-wrap:wrap;\n",
              "      gap: 12px;\n",
              "    }\n",
              "\n",
              "    .colab-df-convert {\n",
              "      background-color: #E8F0FE;\n",
              "      border: none;\n",
              "      border-radius: 50%;\n",
              "      cursor: pointer;\n",
              "      display: none;\n",
              "      fill: #1967D2;\n",
              "      height: 32px;\n",
              "      padding: 0 0 0 0;\n",
              "      width: 32px;\n",
              "    }\n",
              "\n",
              "    .colab-df-convert:hover {\n",
              "      background-color: #E2EBFA;\n",
              "      box-shadow: 0px 1px 2px rgba(60, 64, 67, 0.3), 0px 1px 3px 1px rgba(60, 64, 67, 0.15);\n",
              "      fill: #174EA6;\n",
              "    }\n",
              "\n",
              "    [theme=dark] .colab-df-convert {\n",
              "      background-color: #3B4455;\n",
              "      fill: #D2E3FC;\n",
              "    }\n",
              "\n",
              "    [theme=dark] .colab-df-convert:hover {\n",
              "      background-color: #434B5C;\n",
              "      box-shadow: 0px 1px 3px 1px rgba(0, 0, 0, 0.15);\n",
              "      filter: drop-shadow(0px 1px 2px rgba(0, 0, 0, 0.3));\n",
              "      fill: #FFFFFF;\n",
              "    }\n",
              "  </style>\n",
              "\n",
              "      <script>\n",
              "        const buttonEl =\n",
              "          document.querySelector('#df-a3fc1287-721f-4a44-a96c-27dfa88cef3f button.colab-df-convert');\n",
              "        buttonEl.style.display =\n",
              "          google.colab.kernel.accessAllowed ? 'block' : 'none';\n",
              "\n",
              "        async function convertToInteractive(key) {\n",
              "          const element = document.querySelector('#df-a3fc1287-721f-4a44-a96c-27dfa88cef3f');\n",
              "          const dataTable =\n",
              "            await google.colab.kernel.invokeFunction('convertToInteractive',\n",
              "                                                     [key], {});\n",
              "          if (!dataTable) return;\n",
              "\n",
              "          const docLinkHtml = 'Like what you see? Visit the ' +\n",
              "            '<a target=\"_blank\" href=https://colab.research.google.com/notebooks/data_table.ipynb>data table notebook</a>'\n",
              "            + ' to learn more about interactive tables.';\n",
              "          element.innerHTML = '';\n",
              "          dataTable['output_type'] = 'display_data';\n",
              "          await google.colab.output.renderOutput(dataTable, element);\n",
              "          const docLink = document.createElement('div');\n",
              "          docLink.innerHTML = docLinkHtml;\n",
              "          element.appendChild(docLink);\n",
              "        }\n",
              "      </script>\n",
              "    </div>\n",
              "  </div>\n",
              "  "
            ]
          },
          "metadata": {},
          "execution_count": 31
        }
      ]
    },
    {
      "cell_type": "code",
      "source": [
        "#import lableencode \n",
        "from sklearn.preprocessing import LabelEncoder"
      ],
      "metadata": {
        "id": "v1UP5BrJxBEa"
      },
      "execution_count": null,
      "outputs": []
    },
    {
      "cell_type": "markdown",
      "source": [
        "**Lable encoding on some features**"
      ],
      "metadata": {
        "id": "QI6ZlwlP2itz"
      }
    },
    {
      "cell_type": "code",
      "source": [
        "#apply lable encoading on some features of the data set\n",
        "df1=df[['business_type', 'business_activity', 'business_sector','BusinFormalityOfTheBusinessui']] = df[['business_type', 'business_activity', 'business_sector','BusinFormalityOfTheBusinessui']].apply(LabelEncoder().fit_transform)"
      ],
      "metadata": {
        "id": "KzLQjLHmy3uN"
      },
      "execution_count": null,
      "outputs": []
    },
    {
      "cell_type": "code",
      "source": [
        "#drop one column BusinFormalityOfTheBusinessui from the data set\n",
        "df1 =df1.drop(['BusinFormalityOfTheBusinessui'], axis=1)"
      ],
      "metadata": {
        "id": "J4bzdlBFPIXE"
      },
      "execution_count": null,
      "outputs": []
    },
    {
      "cell_type": "code",
      "source": [
        "#drop three more feature business_type,business_activity,business_sector from the same dataset\n",
        "df =df.drop(['business_type','business_activity','business_sector'], axis=1)"
      ],
      "metadata": {
        "id": "FM8AkircUP3T"
      },
      "execution_count": null,
      "outputs": []
    },
    {
      "cell_type": "markdown",
      "source": [
        "**Finally merge the two data and make a final data for doing EDA**"
      ],
      "metadata": {
        "id": "WIxGfIXv2qy8"
      }
    },
    {
      "cell_type": "code",
      "source": [
        "#merge two data set df and df1\n",
        "result = pd.concat([df, df1], axis=1, join=\"inner\")"
      ],
      "metadata": {
        "id": "3Mbqgvww0Ee-"
      },
      "execution_count": null,
      "outputs": []
    },
    {
      "cell_type": "code",
      "source": [
        "#finally drop some feature from the final dataset \n",
        "result =result.drop(['loan_id','account_number','customer_id','enterprise_id','screening_date','product_code','hub_id'], axis=1)"
      ],
      "metadata": {
        "id": "A3aPsYtt3wgJ"
      },
      "execution_count": null,
      "outputs": []
    },
    {
      "cell_type": "code",
      "source": [
        "# drop disbursement_month from the dataset\n",
        "result =result.drop(['disbursement_month'], axis=1)"
      ],
      "metadata": {
        "id": "ZVZ9tIPL3xn_"
      },
      "execution_count": null,
      "outputs": []
    },
    {
      "cell_type": "code",
      "source": [
        "#drop null values in the age columns\n",
        "result.dropna(subset=['ManagAgeui_APP'],inplace=True)"
      ],
      "metadata": {
        "id": "C_EC4MGw4BU2"
      },
      "execution_count": null,
      "outputs": []
    },
    {
      "cell_type": "code",
      "source": [
        "#change the type of the column ManagAgeui_APP\n",
        "result['ManagAgeui_APP']=result['ManagAgeui_APP'].astype(int)"
      ],
      "metadata": {
        "id": "-nkcjmZS4SUC"
      },
      "execution_count": null,
      "outputs": []
    },
    {
      "cell_type": "code",
      "source": [
        "#check the result dataset\n",
        "result"
      ],
      "metadata": {
        "colab": {
          "base_uri": "https://localhost:8080/",
          "height": 488
        },
        "id": "mlhAgqk80OLR",
        "outputId": "ec71a05e-e89d-454c-d4b0-0c6a0b0431c0"
      },
      "execution_count": null,
      "outputs": [
        {
          "output_type": "execute_result",
          "data": {
            "text/plain": [
              "      ManagAgeui_APP  BusinFormalityOfTheBusinessui  ManagCBscoreui_APP  \\\n",
              "0                 27                              4                   1   \n",
              "1                 30                              2                   0   \n",
              "2                 55                              4                   1   \n",
              "3                 26                              4                   1   \n",
              "4                 30                              1                   1   \n",
              "...              ...                            ...                 ...   \n",
              "2470              39                              4                   0   \n",
              "2471              49                              1                   0   \n",
              "2472              43                              1                   1   \n",
              "2474              53                              2                   1   \n",
              "2475              28                              4                   1   \n",
              "\n",
              "      total_disbursement_amount  lable  screening_month  screening_day  \\\n",
              "0                        300000      0                4             19   \n",
              "1                        400000      1                8             10   \n",
              "2                        300000      0                8             17   \n",
              "3                        300000      0               10             21   \n",
              "4                        500000      1               12             24   \n",
              "...                         ...    ...              ...            ...   \n",
              "2470                     300000      0                8              7   \n",
              "2471                     300000      0                9             23   \n",
              "2472                     150000      1                8             21   \n",
              "2474                     500000      1               10             15   \n",
              "2475                     300000      0                5             26   \n",
              "\n",
              "      screening_year  collateral_secured  collateral_unsecured  business_type  \\\n",
              "0               2018                   0                     0              0   \n",
              "1               2017                   0                     1              2   \n",
              "2               2017                   0                     0              2   \n",
              "3               2017                   0                     0              2   \n",
              "4               2018                   1                     0              0   \n",
              "...              ...                 ...                   ...            ...   \n",
              "2470            2017                   0                     0              0   \n",
              "2471            2017                   0                     0              0   \n",
              "2472            2017                   1                     0              0   \n",
              "2474            2018                   0                     1              0   \n",
              "2475            2019                   0                     0              2   \n",
              "\n",
              "      business_activity  business_sector  \n",
              "0                     0               27  \n",
              "1                     2               12  \n",
              "2                     2                0  \n",
              "3                     2               15  \n",
              "4                     1               35  \n",
              "...                 ...              ...  \n",
              "2470                  1               32  \n",
              "2471                  1               36  \n",
              "2472                  0                2  \n",
              "2474                  5               13  \n",
              "2475                  6               32  \n",
              "\n",
              "[2348 rows x 13 columns]"
            ],
            "text/html": [
              "\n",
              "  <div id=\"df-7a7aec85-d866-4945-96d2-4696eeac9335\">\n",
              "    <div class=\"colab-df-container\">\n",
              "      <div>\n",
              "<style scoped>\n",
              "    .dataframe tbody tr th:only-of-type {\n",
              "        vertical-align: middle;\n",
              "    }\n",
              "\n",
              "    .dataframe tbody tr th {\n",
              "        vertical-align: top;\n",
              "    }\n",
              "\n",
              "    .dataframe thead th {\n",
              "        text-align: right;\n",
              "    }\n",
              "</style>\n",
              "<table border=\"1\" class=\"dataframe\">\n",
              "  <thead>\n",
              "    <tr style=\"text-align: right;\">\n",
              "      <th></th>\n",
              "      <th>ManagAgeui_APP</th>\n",
              "      <th>BusinFormalityOfTheBusinessui</th>\n",
              "      <th>ManagCBscoreui_APP</th>\n",
              "      <th>total_disbursement_amount</th>\n",
              "      <th>lable</th>\n",
              "      <th>screening_month</th>\n",
              "      <th>screening_day</th>\n",
              "      <th>screening_year</th>\n",
              "      <th>collateral_secured</th>\n",
              "      <th>collateral_unsecured</th>\n",
              "      <th>business_type</th>\n",
              "      <th>business_activity</th>\n",
              "      <th>business_sector</th>\n",
              "    </tr>\n",
              "  </thead>\n",
              "  <tbody>\n",
              "    <tr>\n",
              "      <th>0</th>\n",
              "      <td>27</td>\n",
              "      <td>4</td>\n",
              "      <td>1</td>\n",
              "      <td>300000</td>\n",
              "      <td>0</td>\n",
              "      <td>4</td>\n",
              "      <td>19</td>\n",
              "      <td>2018</td>\n",
              "      <td>0</td>\n",
              "      <td>0</td>\n",
              "      <td>0</td>\n",
              "      <td>0</td>\n",
              "      <td>27</td>\n",
              "    </tr>\n",
              "    <tr>\n",
              "      <th>1</th>\n",
              "      <td>30</td>\n",
              "      <td>2</td>\n",
              "      <td>0</td>\n",
              "      <td>400000</td>\n",
              "      <td>1</td>\n",
              "      <td>8</td>\n",
              "      <td>10</td>\n",
              "      <td>2017</td>\n",
              "      <td>0</td>\n",
              "      <td>1</td>\n",
              "      <td>2</td>\n",
              "      <td>2</td>\n",
              "      <td>12</td>\n",
              "    </tr>\n",
              "    <tr>\n",
              "      <th>2</th>\n",
              "      <td>55</td>\n",
              "      <td>4</td>\n",
              "      <td>1</td>\n",
              "      <td>300000</td>\n",
              "      <td>0</td>\n",
              "      <td>8</td>\n",
              "      <td>17</td>\n",
              "      <td>2017</td>\n",
              "      <td>0</td>\n",
              "      <td>0</td>\n",
              "      <td>2</td>\n",
              "      <td>2</td>\n",
              "      <td>0</td>\n",
              "    </tr>\n",
              "    <tr>\n",
              "      <th>3</th>\n",
              "      <td>26</td>\n",
              "      <td>4</td>\n",
              "      <td>1</td>\n",
              "      <td>300000</td>\n",
              "      <td>0</td>\n",
              "      <td>10</td>\n",
              "      <td>21</td>\n",
              "      <td>2017</td>\n",
              "      <td>0</td>\n",
              "      <td>0</td>\n",
              "      <td>2</td>\n",
              "      <td>2</td>\n",
              "      <td>15</td>\n",
              "    </tr>\n",
              "    <tr>\n",
              "      <th>4</th>\n",
              "      <td>30</td>\n",
              "      <td>1</td>\n",
              "      <td>1</td>\n",
              "      <td>500000</td>\n",
              "      <td>1</td>\n",
              "      <td>12</td>\n",
              "      <td>24</td>\n",
              "      <td>2018</td>\n",
              "      <td>1</td>\n",
              "      <td>0</td>\n",
              "      <td>0</td>\n",
              "      <td>1</td>\n",
              "      <td>35</td>\n",
              "    </tr>\n",
              "    <tr>\n",
              "      <th>...</th>\n",
              "      <td>...</td>\n",
              "      <td>...</td>\n",
              "      <td>...</td>\n",
              "      <td>...</td>\n",
              "      <td>...</td>\n",
              "      <td>...</td>\n",
              "      <td>...</td>\n",
              "      <td>...</td>\n",
              "      <td>...</td>\n",
              "      <td>...</td>\n",
              "      <td>...</td>\n",
              "      <td>...</td>\n",
              "      <td>...</td>\n",
              "    </tr>\n",
              "    <tr>\n",
              "      <th>2470</th>\n",
              "      <td>39</td>\n",
              "      <td>4</td>\n",
              "      <td>0</td>\n",
              "      <td>300000</td>\n",
              "      <td>0</td>\n",
              "      <td>8</td>\n",
              "      <td>7</td>\n",
              "      <td>2017</td>\n",
              "      <td>0</td>\n",
              "      <td>0</td>\n",
              "      <td>0</td>\n",
              "      <td>1</td>\n",
              "      <td>32</td>\n",
              "    </tr>\n",
              "    <tr>\n",
              "      <th>2471</th>\n",
              "      <td>49</td>\n",
              "      <td>1</td>\n",
              "      <td>0</td>\n",
              "      <td>300000</td>\n",
              "      <td>0</td>\n",
              "      <td>9</td>\n",
              "      <td>23</td>\n",
              "      <td>2017</td>\n",
              "      <td>0</td>\n",
              "      <td>0</td>\n",
              "      <td>0</td>\n",
              "      <td>1</td>\n",
              "      <td>36</td>\n",
              "    </tr>\n",
              "    <tr>\n",
              "      <th>2472</th>\n",
              "      <td>43</td>\n",
              "      <td>1</td>\n",
              "      <td>1</td>\n",
              "      <td>150000</td>\n",
              "      <td>1</td>\n",
              "      <td>8</td>\n",
              "      <td>21</td>\n",
              "      <td>2017</td>\n",
              "      <td>1</td>\n",
              "      <td>0</td>\n",
              "      <td>0</td>\n",
              "      <td>0</td>\n",
              "      <td>2</td>\n",
              "    </tr>\n",
              "    <tr>\n",
              "      <th>2474</th>\n",
              "      <td>53</td>\n",
              "      <td>2</td>\n",
              "      <td>1</td>\n",
              "      <td>500000</td>\n",
              "      <td>1</td>\n",
              "      <td>10</td>\n",
              "      <td>15</td>\n",
              "      <td>2018</td>\n",
              "      <td>0</td>\n",
              "      <td>1</td>\n",
              "      <td>0</td>\n",
              "      <td>5</td>\n",
              "      <td>13</td>\n",
              "    </tr>\n",
              "    <tr>\n",
              "      <th>2475</th>\n",
              "      <td>28</td>\n",
              "      <td>4</td>\n",
              "      <td>1</td>\n",
              "      <td>300000</td>\n",
              "      <td>0</td>\n",
              "      <td>5</td>\n",
              "      <td>26</td>\n",
              "      <td>2019</td>\n",
              "      <td>0</td>\n",
              "      <td>0</td>\n",
              "      <td>2</td>\n",
              "      <td>6</td>\n",
              "      <td>32</td>\n",
              "    </tr>\n",
              "  </tbody>\n",
              "</table>\n",
              "<p>2348 rows × 13 columns</p>\n",
              "</div>\n",
              "      <button class=\"colab-df-convert\" onclick=\"convertToInteractive('df-7a7aec85-d866-4945-96d2-4696eeac9335')\"\n",
              "              title=\"Convert this dataframe to an interactive table.\"\n",
              "              style=\"display:none;\">\n",
              "        \n",
              "  <svg xmlns=\"http://www.w3.org/2000/svg\" height=\"24px\"viewBox=\"0 0 24 24\"\n",
              "       width=\"24px\">\n",
              "    <path d=\"M0 0h24v24H0V0z\" fill=\"none\"/>\n",
              "    <path d=\"M18.56 5.44l.94 2.06.94-2.06 2.06-.94-2.06-.94-.94-2.06-.94 2.06-2.06.94zm-11 1L8.5 8.5l.94-2.06 2.06-.94-2.06-.94L8.5 2.5l-.94 2.06-2.06.94zm10 10l.94 2.06.94-2.06 2.06-.94-2.06-.94-.94-2.06-.94 2.06-2.06.94z\"/><path d=\"M17.41 7.96l-1.37-1.37c-.4-.4-.92-.59-1.43-.59-.52 0-1.04.2-1.43.59L10.3 9.45l-7.72 7.72c-.78.78-.78 2.05 0 2.83L4 21.41c.39.39.9.59 1.41.59.51 0 1.02-.2 1.41-.59l7.78-7.78 2.81-2.81c.8-.78.8-2.07 0-2.86zM5.41 20L4 18.59l7.72-7.72 1.47 1.35L5.41 20z\"/>\n",
              "  </svg>\n",
              "      </button>\n",
              "      \n",
              "  <style>\n",
              "    .colab-df-container {\n",
              "      display:flex;\n",
              "      flex-wrap:wrap;\n",
              "      gap: 12px;\n",
              "    }\n",
              "\n",
              "    .colab-df-convert {\n",
              "      background-color: #E8F0FE;\n",
              "      border: none;\n",
              "      border-radius: 50%;\n",
              "      cursor: pointer;\n",
              "      display: none;\n",
              "      fill: #1967D2;\n",
              "      height: 32px;\n",
              "      padding: 0 0 0 0;\n",
              "      width: 32px;\n",
              "    }\n",
              "\n",
              "    .colab-df-convert:hover {\n",
              "      background-color: #E2EBFA;\n",
              "      box-shadow: 0px 1px 2px rgba(60, 64, 67, 0.3), 0px 1px 3px 1px rgba(60, 64, 67, 0.15);\n",
              "      fill: #174EA6;\n",
              "    }\n",
              "\n",
              "    [theme=dark] .colab-df-convert {\n",
              "      background-color: #3B4455;\n",
              "      fill: #D2E3FC;\n",
              "    }\n",
              "\n",
              "    [theme=dark] .colab-df-convert:hover {\n",
              "      background-color: #434B5C;\n",
              "      box-shadow: 0px 1px 3px 1px rgba(0, 0, 0, 0.15);\n",
              "      filter: drop-shadow(0px 1px 2px rgba(0, 0, 0, 0.3));\n",
              "      fill: #FFFFFF;\n",
              "    }\n",
              "  </style>\n",
              "\n",
              "      <script>\n",
              "        const buttonEl =\n",
              "          document.querySelector('#df-7a7aec85-d866-4945-96d2-4696eeac9335 button.colab-df-convert');\n",
              "        buttonEl.style.display =\n",
              "          google.colab.kernel.accessAllowed ? 'block' : 'none';\n",
              "\n",
              "        async function convertToInteractive(key) {\n",
              "          const element = document.querySelector('#df-7a7aec85-d866-4945-96d2-4696eeac9335');\n",
              "          const dataTable =\n",
              "            await google.colab.kernel.invokeFunction('convertToInteractive',\n",
              "                                                     [key], {});\n",
              "          if (!dataTable) return;\n",
              "\n",
              "          const docLinkHtml = 'Like what you see? Visit the ' +\n",
              "            '<a target=\"_blank\" href=https://colab.research.google.com/notebooks/data_table.ipynb>data table notebook</a>'\n",
              "            + ' to learn more about interactive tables.';\n",
              "          element.innerHTML = '';\n",
              "          dataTable['output_type'] = 'display_data';\n",
              "          await google.colab.output.renderOutput(dataTable, element);\n",
              "          const docLink = document.createElement('div');\n",
              "          docLink.innerHTML = docLinkHtml;\n",
              "          element.appendChild(docLink);\n",
              "        }\n",
              "      </script>\n",
              "    </div>\n",
              "  </div>\n",
              "  "
            ]
          },
          "metadata": {},
          "execution_count": 41
        }
      ]
    },
    {
      "cell_type": "markdown",
      "source": [
        "# **Check and remove the outlier**"
      ],
      "metadata": {
        "id": "OO8c43OEUh49"
      }
    },
    {
      "cell_type": "code",
      "source": [
        "#check the outlier of the data set\n",
        "num_var = result.select_dtypes(exclude='object')\n",
        "for i in num_var:\n",
        "    \n",
        "    q1 = result[i].quantile(0.25)\n",
        "    q3 = result[i].quantile(0.75)\n",
        "\n",
        "    IQR = q3 - q1\n",
        "    UL = q3 + 1.5*IQR\n",
        "    LL = q1 - 1.5*IQR\n",
        "\n",
        "    print('IQR of',i,'= ',IQR)\n",
        "    print('UL of',i,'= ',UL)\n",
        "    print('LL of',i,'= ',LL)\n",
        "    print('Number of Outliers in',i,' = ',(result.shape[0] - result[(result[i]<UL) & (result[i]>LL)].shape[0]))\n",
        "    print(' ')"
      ],
      "metadata": {
        "colab": {
          "base_uri": "https://localhost:8080/"
        },
        "id": "rpgxBzWRd3FB",
        "outputId": "059fd281-11cd-4a27-c764-dfc41b307338"
      },
      "execution_count": null,
      "outputs": [
        {
          "output_type": "stream",
          "name": "stdout",
          "text": [
            "IQR of ManagAgeui_APP =  12.0\n",
            "UL of ManagAgeui_APP =  62.0\n",
            "LL of ManagAgeui_APP =  14.0\n",
            "Number of Outliers in ManagAgeui_APP  =  23\n",
            " \n",
            "IQR of BusinFormalityOfTheBusinessui =  2.0\n",
            "UL of BusinFormalityOfTheBusinessui =  6.0\n",
            "LL of BusinFormalityOfTheBusinessui =  -2.0\n",
            "Number of Outliers in BusinFormalityOfTheBusinessui  =  0\n",
            " \n",
            "IQR of ManagCBscoreui_APP =  1.0\n",
            "UL of ManagCBscoreui_APP =  2.5\n",
            "LL of ManagCBscoreui_APP =  -1.5\n",
            "Number of Outliers in ManagCBscoreui_APP  =  0\n",
            " \n",
            "IQR of total_disbursement_amount =  0.0\n",
            "UL of total_disbursement_amount =  300000.0\n",
            "LL of total_disbursement_amount =  300000.0\n",
            "Number of Outliers in total_disbursement_amount  =  2348\n",
            " \n",
            "IQR of lable =  1.0\n",
            "UL of lable =  2.5\n",
            "LL of lable =  -1.5\n",
            "Number of Outliers in lable  =  0\n",
            " \n",
            "IQR of screening_month =  7.0\n",
            "UL of screening_month =  20.5\n",
            "LL of screening_month =  -7.5\n",
            "Number of Outliers in screening_month  =  0\n",
            " \n",
            "IQR of screening_day =  13.0\n",
            "UL of screening_day =  41.5\n",
            "LL of screening_day =  -10.5\n",
            "Number of Outliers in screening_day  =  0\n",
            " \n",
            "IQR of screening_year =  1.0\n",
            "UL of screening_year =  2020.5\n",
            "LL of screening_year =  2016.5\n",
            "Number of Outliers in screening_year  =  4\n",
            " \n",
            "IQR of collateral_secured =  1.0\n",
            "UL of collateral_secured =  2.5\n",
            "LL of collateral_secured =  -1.5\n",
            "Number of Outliers in collateral_secured  =  0\n",
            " \n",
            "IQR of collateral_unsecured =  0.0\n",
            "UL of collateral_unsecured =  0.0\n",
            "LL of collateral_unsecured =  0.0\n",
            "Number of Outliers in collateral_unsecured  =  2348\n",
            " \n",
            "IQR of business_type =  2.0\n",
            "UL of business_type =  5.0\n",
            "LL of business_type =  -3.0\n",
            "Number of Outliers in business_type  =  0\n",
            " \n",
            "IQR of business_activity =  4.0\n",
            "UL of business_activity =  11.0\n",
            "LL of business_activity =  -5.0\n",
            "Number of Outliers in business_activity  =  0\n",
            " \n",
            "IQR of business_sector =  14.0\n",
            "UL of business_sector =  48.0\n",
            "LL of business_sector =  -8.0\n",
            "Number of Outliers in business_sector  =  0\n",
            " \n"
          ]
        }
      ]
    },
    {
      "cell_type": "code",
      "source": [
        "result.isnull().sum()"
      ],
      "metadata": {
        "colab": {
          "base_uri": "https://localhost:8080/"
        },
        "id": "3UGUSXr70XOw",
        "outputId": "2245896f-b9a6-42b7-938b-7eb749b445b5"
      },
      "execution_count": null,
      "outputs": [
        {
          "output_type": "execute_result",
          "data": {
            "text/plain": [
              "ManagAgeui_APP                   0\n",
              "BusinFormalityOfTheBusinessui    0\n",
              "ManagCBscoreui_APP               0\n",
              "total_disbursement_amount        0\n",
              "lable                            0\n",
              "screening_month                  0\n",
              "screening_day                    0\n",
              "screening_year                   0\n",
              "collateral_secured               0\n",
              "collateral_unsecured             0\n",
              "business_type                    0\n",
              "business_activity                0\n",
              "business_sector                  0\n",
              "dtype: int64"
            ]
          },
          "metadata": {},
          "execution_count": 43
        }
      ]
    },
    {
      "cell_type": "markdown",
      "source": [
        "**Exploratory Data Analysis**"
      ],
      "metadata": {
        "id": "-g4qhkZI4ygF"
      }
    },
    {
      "cell_type": "markdown",
      "source": [
        "**Why do we perform EDA?**\n",
        "\n",
        "**An EDA is a thorough examination meant to uncover the underlying structure of a data set and is important for a company because it exposes trends, patterns, and relationships that are not readily apparent.**"
      ],
      "metadata": {
        "id": "Q-NXMoMb7Zno"
      }
    },
    {
      "cell_type": "markdown",
      "source": [
        "**Univariate Analysis**\n",
        "\n",
        "**Why do you do univariate analysis?**\n",
        "\n",
        "**The key objective of Univariate analysis is to simply describe the data to find patterns within the data**"
      ],
      "metadata": {
        "id": "N6PlpZI27l4Z"
      }
    },
    {
      "cell_type": "markdown",
      "source": [
        "**Analysis of Dependent Variable:**\n",
        "\n",
        "**What is a dependent variable in data analysis?**\n",
        "\n",
        "**we analyse our dependent variable,A dependent variable is a variable whose value will change depending on the value of another variable.**"
      ],
      "metadata": {
        "id": "wVn0Nz7c77Oa"
      }
    },
    {
      "cell_type": "code",
      "source": [
        "#extract some features from the fianl dataset\n",
        "num_feature=['ManagAgeui_APP','total_disbursement_amount','ManagCBscoreui_APP','lable']"
      ],
      "metadata": {
        "id": "_qvo5Dzc7-Kf"
      },
      "execution_count": null,
      "outputs": []
    },
    {
      "cell_type": "code",
      "source": [
        "#make a density plot of a total disbursement amount\n",
        "sns.distplot(a=result.total_disbursement_amount, hist=False)"
      ],
      "metadata": {
        "colab": {
          "base_uri": "https://localhost:8080/",
          "height": 363
        },
        "id": "dS6qcGR2-5lk",
        "outputId": "24dc8ffc-ed5e-4bc5-f81b-904559045963"
      },
      "execution_count": null,
      "outputs": [
        {
          "output_type": "stream",
          "name": "stderr",
          "text": [
            "/usr/local/lib/python3.7/dist-packages/seaborn/distributions.py:2619: FutureWarning: `distplot` is a deprecated function and will be removed in a future version. Please adapt your code to use either `displot` (a figure-level function with similar flexibility) or `kdeplot` (an axes-level function for kernel density plots).\n",
            "  warnings.warn(msg, FutureWarning)\n"
          ]
        },
        {
          "output_type": "execute_result",
          "data": {
            "text/plain": [
              "<matplotlib.axes._subplots.AxesSubplot at 0x7f769f21cdd0>"
            ]
          },
          "metadata": {},
          "execution_count": 79
        },
        {
          "output_type": "display_data",
          "data": {
            "text/plain": [
              "<Figure size 432x288 with 1 Axes>"
            ],
            "image/png": "[encoded data removed]"
          },
          "metadata": {
            "needs_background": "light"
          }
        }
      ]
    },
    {
      "cell_type": "markdown",
      "source": [
        "**In this graph we easily see that disbursed loan amount 300000 to 400000 given but above 500000 amount is given only very few customers**"
      ],
      "metadata": {
        "id": "vh73doUeBh5c"
      }
    },
    {
      "cell_type": "code",
      "source": [
        "#make a displot of a age column and check the distribution of age \n",
        "sns.distplot(a=result.ManagAgeui_APP, hist=False)"
      ],
      "metadata": {
        "colab": {
          "base_uri": "https://localhost:8080/",
          "height": 352
        },
        "id": "7lzxbFUt_FG3",
        "outputId": "1beb2971-dbb6-4db0-9094-b1107f16d62c"
      },
      "execution_count": null,
      "outputs": [
        {
          "output_type": "stream",
          "name": "stderr",
          "text": [
            "/usr/local/lib/python3.7/dist-packages/seaborn/distributions.py:2619: FutureWarning: `distplot` is a deprecated function and will be removed in a future version. Please adapt your code to use either `displot` (a figure-level function with similar flexibility) or `kdeplot` (an axes-level function for kernel density plots).\n",
            "  warnings.warn(msg, FutureWarning)\n"
          ]
        },
        {
          "output_type": "execute_result",
          "data": {
            "text/plain": [
              "<matplotlib.axes._subplots.AxesSubplot at 0x7f76ae36ad10>"
            ]
          },
          "metadata": {},
          "execution_count": 46
        },
        {
          "output_type": "display_data",
          "data": {
            "text/plain": [
              "<Figure size 432x288 with 1 Axes>"
            ],
            "image/png": "[encoded data removed]"
          },
          "metadata": {
            "needs_background": "light"
          }
        }
      ]
    },
    {
      "cell_type": "markdown",
      "source": [
        "**Age between 30 to 40 years persons get the loan easily but above or below this range loan rejection rate is high**"
      ],
      "metadata": {
        "id": "GKwzoprfBNuV"
      }
    },
    {
      "cell_type": "code",
      "source": [
        "#make a displot of a cibil score and check how many has good or bad cibil score rate\n",
        "sns.distplot(a=result.ManagCBscoreui_APP, hist=False)"
      ],
      "metadata": {
        "colab": {
          "base_uri": "https://localhost:8080/",
          "height": 352
        },
        "id": "dgcIBWjW_OVY",
        "outputId": "2700ad4d-ddd1-4a8f-e6e9-e4f54bafb5ef"
      },
      "execution_count": null,
      "outputs": [
        {
          "output_type": "stream",
          "name": "stderr",
          "text": [
            "/usr/local/lib/python3.7/dist-packages/seaborn/distributions.py:2619: FutureWarning: `distplot` is a deprecated function and will be removed in a future version. Please adapt your code to use either `displot` (a figure-level function with similar flexibility) or `kdeplot` (an axes-level function for kernel density plots).\n",
            "  warnings.warn(msg, FutureWarning)\n"
          ]
        },
        {
          "output_type": "execute_result",
          "data": {
            "text/plain": [
              "<matplotlib.axes._subplots.AxesSubplot at 0x7f76adea6d50>"
            ]
          },
          "metadata": {},
          "execution_count": 47
        },
        {
          "output_type": "display_data",
          "data": {
            "text/plain": [
              "<Figure size 432x288 with 1 Axes>"
            ],
            "image/png": "[encoded data removed]"
          },
          "metadata": {
            "needs_background": "light"
          }
        }
      ]
    },
    {
      "cell_type": "markdown",
      "source": [
        "**0 means cibil score less than 650 and 1 means cibil score is greater than 650**"
      ],
      "metadata": {
        "id": "Q4jJGCdDA-mN"
      }
    },
    {
      "cell_type": "code",
      "source": [
        "#make a pie chart for a business type to check the distribution of business\n",
        "fig = plt.figure(figsize=(5,5), dpi=100)\n",
        "result['business_type'].value_counts().plot(kind='pie',  autopct='%1.0f%%', startangle=360, fontsize=12)"
      ],
      "metadata": {
        "id": "Uu80ysihVFju",
        "colab": {
          "base_uri": "https://localhost:8080/",
          "height": 431
        },
        "outputId": "1e7a5949-fe1a-4e4d-e098-343c61f9c373"
      },
      "execution_count": null,
      "outputs": [
        {
          "output_type": "execute_result",
          "data": {
            "text/plain": [
              "<matplotlib.axes._subplots.AxesSubplot at 0x7f76af103f10>"
            ]
          },
          "metadata": {},
          "execution_count": 48
        },
        {
          "output_type": "display_data",
          "data": {
            "text/plain": [
              "<Figure size 500x500 with 1 Axes>"
            ],
            "image/png": "[encoded data removed]"
          },
          "metadata": {}
        }
      ]
    },
    {
      "cell_type": "markdown",
      "source": [
        "0=Services\n",
        "\n",
        "1=Manufacturing\n",
        "\n",
        "2=Trading"
      ],
      "metadata": {
        "id": "xbK5mnnyandC"
      }
    },
    {
      "cell_type": "code",
      "source": [
        "#make a displot to check the distribution of the lable \n",
        "sns.distplot(a=result.lable, hist=False)"
      ],
      "metadata": {
        "colab": {
          "base_uri": "https://localhost:8080/",
          "height": 351
        },
        "id": "0W737SGy_WQ5",
        "outputId": "1826cb72-c090-428c-beb8-a584337e167f"
      },
      "execution_count": null,
      "outputs": [
        {
          "output_type": "stream",
          "name": "stderr",
          "text": [
            "/usr/local/lib/python3.7/dist-packages/seaborn/distributions.py:2619: FutureWarning: `distplot` is a deprecated function and will be removed in a future version. Please adapt your code to use either `displot` (a figure-level function with similar flexibility) or `kdeplot` (an axes-level function for kernel density plots).\n",
            "  warnings.warn(msg, FutureWarning)\n"
          ]
        },
        {
          "output_type": "execute_result",
          "data": {
            "text/plain": [
              "<matplotlib.axes._subplots.AxesSubplot at 0x7f76ae54abd0>"
            ]
          },
          "metadata": {},
          "execution_count": 49
        },
        {
          "output_type": "display_data",
          "data": {
            "text/plain": [
              "<Figure size 432x288 with 1 Axes>"
            ],
            "image/png": "[encoded data removed]"
          },
          "metadata": {
            "needs_background": "light"
          }
        }
      ]
    },
    {
      "cell_type": "markdown",
      "source": [
        "**0 means loan rejected and 1 means loan accepted**"
      ],
      "metadata": {
        "id": "MNT0nbh9AylC"
      }
    },
    {
      "cell_type": "code",
      "source": [
        "#now plot a histogram for a business type\n",
        "plot1=result[\"business_type\"].hist()\n",
        "plot1"
      ],
      "metadata": {
        "colab": {
          "base_uri": "https://localhost:8080/",
          "height": 282
        },
        "id": "SWXXWgC4SEbS",
        "outputId": "5ac3c9e1-d772-44a0-b361-c2eb0800d019"
      },
      "execution_count": null,
      "outputs": [
        {
          "output_type": "execute_result",
          "data": {
            "text/plain": [
              "<matplotlib.axes._subplots.AxesSubplot at 0x7f76ae54a690>"
            ]
          },
          "metadata": {},
          "execution_count": 50
        },
        {
          "output_type": "display_data",
          "data": {
            "text/plain": [
              "<Figure size 432x288 with 1 Axes>"
            ],
            "image/png": "[encoded data removed]"
          },
          "metadata": {
            "needs_background": "light"
          }
        }
      ]
    },
    {
      "cell_type": "code",
      "source": [
        "#make a histogram to check the count the lable \n",
        "plot1=result[\"lable\"].hist()\n",
        "plot1"
      ],
      "metadata": {
        "colab": {
          "base_uri": "https://localhost:8080/",
          "height": 282
        },
        "id": "Fm-jGZpvSLWP",
        "outputId": "cb535cc4-ffc4-4793-c248-d090394fca33"
      },
      "execution_count": null,
      "outputs": [
        {
          "output_type": "execute_result",
          "data": {
            "text/plain": [
              "<matplotlib.axes._subplots.AxesSubplot at 0x7f76add5a490>"
            ]
          },
          "metadata": {},
          "execution_count": 51
        },
        {
          "output_type": "display_data",
          "data": {
            "text/plain": [
              "<Figure size 432x288 with 1 Axes>"
            ],
            "image/png": "[encoded data removed]"
          },
          "metadata": {
            "needs_background": "light"
          }
        }
      ]
    },
    {
      "cell_type": "code",
      "source": [
        "#count lable\n",
        "result.lable.value_counts().plot(kind = 'bar')"
      ],
      "metadata": {
        "colab": {
          "base_uri": "https://localhost:8080/",
          "height": 279
        },
        "id": "73SRJR6xKV4G",
        "outputId": "1ea99580-e00b-492c-ee5f-84d3d852e8aa"
      },
      "execution_count": null,
      "outputs": [
        {
          "output_type": "execute_result",
          "data": {
            "text/plain": [
              "<matplotlib.axes._subplots.AxesSubplot at 0x7f769e5a3390>"
            ]
          },
          "metadata": {},
          "execution_count": 86
        },
        {
          "output_type": "display_data",
          "data": {
            "text/plain": [
              "<Figure size 432x288 with 1 Axes>"
            ],
            "image/png": "[encoded data removed]"
          },
          "metadata": {
            "needs_background": "light"
          }
        }
      ]
    },
    {
      "cell_type": "code",
      "source": [
        "# Plotting business_type on a Barplot for check the which business is most active\n",
        "\n",
        "result.business_activity.value_counts().plot(kind = 'bar')"
      ],
      "metadata": {
        "colab": {
          "base_uri": "https://localhost:8080/",
          "height": 279
        },
        "id": "GQ0ob4Y8Kdbk",
        "outputId": "40159455-0ac5-4f82-ff4f-01d04666af82"
      },
      "execution_count": null,
      "outputs": [
        {
          "output_type": "execute_result",
          "data": {
            "text/plain": [
              "<matplotlib.axes._subplots.AxesSubplot at 0x7f769e50c890>"
            ]
          },
          "metadata": {},
          "execution_count": 87
        },
        {
          "output_type": "display_data",
          "data": {
            "text/plain": [
              "<Figure size 432x288 with 1 Axes>"
            ],
            "image/png": "[encoded data removed]"
          },
          "metadata": {
            "needs_background": "light"
          }
        }
      ]
    },
    {
      "cell_type": "markdown",
      "source": [
        "0=job work\n",
        "\n",
        "1=job work and sales\n",
        "\n",
        "2=retail\n",
        "\n",
        "3=retail(business to business)\n",
        "\n",
        "4=retail(business to customers)\n",
        "\n",
        "5=sales\n",
        "\n",
        "6=hole sale"
      ],
      "metadata": {
        "id": "TrrvrrfOKiuo"
      }
    },
    {
      "cell_type": "markdown",
      "source": [
        "# **Explore the relationship between individual features and the label**"
      ],
      "metadata": {
        "id": "4I8BJU3qCMGD"
      }
    },
    {
      "cell_type": "code",
      "source": [
        "#extract some of the columns from the final dataset\n",
        "num_feature=['ManagAgeui_APP','total_disbursement_amount','ManagCBscoreui_APP','lable']"
      ],
      "metadata": {
        "id": "yjsHYjMwFNeT"
      },
      "execution_count": null,
      "outputs": []
    },
    {
      "cell_type": "code",
      "source": [
        "#make a count plot for screening month to check the number of loan sanction by month \n",
        "plt.figure(figsize=(15,5))\n",
        "sns.countplot(data = result, x = 'screening_month', hue = 'lable')"
      ],
      "metadata": {
        "colab": {
          "base_uri": "https://localhost:8080/",
          "height": 352
        },
        "id": "UmK94lWLGi0B",
        "outputId": "c4d38aae-fdd6-4fee-b8bb-125108363800"
      },
      "execution_count": null,
      "outputs": [
        {
          "output_type": "execute_result",
          "data": {
            "text/plain": [
              "<matplotlib.axes._subplots.AxesSubplot at 0x7f76ae6a75d0>"
            ]
          },
          "metadata": {},
          "execution_count": 53
        },
        {
          "output_type": "display_data",
          "data": {
            "text/plain": [
              "<Figure size 1080x360 with 1 Axes>"
            ],
            "image/png": "[encoded data removed]"
          },
          "metadata": {
            "needs_background": "light"
          }
        }
      ]
    },
    {
      "cell_type": "code",
      "source": [
        "#count plot for the  lable(loan sanction) and the business activity\n",
        "plt.figure(figsize=(15,5))\n",
        "sns.countplot(data = result, x = 'business_activity', hue = 'lable')"
      ],
      "metadata": {
        "colab": {
          "base_uri": "https://localhost:8080/",
          "height": 352
        },
        "id": "XLMqf0BpHh6I",
        "outputId": "ff90ac4d-76cc-464d-fe87-3979f810cd6f"
      },
      "execution_count": null,
      "outputs": [
        {
          "output_type": "execute_result",
          "data": {
            "text/plain": [
              "<matplotlib.axes._subplots.AxesSubplot at 0x7f76adcf6c50>"
            ]
          },
          "metadata": {},
          "execution_count": 54
        },
        {
          "output_type": "display_data",
          "data": {
            "text/plain": [
              "<Figure size 1080x360 with 1 Axes>"
            ],
            "image/png": "[encoded data removed]"
          },
          "metadata": {
            "needs_background": "light"
          }
        }
      ]
    },
    {
      "cell_type": "code",
      "source": [
        "#count the age who got the loan sanction or not\n",
        "plt.figure(figsize=(15,5))\n",
        "sns.countplot(data = result, x = 'ManagAgeui_APP', hue = 'lable')"
      ],
      "metadata": {
        "colab": {
          "base_uri": "https://localhost:8080/",
          "height": 352
        },
        "id": "zzYNTHlhHn_F",
        "outputId": "90f60615-12ab-4852-eb1a-21695e0c0053"
      },
      "execution_count": null,
      "outputs": [
        {
          "output_type": "execute_result",
          "data": {
            "text/plain": [
              "<matplotlib.axes._subplots.AxesSubplot at 0x7f76adb45c90>"
            ]
          },
          "metadata": {},
          "execution_count": 55
        },
        {
          "output_type": "display_data",
          "data": {
            "text/plain": [
              "<Figure size 1080x360 with 1 Axes>"
            ],
            "image/png": "[encoded data removed]"
          },
          "metadata": {
            "needs_background": "light"
          }
        }
      ]
    },
    {
      "cell_type": "code",
      "source": [
        "#make a count plot for the screening day or the label(loan sanction)\n",
        "plt.figure(figsize=(15,5))\n",
        "sns.countplot(data = result, x = 'screening_day', hue = 'lable')"
      ],
      "metadata": {
        "colab": {
          "base_uri": "https://localhost:8080/",
          "height": 352
        },
        "id": "1LPb40QhHzn7",
        "outputId": "c461625b-b5b5-482a-b352-a7dbe068b33d"
      },
      "execution_count": null,
      "outputs": [
        {
          "output_type": "execute_result",
          "data": {
            "text/plain": [
              "<matplotlib.axes._subplots.AxesSubplot at 0x7f769ef79190>"
            ]
          },
          "metadata": {},
          "execution_count": 82
        },
        {
          "output_type": "display_data",
          "data": {
            "text/plain": [
              "<Figure size 1080x360 with 1 Axes>"
            ],
            "image/png": "[encoded data removed]"
          },
          "metadata": {
            "needs_background": "light"
          }
        }
      ]
    },
    {
      "cell_type": "code",
      "source": [
        "#make a count plot which represent which year has more loan application filled\n",
        "plt.figure(figsize=(15,5))\n",
        "sns.countplot(data = result, x = 'screening_year', hue = 'lable')"
      ],
      "metadata": {
        "colab": {
          "base_uri": "https://localhost:8080/",
          "height": 352
        },
        "id": "awMFPlSAHzbb",
        "outputId": "49530ab3-12f3-45fb-af41-0a895497f2d8"
      },
      "execution_count": null,
      "outputs": [
        {
          "output_type": "execute_result",
          "data": {
            "text/plain": [
              "<matplotlib.axes._subplots.AxesSubplot at 0x7f76ad7e3fd0>"
            ]
          },
          "metadata": {},
          "execution_count": 57
        },
        {
          "output_type": "display_data",
          "data": {
            "text/plain": [
              "<Figure size 1080x360 with 1 Axes>"
            ],
            "image/png": "[encoded data removed]"
          },
          "metadata": {
            "needs_background": "light"
          }
        }
      ]
    },
    {
      "cell_type": "code",
      "source": [
        "# make a count plot which show the total amount sanction or not\n",
        "plt.figure(figsize=(80,30))\n",
        "sns.countplot(data = result, x = 'total_disbursement_amount', hue = 'lable')"
      ],
      "metadata": {
        "colab": {
          "base_uri": "https://localhost:8080/",
          "height": 1000
        },
        "id": "-02Ybj6BHzTZ",
        "outputId": "da1c04ab-0f36-484e-a5e3-e1183a485685"
      },
      "execution_count": null,
      "outputs": [
        {
          "output_type": "execute_result",
          "data": {
            "text/plain": [
              "<matplotlib.axes._subplots.AxesSubplot at 0x7f769eb0c8d0>"
            ]
          },
          "metadata": {},
          "execution_count": 83
        },
        {
          "output_type": "display_data",
          "data": {
            "text/plain": [
              "<Figure size 5760x2160 with 1 Axes>"
            ],
            "image/png": "[encoded data removed]"
          },
          "metadata": {
            "needs_background": "light"
          }
        }
      ]
    },
    {
      "cell_type": "code",
      "source": [
        "#make a count plot wahuch represent the count the of cibil score and lable\n",
        "plt.figure(figsize=(15,5))\n",
        "sns.countplot(data = result, x = 'ManagCBscoreui_APP', hue = 'lable')"
      ],
      "metadata": {
        "colab": {
          "base_uri": "https://localhost:8080/",
          "height": 352
        },
        "id": "7IckcapWHzFe",
        "outputId": "4c97bdbc-5529-4ae3-bbf7-ef39cb2de018"
      },
      "execution_count": null,
      "outputs": [
        {
          "output_type": "execute_result",
          "data": {
            "text/plain": [
              "<matplotlib.axes._subplots.AxesSubplot at 0x7f76ad41df90>"
            ]
          },
          "metadata": {},
          "execution_count": 59
        },
        {
          "output_type": "display_data",
          "data": {
            "text/plain": [
              "<Figure size 1080x360 with 1 Axes>"
            ],
            "image/png": "[encoded data removed]"
          },
          "metadata": {
            "needs_background": "light"
          }
        }
      ]
    },
    {
      "cell_type": "code",
      "source": [
        "#make a count in which how many loan sanction without collateral\n",
        "plt.figure(figsize=(15,5))\n",
        "sns.countplot(data = result, x = 'collateral_unsecured', hue = 'lable')"
      ],
      "metadata": {
        "colab": {
          "base_uri": "https://localhost:8080/",
          "height": 352
        },
        "id": "bKHaKLvYIKPf",
        "outputId": "2d4b6d1c-7959-4e63-bb4c-fa9b4e4ef243"
      },
      "execution_count": null,
      "outputs": [
        {
          "output_type": "execute_result",
          "data": {
            "text/plain": [
              "<matplotlib.axes._subplots.AxesSubplot at 0x7f76ad3b21d0>"
            ]
          },
          "metadata": {},
          "execution_count": 60
        },
        {
          "output_type": "display_data",
          "data": {
            "text/plain": [
              "<Figure size 1080x360 with 1 Axes>"
            ],
            "image/png": "[encoded data removed]"
          },
          "metadata": {
            "needs_background": "light"
          }
        }
      ]
    },
    {
      "cell_type": "code",
      "source": [
        "plt.figure(figsize=(15,5))\n",
        "sns.countplot(data = result, x = 'collateral_secured', hue = 'lable')"
      ],
      "metadata": {
        "colab": {
          "base_uri": "https://localhost:8080/",
          "height": 352
        },
        "id": "A_CWmF1JIJKc",
        "outputId": "779a1837-8d07-4fa6-973b-ef280d9181a6"
      },
      "execution_count": null,
      "outputs": [
        {
          "output_type": "execute_result",
          "data": {
            "text/plain": [
              "<matplotlib.axes._subplots.AxesSubplot at 0x7f76ad31a450>"
            ]
          },
          "metadata": {},
          "execution_count": 61
        },
        {
          "output_type": "display_data",
          "data": {
            "text/plain": [
              "<Figure size 1080x360 with 1 Axes>"
            ],
            "image/png": "[encoded data removed]"
          },
          "metadata": {
            "needs_background": "light"
          }
        }
      ]
    },
    {
      "cell_type": "markdown",
      "source": [
        "**Heat map for ckeck the correlation between the features**"
      ],
      "metadata": {
        "id": "B0ODmYd7ZT2l"
      }
    },
    {
      "cell_type": "code",
      "source": [
        "# plot aheat map to check the correlation between the features\n",
        "plt.figure(figsize=(25,20))\n",
        "sns.heatmap(result.corr(),annot=True)\n",
        "plt.show()"
      ],
      "metadata": {
        "colab": {
          "base_uri": "https://localhost:8080/",
          "height": 1000
        },
        "id": "_4Q7a6zQfkGM",
        "outputId": "0e24a36a-19db-4051-9569-37a5eb9d2fff"
      },
      "execution_count": null,
      "outputs": [
        {
          "output_type": "display_data",
          "data": {
            "text/plain": [
              "<Figure size 1800x1440 with 2 Axes>"
            ],
            "image/png": "[encoded data removed]"
          },
          "metadata": {
            "needs_background": "light"
          }
        }
      ]
    },
    {
      "cell_type": "markdown",
      "source": [
        "**Model Training**\n",
        "\n",
        "Train Test split for regression\n",
        "Before, fitting any model it is a rule of thumb to split the dataset into a training and test set. This means some proportions of the data will go into training the model and some portion will be used to evaluate how our model is performing on any unseen data. The proportions may vary from 60:40, 70:30, 75:25 depending on the person but mostly used is 80:20 for training and testing respectively. In this step we will split our data into training and testing set using scikit learn library."
      ],
      "metadata": {
        "id": "8Xq_3K1RCgD6"
      }
    },
    {
      "cell_type": "code",
      "source": [
        " #Assign the value in X and Y\n",
        "X =result.drop('lable',axis=1)\n",
        "y = result['lable']"
      ],
      "metadata": {
        "id": "j-_CfBUhf5PI"
      },
      "execution_count": null,
      "outputs": []
    },
    {
      "cell_type": "code",
      "source": [
        "# Train test split for the dataset\n",
        "X_train, X_test, y_train, y_test = train_test_split(X, y, test_size=0.3, random_state=1)"
      ],
      "metadata": {
        "id": "eYUriUjMf5L2"
      },
      "execution_count": null,
      "outputs": []
    },
    {
      "cell_type": "code",
      "source": [
        "#shaop of the labe so our target variable(lable ) is balanced\n",
        "print((result['lable'].value_counts()/result['lable'].shape)*100)\n",
        "sns.countplot(result['lable'])\n",
        "plt.show()"
      ],
      "metadata": {
        "colab": {
          "base_uri": "https://localhost:8080/",
          "height": 386
        },
        "id": "NspaW4Bif5JU",
        "outputId": "1d170dd2-280e-4911-df9a-6afde595aed1"
      },
      "execution_count": null,
      "outputs": [
        {
          "output_type": "stream",
          "name": "stdout",
          "text": [
            "1    52.938671\n",
            "0    47.061329\n",
            "Name: lable, dtype: float64\n"
          ]
        },
        {
          "output_type": "stream",
          "name": "stderr",
          "text": [
            "/usr/local/lib/python3.7/dist-packages/seaborn/_decorators.py:43: FutureWarning: Pass the following variable as a keyword arg: x. From version 0.12, the only valid positional argument will be `data`, and passing other arguments without an explicit keyword will result in an error or misinterpretation.\n",
            "  FutureWarning\n"
          ]
        },
        {
          "output_type": "display_data",
          "data": {
            "text/plain": [
              "<Figure size 432x288 with 1 Axes>"
            ],
            "image/png": "[encoded data removed]"
          },
          "metadata": {
            "needs_background": "light"
          }
        }
      ]
    },
    {
      "cell_type": "markdown",
      "source": [
        "**MODELLING**\n",
        "\n",
        "**Model using LogisticRegression:**"
      ],
      "metadata": {
        "id": "sSRwR61rhI2n"
      }
    },
    {
      "cell_type": "code",
      "source": [
        "#import the libraries\n",
        "from sklearn.linear_model import LogisticRegression\n",
        "from sklearn.metrics import confusion_matrix\n",
        "from sklearn.metrics import accuracy_score\n",
        "from sklearn.metrics import classification_report\n",
        "\n",
        "logistic = LogisticRegression(random_state = 42)\n",
        "# fit the x_train and y_train\n",
        "logistic.fit(X_train, y_train)\n",
        "#predict the model x_test\n",
        "y_pred = logistic.predict(X_test)\n",
        "# find accuracy score\n",
        "acc_1=accuracy_score(y_test, y_pred)\n",
        "#find the accuracy of the model \n",
        "accuracy1=round(acc_1*100,2)\n",
        "cm = confusion_matrix(y_test, y_pred)\n",
        "# print the confusion matrix\n",
        "print (\"Confusion Matrix : \\n\", cm)"
      ],
      "metadata": {
        "colab": {
          "base_uri": "https://localhost:8080/"
        },
        "id": "qkv2QULdf5Gv",
        "outputId": "043be29a-f3e6-45a9-c29b-e97fc0abae1a"
      },
      "execution_count": null,
      "outputs": [
        {
          "output_type": "stream",
          "name": "stdout",
          "text": [
            "Confusion Matrix : \n",
            " [[207 135]\n",
            " [ 94 269]]\n"
          ]
        },
        {
          "output_type": "stream",
          "name": "stderr",
          "text": [
            "/usr/local/lib/python3.7/dist-packages/sklearn/linear_model/_logistic.py:818: ConvergenceWarning: lbfgs failed to converge (status=1):\n",
            "STOP: TOTAL NO. of ITERATIONS REACHED LIMIT.\n",
            "\n",
            "Increase the number of iterations (max_iter) or scale the data as shown in:\n",
            "    https://scikit-learn.org/stable/modules/preprocessing.html\n",
            "Please also refer to the documentation for alternative solver options:\n",
            "    https://scikit-learn.org/stable/modules/linear_model.html#logistic-regression\n",
            "  extra_warning_msg=_LOGISTIC_SOLVER_CONVERGENCE_MSG,\n"
          ]
        }
      ]
    },
    {
      "cell_type": "code",
      "source": [
        "#print classification report\n",
        "print(classification_report(y_test,y_pred))\n",
        "print('The accuracy score of logistic regression is {}%'.format(accuracy1))"
      ],
      "metadata": {
        "colab": {
          "base_uri": "https://localhost:8080/"
        },
        "id": "ct6jWk62f5EP",
        "outputId": "66b39bb8-82a7-4d60-f09b-7d17118168da"
      },
      "execution_count": null,
      "outputs": [
        {
          "output_type": "stream",
          "name": "stdout",
          "text": [
            "              precision    recall  f1-score   support\n",
            "\n",
            "           0       0.69      0.61      0.64       342\n",
            "           1       0.67      0.74      0.70       363\n",
            "\n",
            "    accuracy                           0.68       705\n",
            "   macro avg       0.68      0.67      0.67       705\n",
            "weighted avg       0.68      0.68      0.67       705\n",
            "\n",
            "The accuracy score of logistic regression is 67.52%\n"
          ]
        }
      ]
    },
    {
      "cell_type": "markdown",
      "source": [
        "not a good precision value"
      ],
      "metadata": {
        "id": "IlRnqmzOIiFD"
      }
    },
    {
      "cell_type": "markdown",
      "source": [
        "**k nearest neighbour**"
      ],
      "metadata": {
        "id": "1-VjeSArhQgK"
      }
    },
    {
      "cell_type": "code",
      "source": [
        "from sklearn.neighbors import KNeighborsClassifier\n",
        "# fit the model\n",
        "k_neighbors = KNeighborsClassifier()\n",
        "k_neighbors.fit(X_train,y_train)\n",
        "#predict the x_train \n",
        "y_pred2 = k_neighbors.predict(X_test)\n",
        "#check the accuracy score of y_test,y_pred\n",
        "acc_2 = accuracy_score(y_test, y_pred2)\n",
        "accuracy2=round(acc_2*100,2)\n",
        "#print classification report\n",
        "print(classification_report(y_test,y_pred))\n",
        "print('The accuracy score of k nearest neighbors is {}%'.format(accuracy2))"
      ],
      "metadata": {
        "colab": {
          "base_uri": "https://localhost:8080/"
        },
        "id": "A4CzZ5qLhQL1",
        "outputId": "6ac18ef2-96ec-42ae-f19a-b2a756d522a6"
      },
      "execution_count": null,
      "outputs": [
        {
          "output_type": "stream",
          "name": "stdout",
          "text": [
            "              precision    recall  f1-score   support\n",
            "\n",
            "           0       0.69      0.61      0.64       342\n",
            "           1       0.67      0.74      0.70       363\n",
            "\n",
            "    accuracy                           0.68       705\n",
            "   macro avg       0.68      0.67      0.67       705\n",
            "weighted avg       0.68      0.68      0.67       705\n",
            "\n",
            "The accuracy score of k nearest neighbors is 92.2%\n"
          ]
        }
      ]
    },
    {
      "cell_type": "markdown",
      "source": [
        "Precision value is not good"
      ],
      "metadata": {
        "id": "x6ROu1jLIn5r"
      }
    },
    {
      "cell_type": "markdown",
      "source": [
        "**Naive bayes**"
      ],
      "metadata": {
        "id": "fy8l7OXwhmL-"
      }
    },
    {
      "cell_type": "code",
      "source": [
        "#import the libraries\n",
        "from sklearn.naive_bayes import GaussianNB\n",
        "from sklearn import metrics\n",
        "gnb = GaussianNB()\n",
        "# fit the x_train and y_train\n",
        "gnb.fit(X_train, y_train)\n",
        "y_pred = gnb.predict(X_test)\n",
        "#check the accuracy score\n",
        "acc3=metrics.accuracy_score(y_test, y_pred)\n",
        "#print the accuracy score \n",
        "accuracy3=round(acc3*100,2)\n",
        "print(classification_report(y_test,y_pred))\n",
        "\n",
        "print(\"Gaussian Naive Bayes model accuracy is {}%\".format(accuracy3))"
      ],
      "metadata": {
        "colab": {
          "base_uri": "https://localhost:8080/"
        },
        "id": "oG-hZ7wLf5Bg",
        "outputId": "64689c08-5b42-4512-c874-0d2d065d60f9"
      },
      "execution_count": null,
      "outputs": [
        {
          "output_type": "stream",
          "name": "stdout",
          "text": [
            "              precision    recall  f1-score   support\n",
            "\n",
            "           0       0.88      1.00      0.93       342\n",
            "           1       1.00      0.87      0.93       363\n",
            "\n",
            "    accuracy                           0.93       705\n",
            "   macro avg       0.94      0.93      0.93       705\n",
            "weighted avg       0.94      0.93      0.93       705\n",
            "\n",
            "Gaussian Naive Bayes model accuracy is 93.19%\n"
          ]
        }
      ]
    },
    {
      "cell_type": "markdown",
      "source": [
        "Precision value is good"
      ],
      "metadata": {
        "id": "MsiRx5pLIwis"
      }
    },
    {
      "cell_type": "code",
      "source": [
        "#DecisionTree\n",
        "from sklearn.tree import DecisionTreeClassifier\n",
        "decision_tree = DecisionTreeClassifier()\n",
        "#fit x_train and y_train\n",
        "decision_tree.fit(X_train,y_train)\n",
        "#predict xtest\n",
        "y_pred4 = decision_tree.predict(X_test)\n",
        "#check accuracy score\n",
        "acc_4 = accuracy_score(y_test, y_pred4)\n",
        "#find the score\n",
        "score4 = round(acc_4*100,2)\n",
        "#print classification report\n",
        "print(classification_report(y_test,y_pred))\n",
        "\n",
        "print('The accuracy score of Decision tree is {}%'.format(score4))"
      ],
      "metadata": {
        "colab": {
          "base_uri": "https://localhost:8080/"
        },
        "id": "hLD1-bRAKjef",
        "outputId": "693f6a53-5bff-4563-bc2b-64bc053c769f"
      },
      "execution_count": null,
      "outputs": [
        {
          "output_type": "stream",
          "name": "stdout",
          "text": [
            "              precision    recall  f1-score   support\n",
            "\n",
            "           0       0.88      1.00      0.93       342\n",
            "           1       1.00      0.87      0.93       363\n",
            "\n",
            "    accuracy                           0.93       705\n",
            "   macro avg       0.94      0.93      0.93       705\n",
            "weighted avg       0.94      0.93      0.93       705\n",
            "\n",
            "The accuracy score of Decision tree is 97.02%\n"
          ]
        }
      ]
    },
    {
      "cell_type": "code",
      "source": [
        "#RandomForestClassifier\n",
        "from sklearn.ensemble import RandomForestClassifier\n",
        "random_forest = RandomForestClassifier(random_state = 42)\n",
        "# fit our model in x_train and y_train\n",
        "random_forest.fit(X_train, y_train)\n",
        "#predict x_tarin\n",
        "ran = random_forest.predict(X_train)\n",
        "#predict x_test\n",
        "y_pred5 = random_forest.predict(X_test)\n",
        "#check the accuracy score\n",
        "acc_5 = accuracy_score(y_test, y_pred5)\n",
        "# now print the round \n",
        "score5 = round(acc_5*100,2)\n",
        "print(classification_report(y_test,y_pred))\n",
        "print('The accuracy score of random forest is {}%'.format(score5))"
      ],
      "metadata": {
        "colab": {
          "base_uri": "https://localhost:8080/"
        },
        "id": "zNHNHuAcLBGy",
        "outputId": "4857a0a1-ddfb-4934-c57e-284219646ef4"
      },
      "execution_count": null,
      "outputs": [
        {
          "output_type": "stream",
          "name": "stdout",
          "text": [
            "              precision    recall  f1-score   support\n",
            "\n",
            "           0       0.88      1.00      0.93       342\n",
            "           1       1.00      0.87      0.93       363\n",
            "\n",
            "    accuracy                           0.93       705\n",
            "   macro avg       0.94      0.93      0.93       705\n",
            "weighted avg       0.94      0.93      0.93       705\n",
            "\n",
            "The accuracy score of random forest is 97.73%\n"
          ]
        }
      ]
    },
    {
      "cell_type": "code",
      "source": [
        "#Train the XGboost Model for Classification\n",
        "import xgboost as xgb\n",
        "model1 = xgb.XGBClassifier()\n",
        "model2 = xgb.XGBClassifier(n_estimators=100, max_depth=8, learning_rate=0.1, subsample=0.5)\n",
        "# fit the model in x_train and y_train\n",
        "train_model1 = model1.fit(X_train, y_train)\n",
        "train_model2 = model2.fit(X_train, y_train)"
      ],
      "metadata": {
        "id": "DjSHZkNMLGRU"
      },
      "execution_count": null,
      "outputs": []
    },
    {
      "cell_type": "code",
      "source": [
        "#classification report for the model\n",
        "from sklearn.metrics import classification_report\n",
        "#predict the x_teat and y_teat\n",
        "pred1 = train_model1.predict(X_test)\n",
        "pred2 = train_model2.predict(X_test)\n",
        "#print the classification report\n",
        "print(classification_report(y_test, pred1))\n",
        "print(classification_report(y_test, pred2))"
      ],
      "metadata": {
        "colab": {
          "base_uri": "https://localhost:8080/"
        },
        "id": "6hEAXYhrMdWN",
        "outputId": "24b60c56-0485-4018-ee9b-a5fba7ecd19a"
      },
      "execution_count": null,
      "outputs": [
        {
          "output_type": "stream",
          "name": "stdout",
          "text": [
            "              precision    recall  f1-score   support\n",
            "\n",
            "           0       1.00      0.95      0.97       342\n",
            "           1       0.96      1.00      0.98       363\n",
            "\n",
            "    accuracy                           0.98       705\n",
            "   macro avg       0.98      0.98      0.98       705\n",
            "weighted avg       0.98      0.98      0.98       705\n",
            "\n",
            "              precision    recall  f1-score   support\n",
            "\n",
            "           0       1.00      0.96      0.98       342\n",
            "           1       0.96      1.00      0.98       363\n",
            "\n",
            "    accuracy                           0.98       705\n",
            "   macro avg       0.98      0.98      0.98       705\n",
            "weighted avg       0.98      0.98      0.98       705\n",
            "\n"
          ]
        }
      ]
    },
    {
      "cell_type": "markdown",
      "source": [
        "# **CONCLUSION**"
      ],
      "metadata": {
        "id": "DYFG8qh2xwpi"
      }
    },
    {
      "cell_type": "markdown",
      "source": [
        "1.I Implemented three classification algorithms on this dataset such as logistic regression KNN. Gaussian Naïve Bayes Decision Tree Random Forest XG Boost\n",
        "\n",
        "2.I check the accuracy of the model but most I focus on the precision value of the model because precision value plays most important role in lending company so more is precision more the model is correct.\n",
        "\n",
        "3.So XG Boost gave the maximum precision value so this model is best for this dataset.\n",
        "\n",
        "4 I can conclude from this data set that the maximum number of loan sanction of those customers whose age lies between 30 to 40\n",
        "\n",
        "5 Business type mostly manufacturing and trading\n",
        "\n",
        "6 Maximum number of loan cancelled of those customers whose age below 24 and above 50.\n",
        "\n",
        "7.Out of total applicant 42% application cancelled\n",
        "\n",
        "8 Average amount disbursed to the customers is 337857.11\n",
        "\n",
        "9.Very few customers get the loan amount above 500000.\n",
        "\n",
        "10.Those customer whose CIBIL score below 650 has less chances to sanction the loan and above the 650 chances of loan sanction increase\n",
        "\n"
      ],
      "metadata": {
        "id": "Lyep4zPbyuIW"
      }
    }
  ]
}